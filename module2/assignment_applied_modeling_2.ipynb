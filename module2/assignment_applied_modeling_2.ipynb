{
  "nbformat": 4,
  "nbformat_minor": 0,
  "metadata": {
    "kernelspec": {
      "display_name": "Python 3",
      "language": "python",
      "name": "python3"
    },
    "language_info": {
      "codemirror_mode": {
        "name": "ipython",
        "version": 3
      },
      "file_extension": ".py",
      "mimetype": "text/x-python",
      "name": "python",
      "nbconvert_exporter": "python",
      "pygments_lexer": "ipython3",
      "version": "3.7.4"
    },
    "colab": {
      "name": "assignment_applied_modeling_2.ipynb",
      "provenance": [],
      "include_colab_link": true
    }
  },
  "cells": [
    {
      "cell_type": "markdown",
      "metadata": {
        "id": "view-in-github",
        "colab_type": "text"
      },
      "source": [
        "<a href=\"https://colab.research.google.com/github/Pdugovich/DS-Unit-2-Applied-Modeling/blob/master/module2/assignment_applied_modeling_2.ipynb\" target=\"_parent\"><img src=\"https://colab.research.google.com/assets/colab-badge.svg\" alt=\"Open In Colab\"/></a>"
      ]
    },
    {
      "cell_type": "markdown",
      "metadata": {
        "id": "MBz6T6waB_Bw",
        "colab_type": "text"
      },
      "source": [
        "# Assignment 1"
      ]
    },
    {
      "cell_type": "markdown",
      "metadata": {
        "id": "q70tUSjJB_By",
        "colab_type": "text"
      },
      "source": [
        "Lambda School Data Science\n",
        "\n",
        "*Unit 2, Sprint 3, Module 1*\n",
        "\n",
        "---\n",
        "\n",
        "\n",
        "## Define ML problems\n",
        "\n",
        "You will use your portfolio project dataset for all assignments this sprint.\n",
        "\n",
        "## Assignment\n",
        "\n",
        "Complete these tasks for your project, and document your decisions.\n",
        "\n",
        "- [ ] Choose your target. Which column in your tabular dataset will you predict?\n",
        "- [ ] Choose which observations you will use to train, validate, and test your model. And which observations, if any, to exclude.\n",
        "- [ ] Determine whether your problem is regression or classification.\n",
        "- [ ] Choose your evaluation metric.\n",
        "- [ ] Begin to clean and explore your data.\n",
        "- [ ] Begin to choose which features, if any, to exclude. Would some features \"leak\" information from the future?\n"
      ]
    },
    {
      "cell_type": "code",
      "metadata": {
        "id": "_VdkZzMPB_Bz",
        "colab_type": "code",
        "colab": {}
      },
      "source": [
        "# Import libraries\n",
        "import pandas as pd\n",
        "import os"
      ],
      "execution_count": 0,
      "outputs": []
    },
    {
      "cell_type": "code",
      "metadata": {
        "id": "hkws36jdB_B3",
        "colab_type": "code",
        "colab": {}
      },
      "source": [
        "df_original = pd.read_csv('oh_columbus_2019_08_13.csv')"
      ],
      "execution_count": 0,
      "outputs": []
    },
    {
      "cell_type": "code",
      "metadata": {
        "id": "c3oZLQYaB_B7",
        "colab_type": "code",
        "colab": {},
        "outputId": "4129a29a-bf07-445b-b073-9509b13a4483"
      },
      "source": [
        "df_original.head()"
      ],
      "execution_count": 0,
      "outputs": [
        {
          "output_type": "execute_result",
          "data": {
            "text/html": [
              "<div>\n",
              "<style scoped>\n",
              "    .dataframe tbody tr th:only-of-type {\n",
              "        vertical-align: middle;\n",
              "    }\n",
              "\n",
              "    .dataframe tbody tr th {\n",
              "        vertical-align: top;\n",
              "    }\n",
              "\n",
              "    .dataframe thead th {\n",
              "        text-align: right;\n",
              "    }\n",
              "</style>\n",
              "<table border=\"1\" class=\"dataframe\">\n",
              "  <thead>\n",
              "    <tr style=\"text-align: right;\">\n",
              "      <th></th>\n",
              "      <th>raw_row_number</th>\n",
              "      <th>date</th>\n",
              "      <th>time</th>\n",
              "      <th>location</th>\n",
              "      <th>lat</th>\n",
              "      <th>lng</th>\n",
              "      <th>precinct</th>\n",
              "      <th>zone</th>\n",
              "      <th>subject_race</th>\n",
              "      <th>subject_sex</th>\n",
              "      <th>type</th>\n",
              "      <th>arrest_made</th>\n",
              "      <th>citation_issued</th>\n",
              "      <th>warning_issued</th>\n",
              "      <th>outcome</th>\n",
              "      <th>search_conducted</th>\n",
              "      <th>reason_for_stop</th>\n",
              "      <th>raw_enforcement_taken</th>\n",
              "    </tr>\n",
              "  </thead>\n",
              "  <tbody>\n",
              "    <tr>\n",
              "      <td>0</td>\n",
              "      <td>1|2|3</td>\n",
              "      <td>2012-01-01</td>\n",
              "      <td>01:16:00</td>\n",
              "      <td>livingston and carpenter</td>\n",
              "      <td>39.949920</td>\n",
              "      <td>-82.975067</td>\n",
              "      <td>11.0</td>\n",
              "      <td>5.0</td>\n",
              "      <td>white</td>\n",
              "      <td>female</td>\n",
              "      <td>vehicular</td>\n",
              "      <td>True</td>\n",
              "      <td>False</td>\n",
              "      <td>False</td>\n",
              "      <td>arrest</td>\n",
              "      <td>True</td>\n",
              "      <td>Moving Violation</td>\n",
              "      <td>Arrest|Vehicle Search|Driver Search</td>\n",
              "    </tr>\n",
              "    <tr>\n",
              "      <td>1</td>\n",
              "      <td>4</td>\n",
              "      <td>2012-01-01</td>\n",
              "      <td>01:20:00</td>\n",
              "      <td>E 16th Ave and Waldeck Ave</td>\n",
              "      <td>40.001043</td>\n",
              "      <td>-83.006871</td>\n",
              "      <td>4.0</td>\n",
              "      <td>4.0</td>\n",
              "      <td>white</td>\n",
              "      <td>male</td>\n",
              "      <td>vehicular</td>\n",
              "      <td>False</td>\n",
              "      <td>False</td>\n",
              "      <td>True</td>\n",
              "      <td>warning</td>\n",
              "      <td>False</td>\n",
              "      <td>Moving Violation</td>\n",
              "      <td>Verbal Warning</td>\n",
              "    </tr>\n",
              "    <tr>\n",
              "      <td>2</td>\n",
              "      <td>5</td>\n",
              "      <td>2012-01-01</td>\n",
              "      <td>07:54:00</td>\n",
              "      <td>king ave and cannon dr</td>\n",
              "      <td>39.990708</td>\n",
              "      <td>-83.020528</td>\n",
              "      <td>NaN</td>\n",
              "      <td>NaN</td>\n",
              "      <td>black</td>\n",
              "      <td>male</td>\n",
              "      <td>vehicular</td>\n",
              "      <td>False</td>\n",
              "      <td>False</td>\n",
              "      <td>True</td>\n",
              "      <td>warning</td>\n",
              "      <td>False</td>\n",
              "      <td>Moving Violation</td>\n",
              "      <td>Verbal Warning</td>\n",
              "    </tr>\n",
              "    <tr>\n",
              "      <td>3</td>\n",
              "      <td>6</td>\n",
              "      <td>2012-01-01</td>\n",
              "      <td>10:00:00</td>\n",
              "      <td>James rd and Livingston ave</td>\n",
              "      <td>39.946876</td>\n",
              "      <td>-82.915567</td>\n",
              "      <td>9.0</td>\n",
              "      <td>2.0</td>\n",
              "      <td>black</td>\n",
              "      <td>male</td>\n",
              "      <td>vehicular</td>\n",
              "      <td>False</td>\n",
              "      <td>False</td>\n",
              "      <td>True</td>\n",
              "      <td>warning</td>\n",
              "      <td>False</td>\n",
              "      <td>Moving Violation</td>\n",
              "      <td>Verbal Warning</td>\n",
              "    </tr>\n",
              "    <tr>\n",
              "      <td>4</td>\n",
              "      <td>7</td>\n",
              "      <td>2012-01-01</td>\n",
              "      <td>10:50:00</td>\n",
              "      <td>N Wilson Road and Twin Creeks</td>\n",
              "      <td>39.979569</td>\n",
              "      <td>-83.102749</td>\n",
              "      <td>15.0</td>\n",
              "      <td>3.0</td>\n",
              "      <td>black</td>\n",
              "      <td>female</td>\n",
              "      <td>vehicular</td>\n",
              "      <td>False</td>\n",
              "      <td>False</td>\n",
              "      <td>True</td>\n",
              "      <td>warning</td>\n",
              "      <td>False</td>\n",
              "      <td>Moving Violation</td>\n",
              "      <td>Verbal Warning</td>\n",
              "    </tr>\n",
              "  </tbody>\n",
              "</table>\n",
              "</div>"
            ],
            "text/plain": [
              "  raw_row_number        date      time                       location  \\\n",
              "0          1|2|3  2012-01-01  01:16:00       livingston and carpenter   \n",
              "1              4  2012-01-01  01:20:00     E 16th Ave and Waldeck Ave   \n",
              "2              5  2012-01-01  07:54:00         king ave and cannon dr   \n",
              "3              6  2012-01-01  10:00:00    James rd and Livingston ave   \n",
              "4              7  2012-01-01  10:50:00  N Wilson Road and Twin Creeks   \n",
              "\n",
              "         lat        lng  precinct  zone subject_race subject_sex       type  \\\n",
              "0  39.949920 -82.975067      11.0   5.0        white      female  vehicular   \n",
              "1  40.001043 -83.006871       4.0   4.0        white        male  vehicular   \n",
              "2  39.990708 -83.020528       NaN   NaN        black        male  vehicular   \n",
              "3  39.946876 -82.915567       9.0   2.0        black        male  vehicular   \n",
              "4  39.979569 -83.102749      15.0   3.0        black      female  vehicular   \n",
              "\n",
              "   arrest_made  citation_issued  warning_issued  outcome  search_conducted  \\\n",
              "0         True            False           False   arrest              True   \n",
              "1        False            False            True  warning             False   \n",
              "2        False            False            True  warning             False   \n",
              "3        False            False            True  warning             False   \n",
              "4        False            False            True  warning             False   \n",
              "\n",
              "    reason_for_stop                raw_enforcement_taken  \n",
              "0  Moving Violation  Arrest|Vehicle Search|Driver Search  \n",
              "1  Moving Violation                       Verbal Warning  \n",
              "2  Moving Violation                       Verbal Warning  \n",
              "3  Moving Violation                       Verbal Warning  \n",
              "4  Moving Violation                       Verbal Warning  "
            ]
          },
          "metadata": {
            "tags": []
          },
          "execution_count": 199
        }
      ]
    },
    {
      "cell_type": "code",
      "metadata": {
        "id": "6CpY-zmbB_B_",
        "colab_type": "code",
        "colab": {}
      },
      "source": [
        "#Making a duplicate of the dataframe to retain the original\n",
        "df = df_original.copy()"
      ],
      "execution_count": 0,
      "outputs": []
    },
    {
      "cell_type": "markdown",
      "metadata": {
        "id": "eLNWGc9zB_CC",
        "colab_type": "text"
      },
      "source": [
        "## Selecting a target"
      ]
    },
    {
      "cell_type": "markdown",
      "metadata": {
        "id": "fBGDaKVwB_CD",
        "colab_type": "text"
      },
      "source": [
        "I'll be trying to predict whether an action is taken against the person being pulled over, this includes 'arrest' or 'citation'. The alternative is 'warning'"
      ]
    },
    {
      "cell_type": "markdown",
      "metadata": {
        "id": "lHJ3mmRcB_CE",
        "colab_type": "text"
      },
      "source": [
        "## Selecting how to train/test split"
      ]
    },
    {
      "cell_type": "markdown",
      "metadata": {
        "id": "dw5tIuXUB_CF",
        "colab_type": "text"
      },
      "source": [
        "The dates range from the start of 2012 to the end of 2016. I'll try a couple different splits, but first, I'm going to train on 2012-2015, validate on 2015, then test on 2016. I might also try randomized or time-series crossvalidation."
      ]
    },
    {
      "cell_type": "code",
      "metadata": {
        "id": "yUnSLPM9B_CG",
        "colab_type": "code",
        "colab": {},
        "outputId": "2f2eaf00-8ab4-4b1f-dcc6-b8795a4b3b92"
      },
      "source": [
        "\n",
        "df.dtypes"
      ],
      "execution_count": 0,
      "outputs": [
        {
          "output_type": "execute_result",
          "data": {
            "text/plain": [
              "raw_row_number            object\n",
              "date                      object\n",
              "time                      object\n",
              "location                  object\n",
              "lat                      float64\n",
              "lng                      float64\n",
              "precinct                 float64\n",
              "zone                     float64\n",
              "subject_race              object\n",
              "subject_sex               object\n",
              "type                      object\n",
              "arrest_made                 bool\n",
              "citation_issued             bool\n",
              "warning_issued              bool\n",
              "outcome                   object\n",
              "search_conducted            bool\n",
              "reason_for_stop           object\n",
              "raw_enforcement_taken     object\n",
              "dtype: object"
            ]
          },
          "metadata": {
            "tags": []
          },
          "execution_count": 201
        }
      ]
    },
    {
      "cell_type": "code",
      "metadata": {
        "id": "vd96XbkWB_CK",
        "colab_type": "code",
        "colab": {}
      },
      "source": [
        "# Converting date and time to datetime format to split the data"
      ],
      "execution_count": 0,
      "outputs": []
    },
    {
      "cell_type": "code",
      "metadata": {
        "id": "YVyts4rZB_CO",
        "colab_type": "code",
        "colab": {}
      },
      "source": [
        "df['date'] = pd.to_datetime(df['date'])"
      ],
      "execution_count": 0,
      "outputs": []
    },
    {
      "cell_type": "code",
      "metadata": {
        "id": "2oBSkBKeB_CR",
        "colab_type": "code",
        "colab": {},
        "outputId": "72fff11a-1641-43d3-8373-65b92e0cce9c"
      },
      "source": [
        "df['date']"
      ],
      "execution_count": 0,
      "outputs": [
        {
          "output_type": "execute_result",
          "data": {
            "text/plain": [
              "0        2012-01-01\n",
              "1        2012-01-01\n",
              "2        2012-01-01\n",
              "3        2012-01-01\n",
              "4        2012-01-01\n",
              "            ...    \n",
              "128152   2016-12-30\n",
              "128153   2016-12-30\n",
              "128154   2016-12-30\n",
              "128155   2016-12-30\n",
              "128156   2016-12-30\n",
              "Name: date, Length: 128157, dtype: datetime64[ns]"
            ]
          },
          "metadata": {
            "tags": []
          },
          "execution_count": 204
        }
      ]
    },
    {
      "cell_type": "code",
      "metadata": {
        "id": "BaPThbK5B_CV",
        "colab_type": "code",
        "colab": {}
      },
      "source": [
        "#Separating my data\n",
        "my_train = df[df['date'] <= '2014-12-31']\n",
        "my_val = df[(df['date'] >= '2015-01-01') & (df['date'] <= '2015-12-31')]\n",
        "test = df[df['date'] >= '2016-01-01']"
      ],
      "execution_count": 0,
      "outputs": []
    },
    {
      "cell_type": "code",
      "metadata": {
        "id": "I5jYV2OyB_CY",
        "colab_type": "code",
        "colab": {},
        "outputId": "3d8354eb-f6a5-4ebb-c348-b96ae73f46af"
      },
      "source": [
        "my_train.head()"
      ],
      "execution_count": 0,
      "outputs": [
        {
          "output_type": "execute_result",
          "data": {
            "text/html": [
              "<div>\n",
              "<style scoped>\n",
              "    .dataframe tbody tr th:only-of-type {\n",
              "        vertical-align: middle;\n",
              "    }\n",
              "\n",
              "    .dataframe tbody tr th {\n",
              "        vertical-align: top;\n",
              "    }\n",
              "\n",
              "    .dataframe thead th {\n",
              "        text-align: right;\n",
              "    }\n",
              "</style>\n",
              "<table border=\"1\" class=\"dataframe\">\n",
              "  <thead>\n",
              "    <tr style=\"text-align: right;\">\n",
              "      <th></th>\n",
              "      <th>raw_row_number</th>\n",
              "      <th>date</th>\n",
              "      <th>time</th>\n",
              "      <th>location</th>\n",
              "      <th>lat</th>\n",
              "      <th>lng</th>\n",
              "      <th>precinct</th>\n",
              "      <th>zone</th>\n",
              "      <th>subject_race</th>\n",
              "      <th>subject_sex</th>\n",
              "      <th>type</th>\n",
              "      <th>arrest_made</th>\n",
              "      <th>citation_issued</th>\n",
              "      <th>warning_issued</th>\n",
              "      <th>outcome</th>\n",
              "      <th>search_conducted</th>\n",
              "      <th>reason_for_stop</th>\n",
              "      <th>raw_enforcement_taken</th>\n",
              "    </tr>\n",
              "  </thead>\n",
              "  <tbody>\n",
              "    <tr>\n",
              "      <td>0</td>\n",
              "      <td>1|2|3</td>\n",
              "      <td>2012-01-01</td>\n",
              "      <td>01:16:00</td>\n",
              "      <td>livingston and carpenter</td>\n",
              "      <td>39.949920</td>\n",
              "      <td>-82.975067</td>\n",
              "      <td>11.0</td>\n",
              "      <td>5.0</td>\n",
              "      <td>white</td>\n",
              "      <td>female</td>\n",
              "      <td>vehicular</td>\n",
              "      <td>True</td>\n",
              "      <td>False</td>\n",
              "      <td>False</td>\n",
              "      <td>arrest</td>\n",
              "      <td>True</td>\n",
              "      <td>Moving Violation</td>\n",
              "      <td>Arrest|Vehicle Search|Driver Search</td>\n",
              "    </tr>\n",
              "    <tr>\n",
              "      <td>1</td>\n",
              "      <td>4</td>\n",
              "      <td>2012-01-01</td>\n",
              "      <td>01:20:00</td>\n",
              "      <td>E 16th Ave and Waldeck Ave</td>\n",
              "      <td>40.001043</td>\n",
              "      <td>-83.006871</td>\n",
              "      <td>4.0</td>\n",
              "      <td>4.0</td>\n",
              "      <td>white</td>\n",
              "      <td>male</td>\n",
              "      <td>vehicular</td>\n",
              "      <td>False</td>\n",
              "      <td>False</td>\n",
              "      <td>True</td>\n",
              "      <td>warning</td>\n",
              "      <td>False</td>\n",
              "      <td>Moving Violation</td>\n",
              "      <td>Verbal Warning</td>\n",
              "    </tr>\n",
              "    <tr>\n",
              "      <td>2</td>\n",
              "      <td>5</td>\n",
              "      <td>2012-01-01</td>\n",
              "      <td>07:54:00</td>\n",
              "      <td>king ave and cannon dr</td>\n",
              "      <td>39.990708</td>\n",
              "      <td>-83.020528</td>\n",
              "      <td>NaN</td>\n",
              "      <td>NaN</td>\n",
              "      <td>black</td>\n",
              "      <td>male</td>\n",
              "      <td>vehicular</td>\n",
              "      <td>False</td>\n",
              "      <td>False</td>\n",
              "      <td>True</td>\n",
              "      <td>warning</td>\n",
              "      <td>False</td>\n",
              "      <td>Moving Violation</td>\n",
              "      <td>Verbal Warning</td>\n",
              "    </tr>\n",
              "    <tr>\n",
              "      <td>3</td>\n",
              "      <td>6</td>\n",
              "      <td>2012-01-01</td>\n",
              "      <td>10:00:00</td>\n",
              "      <td>James rd and Livingston ave</td>\n",
              "      <td>39.946876</td>\n",
              "      <td>-82.915567</td>\n",
              "      <td>9.0</td>\n",
              "      <td>2.0</td>\n",
              "      <td>black</td>\n",
              "      <td>male</td>\n",
              "      <td>vehicular</td>\n",
              "      <td>False</td>\n",
              "      <td>False</td>\n",
              "      <td>True</td>\n",
              "      <td>warning</td>\n",
              "      <td>False</td>\n",
              "      <td>Moving Violation</td>\n",
              "      <td>Verbal Warning</td>\n",
              "    </tr>\n",
              "    <tr>\n",
              "      <td>4</td>\n",
              "      <td>7</td>\n",
              "      <td>2012-01-01</td>\n",
              "      <td>10:50:00</td>\n",
              "      <td>N Wilson Road and Twin Creeks</td>\n",
              "      <td>39.979569</td>\n",
              "      <td>-83.102749</td>\n",
              "      <td>15.0</td>\n",
              "      <td>3.0</td>\n",
              "      <td>black</td>\n",
              "      <td>female</td>\n",
              "      <td>vehicular</td>\n",
              "      <td>False</td>\n",
              "      <td>False</td>\n",
              "      <td>True</td>\n",
              "      <td>warning</td>\n",
              "      <td>False</td>\n",
              "      <td>Moving Violation</td>\n",
              "      <td>Verbal Warning</td>\n",
              "    </tr>\n",
              "  </tbody>\n",
              "</table>\n",
              "</div>"
            ],
            "text/plain": [
              "  raw_row_number       date      time                       location  \\\n",
              "0          1|2|3 2012-01-01  01:16:00       livingston and carpenter   \n",
              "1              4 2012-01-01  01:20:00     E 16th Ave and Waldeck Ave   \n",
              "2              5 2012-01-01  07:54:00         king ave and cannon dr   \n",
              "3              6 2012-01-01  10:00:00    James rd and Livingston ave   \n",
              "4              7 2012-01-01  10:50:00  N Wilson Road and Twin Creeks   \n",
              "\n",
              "         lat        lng  precinct  zone subject_race subject_sex       type  \\\n",
              "0  39.949920 -82.975067      11.0   5.0        white      female  vehicular   \n",
              "1  40.001043 -83.006871       4.0   4.0        white        male  vehicular   \n",
              "2  39.990708 -83.020528       NaN   NaN        black        male  vehicular   \n",
              "3  39.946876 -82.915567       9.0   2.0        black        male  vehicular   \n",
              "4  39.979569 -83.102749      15.0   3.0        black      female  vehicular   \n",
              "\n",
              "   arrest_made  citation_issued  warning_issued  outcome  search_conducted  \\\n",
              "0         True            False           False   arrest              True   \n",
              "1        False            False            True  warning             False   \n",
              "2        False            False            True  warning             False   \n",
              "3        False            False            True  warning             False   \n",
              "4        False            False            True  warning             False   \n",
              "\n",
              "    reason_for_stop                raw_enforcement_taken  \n",
              "0  Moving Violation  Arrest|Vehicle Search|Driver Search  \n",
              "1  Moving Violation                       Verbal Warning  \n",
              "2  Moving Violation                       Verbal Warning  \n",
              "3  Moving Violation                       Verbal Warning  \n",
              "4  Moving Violation                       Verbal Warning  "
            ]
          },
          "metadata": {
            "tags": []
          },
          "execution_count": 206
        }
      ]
    },
    {
      "cell_type": "code",
      "metadata": {
        "id": "R5EwS3pmB_Cb",
        "colab_type": "code",
        "colab": {},
        "outputId": "3d2910c8-2563-46a3-d750-d29f9f1bf35f"
      },
      "source": [
        "my_train.shape,my_val.shape,test.shape"
      ],
      "execution_count": 0,
      "outputs": [
        {
          "output_type": "execute_result",
          "data": {
            "text/plain": [
              "((79281, 18), (24126, 18), (24750, 18))"
            ]
          },
          "metadata": {
            "tags": []
          },
          "execution_count": 207
        }
      ]
    },
    {
      "cell_type": "code",
      "metadata": {
        "id": "iLXtacc-B_Cf",
        "colab_type": "code",
        "colab": {},
        "outputId": "8714796a-5b5a-4e23-af53-98cdd6a54c00"
      },
      "source": [
        "#Checking to make sure I grabbed all of the data\n",
        "my_train.shape[0] + my_val.shape[0] + test.shape[0] == df.shape[0]"
      ],
      "execution_count": 0,
      "outputs": [
        {
          "output_type": "execute_result",
          "data": {
            "text/plain": [
              "True"
            ]
          },
          "metadata": {
            "tags": []
          },
          "execution_count": 208
        }
      ]
    },
    {
      "cell_type": "code",
      "metadata": {
        "id": "dMbNHRlmB_Ci",
        "colab_type": "code",
        "colab": {},
        "outputId": "e9c2421a-b5be-404e-fc2b-033fd33391c0"
      },
      "source": [
        "df.shape"
      ],
      "execution_count": 0,
      "outputs": [
        {
          "output_type": "execute_result",
          "data": {
            "text/plain": [
              "(128157, 18)"
            ]
          },
          "metadata": {
            "tags": []
          },
          "execution_count": 209
        }
      ]
    },
    {
      "cell_type": "markdown",
      "metadata": {
        "id": "2FVxo69UB_Cl",
        "colab_type": "text"
      },
      "source": [
        "## Regression or Classification?\n",
        "This will be a binary classification"
      ]
    },
    {
      "cell_type": "code",
      "metadata": {
        "id": "DKbrmZptB_Cm",
        "colab_type": "code",
        "colab": {},
        "outputId": "b9627ffb-7ebb-4442-cccb-41c405ad93a3"
      },
      "source": [
        "#Citation and arrest will be merged into a single value and be the \n",
        "my_train['outcome'].value_counts(normalize=True)"
      ],
      "execution_count": 0,
      "outputs": [
        {
          "output_type": "execute_result",
          "data": {
            "text/plain": [
              "citation    0.555233\n",
              "warning     0.405169\n",
              "arrest      0.039598\n",
              "Name: outcome, dtype: float64"
            ]
          },
          "metadata": {
            "tags": []
          },
          "execution_count": 210
        }
      ]
    },
    {
      "cell_type": "markdown",
      "metadata": {
        "id": "ucs6nUnkB_Cp",
        "colab_type": "text"
      },
      "source": [
        "## Evaluation Metric\n",
        "I will be using roc/auc to evaluate. I might also use accuracy, since I believe I can improve greatly over baseline."
      ]
    },
    {
      "cell_type": "markdown",
      "metadata": {
        "id": "d7zO5HT1B_Cq",
        "colab_type": "text"
      },
      "source": [
        "## Data Exploration / Cleaning"
      ]
    },
    {
      "cell_type": "code",
      "metadata": {
        "id": "76XVR2lQB_Cr",
        "colab_type": "code",
        "colab": {},
        "outputId": "fa338678-a46d-47e9-8f59-fe4a6fc879c5"
      },
      "source": [
        "my_train.describe()"
      ],
      "execution_count": 0,
      "outputs": [
        {
          "output_type": "execute_result",
          "data": {
            "text/html": [
              "<div>\n",
              "<style scoped>\n",
              "    .dataframe tbody tr th:only-of-type {\n",
              "        vertical-align: middle;\n",
              "    }\n",
              "\n",
              "    .dataframe tbody tr th {\n",
              "        vertical-align: top;\n",
              "    }\n",
              "\n",
              "    .dataframe thead th {\n",
              "        text-align: right;\n",
              "    }\n",
              "</style>\n",
              "<table border=\"1\" class=\"dataframe\">\n",
              "  <thead>\n",
              "    <tr style=\"text-align: right;\">\n",
              "      <th></th>\n",
              "      <th>lat</th>\n",
              "      <th>lng</th>\n",
              "      <th>precinct</th>\n",
              "      <th>zone</th>\n",
              "    </tr>\n",
              "  </thead>\n",
              "  <tbody>\n",
              "    <tr>\n",
              "      <td>count</td>\n",
              "      <td>72577.000000</td>\n",
              "      <td>72577.000000</td>\n",
              "      <td>69423.000000</td>\n",
              "      <td>69423.000000</td>\n",
              "    </tr>\n",
              "    <tr>\n",
              "      <td>mean</td>\n",
              "      <td>39.991674</td>\n",
              "      <td>-82.985187</td>\n",
              "      <td>10.144131</td>\n",
              "      <td>3.223010</td>\n",
              "    </tr>\n",
              "    <tr>\n",
              "      <td>std</td>\n",
              "      <td>0.061422</td>\n",
              "      <td>0.076864</td>\n",
              "      <td>5.670301</td>\n",
              "      <td>1.472846</td>\n",
              "    </tr>\n",
              "    <tr>\n",
              "      <td>min</td>\n",
              "      <td>39.414070</td>\n",
              "      <td>-84.164396</td>\n",
              "      <td>1.000000</td>\n",
              "      <td>1.000000</td>\n",
              "    </tr>\n",
              "    <tr>\n",
              "      <td>25%</td>\n",
              "      <td>39.952456</td>\n",
              "      <td>-83.017007</td>\n",
              "      <td>5.000000</td>\n",
              "      <td>2.000000</td>\n",
              "    </tr>\n",
              "    <tr>\n",
              "      <td>50%</td>\n",
              "      <td>39.977232</td>\n",
              "      <td>-82.991951</td>\n",
              "      <td>10.000000</td>\n",
              "      <td>4.000000</td>\n",
              "    </tr>\n",
              "    <tr>\n",
              "      <td>75%</td>\n",
              "      <td>40.023498</td>\n",
              "      <td>-82.958907</td>\n",
              "      <td>16.000000</td>\n",
              "      <td>5.000000</td>\n",
              "    </tr>\n",
              "    <tr>\n",
              "      <td>max</td>\n",
              "      <td>40.602883</td>\n",
              "      <td>-80.715531</td>\n",
              "      <td>20.000000</td>\n",
              "      <td>5.000000</td>\n",
              "    </tr>\n",
              "  </tbody>\n",
              "</table>\n",
              "</div>"
            ],
            "text/plain": [
              "                lat           lng      precinct          zone\n",
              "count  72577.000000  72577.000000  69423.000000  69423.000000\n",
              "mean      39.991674    -82.985187     10.144131      3.223010\n",
              "std        0.061422      0.076864      5.670301      1.472846\n",
              "min       39.414070    -84.164396      1.000000      1.000000\n",
              "25%       39.952456    -83.017007      5.000000      2.000000\n",
              "50%       39.977232    -82.991951     10.000000      4.000000\n",
              "75%       40.023498    -82.958907     16.000000      5.000000\n",
              "max       40.602883    -80.715531     20.000000      5.000000"
            ]
          },
          "metadata": {
            "tags": []
          },
          "execution_count": 211
        }
      ]
    },
    {
      "cell_type": "code",
      "metadata": {
        "id": "8u57BH1_B_Cv",
        "colab_type": "code",
        "colab": {},
        "outputId": "c5fc4046-59e5-426d-a254-b15cda7d31c4"
      },
      "source": [
        "my_train.describe(exclude='number')"
      ],
      "execution_count": 0,
      "outputs": [
        {
          "output_type": "execute_result",
          "data": {
            "text/html": [
              "<div>\n",
              "<style scoped>\n",
              "    .dataframe tbody tr th:only-of-type {\n",
              "        vertical-align: middle;\n",
              "    }\n",
              "\n",
              "    .dataframe tbody tr th {\n",
              "        vertical-align: top;\n",
              "    }\n",
              "\n",
              "    .dataframe thead th {\n",
              "        text-align: right;\n",
              "    }\n",
              "</style>\n",
              "<table border=\"1\" class=\"dataframe\">\n",
              "  <thead>\n",
              "    <tr style=\"text-align: right;\">\n",
              "      <th></th>\n",
              "      <th>raw_row_number</th>\n",
              "      <th>date</th>\n",
              "      <th>time</th>\n",
              "      <th>location</th>\n",
              "      <th>subject_race</th>\n",
              "      <th>subject_sex</th>\n",
              "      <th>type</th>\n",
              "      <th>arrest_made</th>\n",
              "      <th>citation_issued</th>\n",
              "      <th>warning_issued</th>\n",
              "      <th>outcome</th>\n",
              "      <th>search_conducted</th>\n",
              "      <th>reason_for_stop</th>\n",
              "      <th>raw_enforcement_taken</th>\n",
              "    </tr>\n",
              "  </thead>\n",
              "  <tbody>\n",
              "    <tr>\n",
              "      <td>count</td>\n",
              "      <td>79281</td>\n",
              "      <td>79281</td>\n",
              "      <td>79163</td>\n",
              "      <td>79281</td>\n",
              "      <td>79281</td>\n",
              "      <td>79281</td>\n",
              "      <td>79281</td>\n",
              "      <td>79281</td>\n",
              "      <td>79281</td>\n",
              "      <td>79281</td>\n",
              "      <td>79246</td>\n",
              "      <td>79281</td>\n",
              "      <td>79281</td>\n",
              "      <td>79281</td>\n",
              "    </tr>\n",
              "    <tr>\n",
              "      <td>unique</td>\n",
              "      <td>79281</td>\n",
              "      <td>1096</td>\n",
              "      <td>1437</td>\n",
              "      <td>35986</td>\n",
              "      <td>5</td>\n",
              "      <td>2</td>\n",
              "      <td>1</td>\n",
              "      <td>2</td>\n",
              "      <td>2</td>\n",
              "      <td>2</td>\n",
              "      <td>3</td>\n",
              "      <td>2</td>\n",
              "      <td>4</td>\n",
              "      <td>120</td>\n",
              "    </tr>\n",
              "    <tr>\n",
              "      <td>top</td>\n",
              "      <td>86130</td>\n",
              "      <td>2012-02-03 00:00:00</td>\n",
              "      <td>16:00:00</td>\n",
              "      <td>70 and CHAMPION</td>\n",
              "      <td>white</td>\n",
              "      <td>male</td>\n",
              "      <td>vehicular</td>\n",
              "      <td>False</td>\n",
              "      <td>True</td>\n",
              "      <td>False</td>\n",
              "      <td>citation</td>\n",
              "      <td>False</td>\n",
              "      <td>Moving Violation</td>\n",
              "      <td>Traffic Citation</td>\n",
              "    </tr>\n",
              "    <tr>\n",
              "      <td>freq</td>\n",
              "      <td>1</td>\n",
              "      <td>162</td>\n",
              "      <td>247</td>\n",
              "      <td>645</td>\n",
              "      <td>40114</td>\n",
              "      <td>51984</td>\n",
              "      <td>79281</td>\n",
              "      <td>76143</td>\n",
              "      <td>46299</td>\n",
              "      <td>46480</td>\n",
              "      <td>44000</td>\n",
              "      <td>74350</td>\n",
              "      <td>59412</td>\n",
              "      <td>39778</td>\n",
              "    </tr>\n",
              "    <tr>\n",
              "      <td>first</td>\n",
              "      <td>NaN</td>\n",
              "      <td>2012-01-01 00:00:00</td>\n",
              "      <td>NaN</td>\n",
              "      <td>NaN</td>\n",
              "      <td>NaN</td>\n",
              "      <td>NaN</td>\n",
              "      <td>NaN</td>\n",
              "      <td>NaN</td>\n",
              "      <td>NaN</td>\n",
              "      <td>NaN</td>\n",
              "      <td>NaN</td>\n",
              "      <td>NaN</td>\n",
              "      <td>NaN</td>\n",
              "      <td>NaN</td>\n",
              "    </tr>\n",
              "    <tr>\n",
              "      <td>last</td>\n",
              "      <td>NaN</td>\n",
              "      <td>2014-12-31 00:00:00</td>\n",
              "      <td>NaN</td>\n",
              "      <td>NaN</td>\n",
              "      <td>NaN</td>\n",
              "      <td>NaN</td>\n",
              "      <td>NaN</td>\n",
              "      <td>NaN</td>\n",
              "      <td>NaN</td>\n",
              "      <td>NaN</td>\n",
              "      <td>NaN</td>\n",
              "      <td>NaN</td>\n",
              "      <td>NaN</td>\n",
              "      <td>NaN</td>\n",
              "    </tr>\n",
              "  </tbody>\n",
              "</table>\n",
              "</div>"
            ],
            "text/plain": [
              "       raw_row_number                 date      time         location  \\\n",
              "count           79281                79281     79163            79281   \n",
              "unique          79281                 1096      1437            35986   \n",
              "top             86130  2012-02-03 00:00:00  16:00:00  70 and CHAMPION   \n",
              "freq                1                  162       247              645   \n",
              "first             NaN  2012-01-01 00:00:00       NaN              NaN   \n",
              "last              NaN  2014-12-31 00:00:00       NaN              NaN   \n",
              "\n",
              "       subject_race subject_sex       type arrest_made citation_issued  \\\n",
              "count         79281       79281      79281       79281           79281   \n",
              "unique            5           2          1           2               2   \n",
              "top           white        male  vehicular       False            True   \n",
              "freq          40114       51984      79281       76143           46299   \n",
              "first           NaN         NaN        NaN         NaN             NaN   \n",
              "last            NaN         NaN        NaN         NaN             NaN   \n",
              "\n",
              "       warning_issued   outcome search_conducted   reason_for_stop  \\\n",
              "count           79281     79246            79281             79281   \n",
              "unique              2         3                2                 4   \n",
              "top             False  citation            False  Moving Violation   \n",
              "freq            46480     44000            74350             59412   \n",
              "first             NaN       NaN              NaN               NaN   \n",
              "last              NaN       NaN              NaN               NaN   \n",
              "\n",
              "       raw_enforcement_taken  \n",
              "count                  79281  \n",
              "unique                   120  \n",
              "top         Traffic Citation  \n",
              "freq                   39778  \n",
              "first                    NaN  \n",
              "last                     NaN  "
            ]
          },
          "metadata": {
            "tags": []
          },
          "execution_count": 212
        }
      ]
    },
    {
      "cell_type": "code",
      "metadata": {
        "id": "3XAHfFvnB_Cy",
        "colab_type": "code",
        "colab": {},
        "outputId": "08899b09-2b18-4b0b-abc2-fe8d6a96e6ea"
      },
      "source": [
        "my_train.isnull().sum()"
      ],
      "execution_count": 0,
      "outputs": [
        {
          "output_type": "execute_result",
          "data": {
            "text/plain": [
              "raw_row_number              0\n",
              "date                        0\n",
              "time                      118\n",
              "location                    0\n",
              "lat                      6704\n",
              "lng                      6704\n",
              "precinct                 9858\n",
              "zone                     9858\n",
              "subject_race                0\n",
              "subject_sex                 0\n",
              "type                        0\n",
              "arrest_made                 0\n",
              "citation_issued             0\n",
              "warning_issued              0\n",
              "outcome                    35\n",
              "search_conducted            0\n",
              "reason_for_stop             0\n",
              "raw_enforcement_taken       0\n",
              "dtype: int64"
            ]
          },
          "metadata": {
            "tags": []
          },
          "execution_count": 213
        }
      ]
    },
    {
      "cell_type": "markdown",
      "metadata": {
        "id": "aGUFTdIBB_C1",
        "colab_type": "text"
      },
      "source": [
        "This is interesting. All of the entries where an outcome is missing, there were vehicle searches.\n",
        "Still, there are only 35 instances. It's probably safe to drop all of the nan outcomes without losing any value"
      ]
    },
    {
      "cell_type": "code",
      "metadata": {
        "id": "g2e9xZ4BB_C2",
        "colab_type": "code",
        "colab": {},
        "outputId": "fb20503d-3a97-4dbb-e50c-24ee025c24be"
      },
      "source": [
        "my_train[my_train['outcome'].isnull() == True]"
      ],
      "execution_count": 0,
      "outputs": [
        {
          "output_type": "execute_result",
          "data": {
            "text/html": [
              "<div>\n",
              "<style scoped>\n",
              "    .dataframe tbody tr th:only-of-type {\n",
              "        vertical-align: middle;\n",
              "    }\n",
              "\n",
              "    .dataframe tbody tr th {\n",
              "        vertical-align: top;\n",
              "    }\n",
              "\n",
              "    .dataframe thead th {\n",
              "        text-align: right;\n",
              "    }\n",
              "</style>\n",
              "<table border=\"1\" class=\"dataframe\">\n",
              "  <thead>\n",
              "    <tr style=\"text-align: right;\">\n",
              "      <th></th>\n",
              "      <th>raw_row_number</th>\n",
              "      <th>date</th>\n",
              "      <th>time</th>\n",
              "      <th>location</th>\n",
              "      <th>lat</th>\n",
              "      <th>lng</th>\n",
              "      <th>precinct</th>\n",
              "      <th>zone</th>\n",
              "      <th>subject_race</th>\n",
              "      <th>subject_sex</th>\n",
              "      <th>type</th>\n",
              "      <th>arrest_made</th>\n",
              "      <th>citation_issued</th>\n",
              "      <th>warning_issued</th>\n",
              "      <th>outcome</th>\n",
              "      <th>search_conducted</th>\n",
              "      <th>reason_for_stop</th>\n",
              "      <th>raw_enforcement_taken</th>\n",
              "    </tr>\n",
              "  </thead>\n",
              "  <tbody>\n",
              "    <tr>\n",
              "      <td>7196</td>\n",
              "      <td>8480</td>\n",
              "      <td>2012-03-09</td>\n",
              "      <td>20:10:00</td>\n",
              "      <td>BAIRSFORD DR and SARANAC DR</td>\n",
              "      <td>39.941613</td>\n",
              "      <td>-82.844087</td>\n",
              "      <td>14.0</td>\n",
              "      <td>2.0</td>\n",
              "      <td>black</td>\n",
              "      <td>female</td>\n",
              "      <td>vehicular</td>\n",
              "      <td>False</td>\n",
              "      <td>False</td>\n",
              "      <td>False</td>\n",
              "      <td>NaN</td>\n",
              "      <td>True</td>\n",
              "      <td>Investigatory</td>\n",
              "      <td>Vehicle Search</td>\n",
              "    </tr>\n",
              "    <tr>\n",
              "      <td>7443</td>\n",
              "      <td>8764|8765</td>\n",
              "      <td>2012-03-12</td>\n",
              "      <td>01:11:00</td>\n",
              "      <td>Easton Way and 270 s/b ramp</td>\n",
              "      <td>NaN</td>\n",
              "      <td>NaN</td>\n",
              "      <td>NaN</td>\n",
              "      <td>NaN</td>\n",
              "      <td>black</td>\n",
              "      <td>male</td>\n",
              "      <td>vehicular</td>\n",
              "      <td>False</td>\n",
              "      <td>False</td>\n",
              "      <td>False</td>\n",
              "      <td>NaN</td>\n",
              "      <td>True</td>\n",
              "      <td>Investigatory</td>\n",
              "      <td>Vehicle Search|Driver Search</td>\n",
              "    </tr>\n",
              "    <tr>\n",
              "      <td>8805</td>\n",
              "      <td>10360</td>\n",
              "      <td>2012-03-26</td>\n",
              "      <td>08:20:00</td>\n",
              "      <td>Fairwood and Forest</td>\n",
              "      <td>39.946118</td>\n",
              "      <td>-82.953945</td>\n",
              "      <td>11.0</td>\n",
              "      <td>5.0</td>\n",
              "      <td>black</td>\n",
              "      <td>male</td>\n",
              "      <td>vehicular</td>\n",
              "      <td>False</td>\n",
              "      <td>False</td>\n",
              "      <td>False</td>\n",
              "      <td>NaN</td>\n",
              "      <td>True</td>\n",
              "      <td>Moving Violation</td>\n",
              "      <td>Driver Search</td>\n",
              "    </tr>\n",
              "    <tr>\n",
              "      <td>9040</td>\n",
              "      <td>10627</td>\n",
              "      <td>2012-03-28</td>\n",
              "      <td>21:16:00</td>\n",
              "      <td>Interstate 70 and US Route 23</td>\n",
              "      <td>39.952785</td>\n",
              "      <td>-82.998751</td>\n",
              "      <td>11.0</td>\n",
              "      <td>5.0</td>\n",
              "      <td>white</td>\n",
              "      <td>male</td>\n",
              "      <td>vehicular</td>\n",
              "      <td>False</td>\n",
              "      <td>False</td>\n",
              "      <td>False</td>\n",
              "      <td>NaN</td>\n",
              "      <td>True</td>\n",
              "      <td>Investigatory</td>\n",
              "      <td>Vehicle Search</td>\n",
              "    </tr>\n",
              "    <tr>\n",
              "      <td>14086</td>\n",
              "      <td>16387</td>\n",
              "      <td>2012-05-22</td>\n",
              "      <td>18:55:00</td>\n",
              "      <td>Karl Rd and Satinwood Dr</td>\n",
              "      <td>40.084019</td>\n",
              "      <td>-82.974706</td>\n",
              "      <td>18.0</td>\n",
              "      <td>1.0</td>\n",
              "      <td>white</td>\n",
              "      <td>male</td>\n",
              "      <td>vehicular</td>\n",
              "      <td>False</td>\n",
              "      <td>False</td>\n",
              "      <td>False</td>\n",
              "      <td>NaN</td>\n",
              "      <td>True</td>\n",
              "      <td>Investigatory</td>\n",
              "      <td>Vehicle Search</td>\n",
              "    </tr>\n",
              "    <tr>\n",
              "      <td>15621</td>\n",
              "      <td>18124|18125</td>\n",
              "      <td>2012-06-10</td>\n",
              "      <td>21:45:00</td>\n",
              "      <td>Davis and Suulivant</td>\n",
              "      <td>39.953454</td>\n",
              "      <td>-83.020394</td>\n",
              "      <td>8.0</td>\n",
              "      <td>3.0</td>\n",
              "      <td>black</td>\n",
              "      <td>male</td>\n",
              "      <td>vehicular</td>\n",
              "      <td>False</td>\n",
              "      <td>False</td>\n",
              "      <td>False</td>\n",
              "      <td>NaN</td>\n",
              "      <td>True</td>\n",
              "      <td>Investigatory</td>\n",
              "      <td>Vehicle Search|Driver Search</td>\n",
              "    </tr>\n",
              "    <tr>\n",
              "      <td>18207</td>\n",
              "      <td>21152</td>\n",
              "      <td>2012-07-17</td>\n",
              "      <td>16:26:00</td>\n",
              "      <td>71 sb and 270 (north)</td>\n",
              "      <td>39.980192</td>\n",
              "      <td>-82.856673</td>\n",
              "      <td>14.0</td>\n",
              "      <td>2.0</td>\n",
              "      <td>hispanic</td>\n",
              "      <td>male</td>\n",
              "      <td>vehicular</td>\n",
              "      <td>False</td>\n",
              "      <td>False</td>\n",
              "      <td>False</td>\n",
              "      <td>NaN</td>\n",
              "      <td>True</td>\n",
              "      <td>Moving Violation</td>\n",
              "      <td>Vehicle Search</td>\n",
              "    </tr>\n",
              "    <tr>\n",
              "      <td>20975</td>\n",
              "      <td>24439</td>\n",
              "      <td>2012-08-25</td>\n",
              "      <td>05:06:00</td>\n",
              "      <td>E. 161 and Tamarack Blvd</td>\n",
              "      <td>40.086852</td>\n",
              "      <td>-82.969602</td>\n",
              "      <td>18.0</td>\n",
              "      <td>1.0</td>\n",
              "      <td>white</td>\n",
              "      <td>male</td>\n",
              "      <td>vehicular</td>\n",
              "      <td>False</td>\n",
              "      <td>False</td>\n",
              "      <td>False</td>\n",
              "      <td>NaN</td>\n",
              "      <td>True</td>\n",
              "      <td>Investigatory</td>\n",
              "      <td>Vehicle Search</td>\n",
              "    </tr>\n",
              "    <tr>\n",
              "      <td>25923</td>\n",
              "      <td>30140</td>\n",
              "      <td>2012-11-08</td>\n",
              "      <td>05:10:00</td>\n",
              "      <td>Sullivant Ave and S Guilford Ave</td>\n",
              "      <td>39.950223</td>\n",
              "      <td>-83.037690</td>\n",
              "      <td>8.0</td>\n",
              "      <td>3.0</td>\n",
              "      <td>black</td>\n",
              "      <td>male</td>\n",
              "      <td>vehicular</td>\n",
              "      <td>False</td>\n",
              "      <td>False</td>\n",
              "      <td>False</td>\n",
              "      <td>NaN</td>\n",
              "      <td>True</td>\n",
              "      <td>Investigatory</td>\n",
              "      <td>Vehicle Search</td>\n",
              "    </tr>\n",
              "    <tr>\n",
              "      <td>26823</td>\n",
              "      <td>31185</td>\n",
              "      <td>2012-11-21</td>\n",
              "      <td>01:20:00</td>\n",
              "      <td>central and sullivant</td>\n",
              "      <td>39.950250</td>\n",
              "      <td>-83.036263</td>\n",
              "      <td>8.0</td>\n",
              "      <td>3.0</td>\n",
              "      <td>white</td>\n",
              "      <td>male</td>\n",
              "      <td>vehicular</td>\n",
              "      <td>False</td>\n",
              "      <td>False</td>\n",
              "      <td>False</td>\n",
              "      <td>NaN</td>\n",
              "      <td>True</td>\n",
              "      <td>Investigatory</td>\n",
              "      <td>Vehicle Search</td>\n",
              "    </tr>\n",
              "    <tr>\n",
              "      <td>27354</td>\n",
              "      <td>31779</td>\n",
              "      <td>2012-11-30</td>\n",
              "      <td>00:47:00</td>\n",
              "      <td>joyce and denune</td>\n",
              "      <td>40.021850</td>\n",
              "      <td>-82.959931</td>\n",
              "      <td>2.0</td>\n",
              "      <td>4.0</td>\n",
              "      <td>black</td>\n",
              "      <td>male</td>\n",
              "      <td>vehicular</td>\n",
              "      <td>False</td>\n",
              "      <td>False</td>\n",
              "      <td>False</td>\n",
              "      <td>NaN</td>\n",
              "      <td>True</td>\n",
              "      <td>Moving Violation</td>\n",
              "      <td>Vehicle Search</td>\n",
              "    </tr>\n",
              "    <tr>\n",
              "      <td>28985</td>\n",
              "      <td>33713|33714</td>\n",
              "      <td>2013-01-03</td>\n",
              "      <td>18:53:00</td>\n",
              "      <td>W Broad St and Wisconsin Ave</td>\n",
              "      <td>39.958303</td>\n",
              "      <td>-83.032866</td>\n",
              "      <td>8.0</td>\n",
              "      <td>3.0</td>\n",
              "      <td>white</td>\n",
              "      <td>male</td>\n",
              "      <td>vehicular</td>\n",
              "      <td>False</td>\n",
              "      <td>False</td>\n",
              "      <td>False</td>\n",
              "      <td>NaN</td>\n",
              "      <td>True</td>\n",
              "      <td>Investigatory</td>\n",
              "      <td>Vehicle Search|Driver Search</td>\n",
              "    </tr>\n",
              "    <tr>\n",
              "      <td>30887</td>\n",
              "      <td>35923</td>\n",
              "      <td>2013-01-30</td>\n",
              "      <td>22:23:00</td>\n",
              "      <td>n wilson rd and roberts rd</td>\n",
              "      <td>40.002200</td>\n",
              "      <td>-83.113822</td>\n",
              "      <td>15.0</td>\n",
              "      <td>3.0</td>\n",
              "      <td>white</td>\n",
              "      <td>male</td>\n",
              "      <td>vehicular</td>\n",
              "      <td>False</td>\n",
              "      <td>False</td>\n",
              "      <td>False</td>\n",
              "      <td>NaN</td>\n",
              "      <td>True</td>\n",
              "      <td>Investigatory</td>\n",
              "      <td>Vehicle Search</td>\n",
              "    </tr>\n",
              "    <tr>\n",
              "      <td>34384</td>\n",
              "      <td>40061</td>\n",
              "      <td>2013-03-15</td>\n",
              "      <td>16:11:00</td>\n",
              "      <td>taymouth and edinburgh</td>\n",
              "      <td>40.066467</td>\n",
              "      <td>-82.955016</td>\n",
              "      <td>18.0</td>\n",
              "      <td>1.0</td>\n",
              "      <td>white</td>\n",
              "      <td>female</td>\n",
              "      <td>vehicular</td>\n",
              "      <td>False</td>\n",
              "      <td>False</td>\n",
              "      <td>False</td>\n",
              "      <td>NaN</td>\n",
              "      <td>True</td>\n",
              "      <td>Moving Violation</td>\n",
              "      <td>Vehicle Search</td>\n",
              "    </tr>\n",
              "    <tr>\n",
              "      <td>34395</td>\n",
              "      <td>40076</td>\n",
              "      <td>2013-03-15</td>\n",
              "      <td>17:19:00</td>\n",
              "      <td>161 and 71</td>\n",
              "      <td>40.086901</td>\n",
              "      <td>-82.985993</td>\n",
              "      <td>18.0</td>\n",
              "      <td>1.0</td>\n",
              "      <td>black</td>\n",
              "      <td>male</td>\n",
              "      <td>vehicular</td>\n",
              "      <td>False</td>\n",
              "      <td>False</td>\n",
              "      <td>False</td>\n",
              "      <td>NaN</td>\n",
              "      <td>True</td>\n",
              "      <td>Equipment Violation</td>\n",
              "      <td>Vehicle Search</td>\n",
              "    </tr>\n",
              "    <tr>\n",
              "      <td>34953</td>\n",
              "      <td>40756|40757</td>\n",
              "      <td>2013-03-22</td>\n",
              "      <td>15:59:00</td>\n",
              "      <td>E161 and North Meadows</td>\n",
              "      <td>40.082556</td>\n",
              "      <td>-82.992804</td>\n",
              "      <td>18.0</td>\n",
              "      <td>1.0</td>\n",
              "      <td>white</td>\n",
              "      <td>male</td>\n",
              "      <td>vehicular</td>\n",
              "      <td>False</td>\n",
              "      <td>False</td>\n",
              "      <td>False</td>\n",
              "      <td>NaN</td>\n",
              "      <td>True</td>\n",
              "      <td>Moving Violation</td>\n",
              "      <td>Vehicle Search|Driver Search</td>\n",
              "    </tr>\n",
              "    <tr>\n",
              "      <td>35566</td>\n",
              "      <td>41496|41497</td>\n",
              "      <td>2013-03-30</td>\n",
              "      <td>15:54:00</td>\n",
              "      <td>Whittier St and s ohio ave</td>\n",
              "      <td>39.943623</td>\n",
              "      <td>-82.971942</td>\n",
              "      <td>11.0</td>\n",
              "      <td>5.0</td>\n",
              "      <td>white</td>\n",
              "      <td>male</td>\n",
              "      <td>vehicular</td>\n",
              "      <td>False</td>\n",
              "      <td>False</td>\n",
              "      <td>False</td>\n",
              "      <td>NaN</td>\n",
              "      <td>True</td>\n",
              "      <td>Equipment Violation</td>\n",
              "      <td>Vehicle Search|Driver Search</td>\n",
              "    </tr>\n",
              "    <tr>\n",
              "      <td>36005</td>\n",
              "      <td>42011</td>\n",
              "      <td>2013-04-04</td>\n",
              "      <td>17:50:00</td>\n",
              "      <td>cleveland and 161</td>\n",
              "      <td>40.084972</td>\n",
              "      <td>-82.951071</td>\n",
              "      <td>18.0</td>\n",
              "      <td>1.0</td>\n",
              "      <td>white</td>\n",
              "      <td>female</td>\n",
              "      <td>vehicular</td>\n",
              "      <td>False</td>\n",
              "      <td>False</td>\n",
              "      <td>False</td>\n",
              "      <td>NaN</td>\n",
              "      <td>True</td>\n",
              "      <td>Equipment Violation</td>\n",
              "      <td>Vehicle Search</td>\n",
              "    </tr>\n",
              "    <tr>\n",
              "      <td>36324</td>\n",
              "      <td>42376</td>\n",
              "      <td>2013-04-09</td>\n",
              "      <td>16:44:00</td>\n",
              "      <td>Belle St and W Broad St</td>\n",
              "      <td>39.961236</td>\n",
              "      <td>-83.008868</td>\n",
              "      <td>16.0</td>\n",
              "      <td>5.0</td>\n",
              "      <td>black</td>\n",
              "      <td>male</td>\n",
              "      <td>vehicular</td>\n",
              "      <td>False</td>\n",
              "      <td>False</td>\n",
              "      <td>False</td>\n",
              "      <td>NaN</td>\n",
              "      <td>True</td>\n",
              "      <td>Moving Violation</td>\n",
              "      <td>Vehicle Search</td>\n",
              "    </tr>\n",
              "    <tr>\n",
              "      <td>37298</td>\n",
              "      <td>43521|43522</td>\n",
              "      <td>2013-04-22</td>\n",
              "      <td>00:42:00</td>\n",
              "      <td>e 161 and karl</td>\n",
              "      <td>40.087089</td>\n",
              "      <td>-82.975365</td>\n",
              "      <td>18.0</td>\n",
              "      <td>1.0</td>\n",
              "      <td>black</td>\n",
              "      <td>male</td>\n",
              "      <td>vehicular</td>\n",
              "      <td>False</td>\n",
              "      <td>False</td>\n",
              "      <td>False</td>\n",
              "      <td>NaN</td>\n",
              "      <td>True</td>\n",
              "      <td>Equipment Violation</td>\n",
              "      <td>Vehicle Search|Driver Search</td>\n",
              "    </tr>\n",
              "    <tr>\n",
              "      <td>38890</td>\n",
              "      <td>45345|45346</td>\n",
              "      <td>2013-05-17</td>\n",
              "      <td>21:28:00</td>\n",
              "      <td>E 17th Ave and Woodland Ave</td>\n",
              "      <td>39.999268</td>\n",
              "      <td>-82.954580</td>\n",
              "      <td>5.0</td>\n",
              "      <td>4.0</td>\n",
              "      <td>black</td>\n",
              "      <td>male</td>\n",
              "      <td>vehicular</td>\n",
              "      <td>False</td>\n",
              "      <td>False</td>\n",
              "      <td>False</td>\n",
              "      <td>NaN</td>\n",
              "      <td>True</td>\n",
              "      <td>Investigatory</td>\n",
              "      <td>Vehicle Search|Driver Search</td>\n",
              "    </tr>\n",
              "    <tr>\n",
              "      <td>40134</td>\n",
              "      <td>46777|46778</td>\n",
              "      <td>2013-06-08</td>\n",
              "      <td>15:19:00</td>\n",
              "      <td>taylor and old leonard</td>\n",
              "      <td>39.982751</td>\n",
              "      <td>-82.960563</td>\n",
              "      <td>7.0</td>\n",
              "      <td>5.0</td>\n",
              "      <td>black</td>\n",
              "      <td>male</td>\n",
              "      <td>vehicular</td>\n",
              "      <td>False</td>\n",
              "      <td>False</td>\n",
              "      <td>False</td>\n",
              "      <td>NaN</td>\n",
              "      <td>True</td>\n",
              "      <td>Investigatory</td>\n",
              "      <td>Vehicle Search|Driver Search</td>\n",
              "    </tr>\n",
              "    <tr>\n",
              "      <td>40532</td>\n",
              "      <td>47245|47246</td>\n",
              "      <td>2013-06-17</td>\n",
              "      <td>19:32:00</td>\n",
              "      <td>whitethorne ave and eakin rd</td>\n",
              "      <td>39.933186</td>\n",
              "      <td>-83.055318</td>\n",
              "      <td>10.0</td>\n",
              "      <td>3.0</td>\n",
              "      <td>white</td>\n",
              "      <td>male</td>\n",
              "      <td>vehicular</td>\n",
              "      <td>False</td>\n",
              "      <td>False</td>\n",
              "      <td>False</td>\n",
              "      <td>NaN</td>\n",
              "      <td>True</td>\n",
              "      <td>Moving Violation</td>\n",
              "      <td>Vehicle Search|Driver Search</td>\n",
              "    </tr>\n",
              "    <tr>\n",
              "      <td>40783</td>\n",
              "      <td>47518</td>\n",
              "      <td>2013-06-21</td>\n",
              "      <td>19:46:00</td>\n",
              "      <td>IR 270 and E BROAD ST</td>\n",
              "      <td>39.982854</td>\n",
              "      <td>-82.828656</td>\n",
              "      <td>14.0</td>\n",
              "      <td>2.0</td>\n",
              "      <td>white</td>\n",
              "      <td>male</td>\n",
              "      <td>vehicular</td>\n",
              "      <td>False</td>\n",
              "      <td>False</td>\n",
              "      <td>False</td>\n",
              "      <td>NaN</td>\n",
              "      <td>True</td>\n",
              "      <td>Investigatory</td>\n",
              "      <td>Vehicle Search</td>\n",
              "    </tr>\n",
              "    <tr>\n",
              "      <td>41467</td>\n",
              "      <td>48283</td>\n",
              "      <td>2013-07-06</td>\n",
              "      <td>17:50:00</td>\n",
              "      <td>BREMEN and NORTH BROADWAY</td>\n",
              "      <td>40.029776</td>\n",
              "      <td>-82.969781</td>\n",
              "      <td>2.0</td>\n",
              "      <td>4.0</td>\n",
              "      <td>black</td>\n",
              "      <td>male</td>\n",
              "      <td>vehicular</td>\n",
              "      <td>False</td>\n",
              "      <td>False</td>\n",
              "      <td>False</td>\n",
              "      <td>NaN</td>\n",
              "      <td>True</td>\n",
              "      <td>Moving Violation</td>\n",
              "      <td>Vehicle Search</td>\n",
              "    </tr>\n",
              "    <tr>\n",
              "      <td>42491</td>\n",
              "      <td>49463</td>\n",
              "      <td>2013-07-25</td>\n",
              "      <td>20:50:00</td>\n",
              "      <td>161 and BEECHCROFT</td>\n",
              "      <td>40.086621</td>\n",
              "      <td>-82.964587</td>\n",
              "      <td>18.0</td>\n",
              "      <td>1.0</td>\n",
              "      <td>black</td>\n",
              "      <td>male</td>\n",
              "      <td>vehicular</td>\n",
              "      <td>False</td>\n",
              "      <td>False</td>\n",
              "      <td>False</td>\n",
              "      <td>NaN</td>\n",
              "      <td>True</td>\n",
              "      <td>Moving Violation</td>\n",
              "      <td>Vehicle Search</td>\n",
              "    </tr>\n",
              "    <tr>\n",
              "      <td>44618</td>\n",
              "      <td>51933</td>\n",
              "      <td>2013-08-27</td>\n",
              "      <td>11:40:00</td>\n",
              "      <td>s clarendon ave and suncrest dr</td>\n",
              "      <td>39.940905</td>\n",
              "      <td>-83.056727</td>\n",
              "      <td>19.0</td>\n",
              "      <td>3.0</td>\n",
              "      <td>white</td>\n",
              "      <td>male</td>\n",
              "      <td>vehicular</td>\n",
              "      <td>False</td>\n",
              "      <td>False</td>\n",
              "      <td>False</td>\n",
              "      <td>NaN</td>\n",
              "      <td>True</td>\n",
              "      <td>Moving Violation</td>\n",
              "      <td>Driver Search</td>\n",
              "    </tr>\n",
              "    <tr>\n",
              "      <td>55838</td>\n",
              "      <td>65224|65225</td>\n",
              "      <td>2014-02-06</td>\n",
              "      <td>20:22:00</td>\n",
              "      <td>E. Hudson ST and McGuffey Rd</td>\n",
              "      <td>40.014302</td>\n",
              "      <td>-82.981398</td>\n",
              "      <td>2.0</td>\n",
              "      <td>4.0</td>\n",
              "      <td>black</td>\n",
              "      <td>female</td>\n",
              "      <td>vehicular</td>\n",
              "      <td>False</td>\n",
              "      <td>False</td>\n",
              "      <td>False</td>\n",
              "      <td>NaN</td>\n",
              "      <td>True</td>\n",
              "      <td>Moving Violation</td>\n",
              "      <td>Vehicle Search|Driver Search</td>\n",
              "    </tr>\n",
              "    <tr>\n",
              "      <td>59331</td>\n",
              "      <td>69324</td>\n",
              "      <td>2014-03-10</td>\n",
              "      <td>01:28:00</td>\n",
              "      <td>Karl rd and Shanley rd</td>\n",
              "      <td>40.055480</td>\n",
              "      <td>-82.976367</td>\n",
              "      <td>18.0</td>\n",
              "      <td>1.0</td>\n",
              "      <td>white</td>\n",
              "      <td>male</td>\n",
              "      <td>vehicular</td>\n",
              "      <td>False</td>\n",
              "      <td>False</td>\n",
              "      <td>False</td>\n",
              "      <td>NaN</td>\n",
              "      <td>True</td>\n",
              "      <td>Investigatory</td>\n",
              "      <td>Vehicle Search</td>\n",
              "    </tr>\n",
              "    <tr>\n",
              "      <td>61420</td>\n",
              "      <td>71794</td>\n",
              "      <td>2014-03-31</td>\n",
              "      <td>21:41:00</td>\n",
              "      <td>MAYME MOORE and GARFIELD</td>\n",
              "      <td>39.969460</td>\n",
              "      <td>-82.980093</td>\n",
              "      <td>7.0</td>\n",
              "      <td>5.0</td>\n",
              "      <td>black</td>\n",
              "      <td>male</td>\n",
              "      <td>vehicular</td>\n",
              "      <td>False</td>\n",
              "      <td>False</td>\n",
              "      <td>False</td>\n",
              "      <td>NaN</td>\n",
              "      <td>True</td>\n",
              "      <td>Moving Violation</td>\n",
              "      <td>Vehicle Search</td>\n",
              "    </tr>\n",
              "    <tr>\n",
              "      <td>65824</td>\n",
              "      <td>76970</td>\n",
              "      <td>2014-05-28</td>\n",
              "      <td>21:54:00</td>\n",
              "      <td>Karl and Morse</td>\n",
              "      <td>40.060658</td>\n",
              "      <td>-82.977348</td>\n",
              "      <td>18.0</td>\n",
              "      <td>1.0</td>\n",
              "      <td>other</td>\n",
              "      <td>male</td>\n",
              "      <td>vehicular</td>\n",
              "      <td>False</td>\n",
              "      <td>False</td>\n",
              "      <td>False</td>\n",
              "      <td>NaN</td>\n",
              "      <td>True</td>\n",
              "      <td>Equipment Violation</td>\n",
              "      <td>Vehicle Search</td>\n",
              "    </tr>\n",
              "    <tr>\n",
              "      <td>69584</td>\n",
              "      <td>81379|81380</td>\n",
              "      <td>2014-07-28</td>\n",
              "      <td>23:24:00</td>\n",
              "      <td>e hudson st and hiawatha st</td>\n",
              "      <td>40.014554</td>\n",
              "      <td>-82.986672</td>\n",
              "      <td>2.0</td>\n",
              "      <td>4.0</td>\n",
              "      <td>white</td>\n",
              "      <td>male</td>\n",
              "      <td>vehicular</td>\n",
              "      <td>False</td>\n",
              "      <td>False</td>\n",
              "      <td>False</td>\n",
              "      <td>NaN</td>\n",
              "      <td>True</td>\n",
              "      <td>Investigatory</td>\n",
              "      <td>Vehicle Search|Driver Search</td>\n",
              "    </tr>\n",
              "    <tr>\n",
              "      <td>69596</td>\n",
              "      <td>81392</td>\n",
              "      <td>2014-07-29</td>\n",
              "      <td>02:09:00</td>\n",
              "      <td>71 and weber rd</td>\n",
              "      <td>40.024495</td>\n",
              "      <td>-83.011752</td>\n",
              "      <td>3.0</td>\n",
              "      <td>4.0</td>\n",
              "      <td>asian/pacific islander</td>\n",
              "      <td>male</td>\n",
              "      <td>vehicular</td>\n",
              "      <td>False</td>\n",
              "      <td>False</td>\n",
              "      <td>False</td>\n",
              "      <td>NaN</td>\n",
              "      <td>True</td>\n",
              "      <td>Investigatory</td>\n",
              "      <td>Vehicle Search</td>\n",
              "    </tr>\n",
              "    <tr>\n",
              "      <td>75936</td>\n",
              "      <td>88925|88926</td>\n",
              "      <td>2014-11-01</td>\n",
              "      <td>17:33:00</td>\n",
              "      <td>Joyce and E Hudson</td>\n",
              "      <td>40.013413</td>\n",
              "      <td>-82.961321</td>\n",
              "      <td>5.0</td>\n",
              "      <td>4.0</td>\n",
              "      <td>black</td>\n",
              "      <td>male</td>\n",
              "      <td>vehicular</td>\n",
              "      <td>False</td>\n",
              "      <td>False</td>\n",
              "      <td>False</td>\n",
              "      <td>NaN</td>\n",
              "      <td>True</td>\n",
              "      <td>Equipment Violation</td>\n",
              "      <td>Vehicle Search|Driver Search</td>\n",
              "    </tr>\n",
              "    <tr>\n",
              "      <td>76735</td>\n",
              "      <td>89863|89864</td>\n",
              "      <td>2014-11-14</td>\n",
              "      <td>21:00:00</td>\n",
              "      <td>Rich and Avondale</td>\n",
              "      <td>39.954416</td>\n",
              "      <td>-83.026055</td>\n",
              "      <td>8.0</td>\n",
              "      <td>3.0</td>\n",
              "      <td>white</td>\n",
              "      <td>male</td>\n",
              "      <td>vehicular</td>\n",
              "      <td>False</td>\n",
              "      <td>False</td>\n",
              "      <td>False</td>\n",
              "      <td>NaN</td>\n",
              "      <td>True</td>\n",
              "      <td>Moving Violation</td>\n",
              "      <td>Vehicle Search|Driver Search</td>\n",
              "    </tr>\n",
              "  </tbody>\n",
              "</table>\n",
              "</div>"
            ],
            "text/plain": [
              "      raw_row_number       date      time                          location  \\\n",
              "7196            8480 2012-03-09  20:10:00       BAIRSFORD DR and SARANAC DR   \n",
              "7443       8764|8765 2012-03-12  01:11:00       Easton Way and 270 s/b ramp   \n",
              "8805           10360 2012-03-26  08:20:00               Fairwood and Forest   \n",
              "9040           10627 2012-03-28  21:16:00     Interstate 70 and US Route 23   \n",
              "14086          16387 2012-05-22  18:55:00          Karl Rd and Satinwood Dr   \n",
              "15621    18124|18125 2012-06-10  21:45:00               Davis and Suulivant   \n",
              "18207          21152 2012-07-17  16:26:00             71 sb and 270 (north)   \n",
              "20975          24439 2012-08-25  05:06:00          E. 161 and Tamarack Blvd   \n",
              "25923          30140 2012-11-08  05:10:00  Sullivant Ave and S Guilford Ave   \n",
              "26823          31185 2012-11-21  01:20:00             central and sullivant   \n",
              "27354          31779 2012-11-30  00:47:00                  joyce and denune   \n",
              "28985    33713|33714 2013-01-03  18:53:00      W Broad St and Wisconsin Ave   \n",
              "30887          35923 2013-01-30  22:23:00        n wilson rd and roberts rd   \n",
              "34384          40061 2013-03-15  16:11:00            taymouth and edinburgh   \n",
              "34395          40076 2013-03-15  17:19:00                        161 and 71   \n",
              "34953    40756|40757 2013-03-22  15:59:00            E161 and North Meadows   \n",
              "35566    41496|41497 2013-03-30  15:54:00        Whittier St and s ohio ave   \n",
              "36005          42011 2013-04-04  17:50:00                 cleveland and 161   \n",
              "36324          42376 2013-04-09  16:44:00           Belle St and W Broad St   \n",
              "37298    43521|43522 2013-04-22  00:42:00                    e 161 and karl   \n",
              "38890    45345|45346 2013-05-17  21:28:00       E 17th Ave and Woodland Ave   \n",
              "40134    46777|46778 2013-06-08  15:19:00            taylor and old leonard   \n",
              "40532    47245|47246 2013-06-17  19:32:00      whitethorne ave and eakin rd   \n",
              "40783          47518 2013-06-21  19:46:00             IR 270 and E BROAD ST   \n",
              "41467          48283 2013-07-06  17:50:00         BREMEN and NORTH BROADWAY   \n",
              "42491          49463 2013-07-25  20:50:00                161 and BEECHCROFT   \n",
              "44618          51933 2013-08-27  11:40:00   s clarendon ave and suncrest dr   \n",
              "55838    65224|65225 2014-02-06  20:22:00      E. Hudson ST and McGuffey Rd   \n",
              "59331          69324 2014-03-10  01:28:00            Karl rd and Shanley rd   \n",
              "61420          71794 2014-03-31  21:41:00          MAYME MOORE and GARFIELD   \n",
              "65824          76970 2014-05-28  21:54:00                    Karl and Morse   \n",
              "69584    81379|81380 2014-07-28  23:24:00       e hudson st and hiawatha st   \n",
              "69596          81392 2014-07-29  02:09:00                   71 and weber rd   \n",
              "75936    88925|88926 2014-11-01  17:33:00                Joyce and E Hudson   \n",
              "76735    89863|89864 2014-11-14  21:00:00                 Rich and Avondale   \n",
              "\n",
              "             lat        lng  precinct  zone            subject_race  \\\n",
              "7196   39.941613 -82.844087      14.0   2.0                   black   \n",
              "7443         NaN        NaN       NaN   NaN                   black   \n",
              "8805   39.946118 -82.953945      11.0   5.0                   black   \n",
              "9040   39.952785 -82.998751      11.0   5.0                   white   \n",
              "14086  40.084019 -82.974706      18.0   1.0                   white   \n",
              "15621  39.953454 -83.020394       8.0   3.0                   black   \n",
              "18207  39.980192 -82.856673      14.0   2.0                hispanic   \n",
              "20975  40.086852 -82.969602      18.0   1.0                   white   \n",
              "25923  39.950223 -83.037690       8.0   3.0                   black   \n",
              "26823  39.950250 -83.036263       8.0   3.0                   white   \n",
              "27354  40.021850 -82.959931       2.0   4.0                   black   \n",
              "28985  39.958303 -83.032866       8.0   3.0                   white   \n",
              "30887  40.002200 -83.113822      15.0   3.0                   white   \n",
              "34384  40.066467 -82.955016      18.0   1.0                   white   \n",
              "34395  40.086901 -82.985993      18.0   1.0                   black   \n",
              "34953  40.082556 -82.992804      18.0   1.0                   white   \n",
              "35566  39.943623 -82.971942      11.0   5.0                   white   \n",
              "36005  40.084972 -82.951071      18.0   1.0                   white   \n",
              "36324  39.961236 -83.008868      16.0   5.0                   black   \n",
              "37298  40.087089 -82.975365      18.0   1.0                   black   \n",
              "38890  39.999268 -82.954580       5.0   4.0                   black   \n",
              "40134  39.982751 -82.960563       7.0   5.0                   black   \n",
              "40532  39.933186 -83.055318      10.0   3.0                   white   \n",
              "40783  39.982854 -82.828656      14.0   2.0                   white   \n",
              "41467  40.029776 -82.969781       2.0   4.0                   black   \n",
              "42491  40.086621 -82.964587      18.0   1.0                   black   \n",
              "44618  39.940905 -83.056727      19.0   3.0                   white   \n",
              "55838  40.014302 -82.981398       2.0   4.0                   black   \n",
              "59331  40.055480 -82.976367      18.0   1.0                   white   \n",
              "61420  39.969460 -82.980093       7.0   5.0                   black   \n",
              "65824  40.060658 -82.977348      18.0   1.0                   other   \n",
              "69584  40.014554 -82.986672       2.0   4.0                   white   \n",
              "69596  40.024495 -83.011752       3.0   4.0  asian/pacific islander   \n",
              "75936  40.013413 -82.961321       5.0   4.0                   black   \n",
              "76735  39.954416 -83.026055       8.0   3.0                   white   \n",
              "\n",
              "      subject_sex       type  arrest_made  citation_issued  warning_issued  \\\n",
              "7196       female  vehicular        False            False           False   \n",
              "7443         male  vehicular        False            False           False   \n",
              "8805         male  vehicular        False            False           False   \n",
              "9040         male  vehicular        False            False           False   \n",
              "14086        male  vehicular        False            False           False   \n",
              "15621        male  vehicular        False            False           False   \n",
              "18207        male  vehicular        False            False           False   \n",
              "20975        male  vehicular        False            False           False   \n",
              "25923        male  vehicular        False            False           False   \n",
              "26823        male  vehicular        False            False           False   \n",
              "27354        male  vehicular        False            False           False   \n",
              "28985        male  vehicular        False            False           False   \n",
              "30887        male  vehicular        False            False           False   \n",
              "34384      female  vehicular        False            False           False   \n",
              "34395        male  vehicular        False            False           False   \n",
              "34953        male  vehicular        False            False           False   \n",
              "35566        male  vehicular        False            False           False   \n",
              "36005      female  vehicular        False            False           False   \n",
              "36324        male  vehicular        False            False           False   \n",
              "37298        male  vehicular        False            False           False   \n",
              "38890        male  vehicular        False            False           False   \n",
              "40134        male  vehicular        False            False           False   \n",
              "40532        male  vehicular        False            False           False   \n",
              "40783        male  vehicular        False            False           False   \n",
              "41467        male  vehicular        False            False           False   \n",
              "42491        male  vehicular        False            False           False   \n",
              "44618        male  vehicular        False            False           False   \n",
              "55838      female  vehicular        False            False           False   \n",
              "59331        male  vehicular        False            False           False   \n",
              "61420        male  vehicular        False            False           False   \n",
              "65824        male  vehicular        False            False           False   \n",
              "69584        male  vehicular        False            False           False   \n",
              "69596        male  vehicular        False            False           False   \n",
              "75936        male  vehicular        False            False           False   \n",
              "76735        male  vehicular        False            False           False   \n",
              "\n",
              "      outcome  search_conducted      reason_for_stop  \\\n",
              "7196      NaN              True        Investigatory   \n",
              "7443      NaN              True        Investigatory   \n",
              "8805      NaN              True     Moving Violation   \n",
              "9040      NaN              True        Investigatory   \n",
              "14086     NaN              True        Investigatory   \n",
              "15621     NaN              True        Investigatory   \n",
              "18207     NaN              True     Moving Violation   \n",
              "20975     NaN              True        Investigatory   \n",
              "25923     NaN              True        Investigatory   \n",
              "26823     NaN              True        Investigatory   \n",
              "27354     NaN              True     Moving Violation   \n",
              "28985     NaN              True        Investigatory   \n",
              "30887     NaN              True        Investigatory   \n",
              "34384     NaN              True     Moving Violation   \n",
              "34395     NaN              True  Equipment Violation   \n",
              "34953     NaN              True     Moving Violation   \n",
              "35566     NaN              True  Equipment Violation   \n",
              "36005     NaN              True  Equipment Violation   \n",
              "36324     NaN              True     Moving Violation   \n",
              "37298     NaN              True  Equipment Violation   \n",
              "38890     NaN              True        Investigatory   \n",
              "40134     NaN              True        Investigatory   \n",
              "40532     NaN              True     Moving Violation   \n",
              "40783     NaN              True        Investigatory   \n",
              "41467     NaN              True     Moving Violation   \n",
              "42491     NaN              True     Moving Violation   \n",
              "44618     NaN              True     Moving Violation   \n",
              "55838     NaN              True     Moving Violation   \n",
              "59331     NaN              True        Investigatory   \n",
              "61420     NaN              True     Moving Violation   \n",
              "65824     NaN              True  Equipment Violation   \n",
              "69584     NaN              True        Investigatory   \n",
              "69596     NaN              True        Investigatory   \n",
              "75936     NaN              True  Equipment Violation   \n",
              "76735     NaN              True     Moving Violation   \n",
              "\n",
              "              raw_enforcement_taken  \n",
              "7196                 Vehicle Search  \n",
              "7443   Vehicle Search|Driver Search  \n",
              "8805                  Driver Search  \n",
              "9040                 Vehicle Search  \n",
              "14086                Vehicle Search  \n",
              "15621  Vehicle Search|Driver Search  \n",
              "18207                Vehicle Search  \n",
              "20975                Vehicle Search  \n",
              "25923                Vehicle Search  \n",
              "26823                Vehicle Search  \n",
              "27354                Vehicle Search  \n",
              "28985  Vehicle Search|Driver Search  \n",
              "30887                Vehicle Search  \n",
              "34384                Vehicle Search  \n",
              "34395                Vehicle Search  \n",
              "34953  Vehicle Search|Driver Search  \n",
              "35566  Vehicle Search|Driver Search  \n",
              "36005                Vehicle Search  \n",
              "36324                Vehicle Search  \n",
              "37298  Vehicle Search|Driver Search  \n",
              "38890  Vehicle Search|Driver Search  \n",
              "40134  Vehicle Search|Driver Search  \n",
              "40532  Vehicle Search|Driver Search  \n",
              "40783                Vehicle Search  \n",
              "41467                Vehicle Search  \n",
              "42491                Vehicle Search  \n",
              "44618                 Driver Search  \n",
              "55838  Vehicle Search|Driver Search  \n",
              "59331                Vehicle Search  \n",
              "61420                Vehicle Search  \n",
              "65824                Vehicle Search  \n",
              "69584  Vehicle Search|Driver Search  \n",
              "69596                Vehicle Search  \n",
              "75936  Vehicle Search|Driver Search  \n",
              "76735  Vehicle Search|Driver Search  "
            ]
          },
          "metadata": {
            "tags": []
          },
          "execution_count": 214
        }
      ]
    },
    {
      "cell_type": "code",
      "metadata": {
        "id": "q4PHPJS5B_C-",
        "colab_type": "code",
        "colab": {},
        "outputId": "fbbb0e67-0555-43c3-bbc6-c155afaa7a0f"
      },
      "source": [
        "df['location'].value_counts()"
      ],
      "execution_count": 0,
      "outputs": [
        {
          "output_type": "execute_result",
          "data": {
            "text/plain": [
              "hamilton and 70                       758\n",
              "i670wb and i71                        663\n",
              "70 and CHAMPION                       647\n",
              "70 and OHIO                           605\n",
              "broad and mcnaughten                  569\n",
              "                                     ... \n",
              "I-71 NB and E North Broadway            1\n",
              "Hudson and McGuffey Rd                  1\n",
              "Westerville rd and Walnut creek dr      1\n",
              "I.R. 270 E.B. and S.R. 315              1\n",
              "N HIGH and E 17                         1\n",
              "Name: location, Length: 54338, dtype: int64"
            ]
          },
          "metadata": {
            "tags": []
          },
          "execution_count": 215
        }
      ]
    },
    {
      "cell_type": "code",
      "metadata": {
        "id": "rqg2mEDFB_DC",
        "colab_type": "code",
        "colab": {},
        "outputId": "9b7382d4-9431-41aa-ead5-c77e56ecb200"
      },
      "source": [
        "my_train['precinct'].value_counts(dropna=False\n",
        ")"
      ],
      "execution_count": 0,
      "outputs": [
        {
          "output_type": "execute_result",
          "data": {
            "text/plain": [
              "NaN     9858\n",
              "16.0    7196\n",
              "4.0     6655\n",
              "3.0     5227\n",
              "7.0     4270\n",
              "12.0    4184\n",
              "18.0    3924\n",
              "9.0     3924\n",
              "6.0     3693\n",
              "17.0    3299\n",
              "8.0     3228\n",
              "14.0    3145\n",
              "10.0    3110\n",
              "11.0    2582\n",
              "5.0     2511\n",
              "1.0     2484\n",
              "19.0    2431\n",
              "2.0     2276\n",
              "20.0    2240\n",
              "13.0    1542\n",
              "15.0    1502\n",
              "Name: precinct, dtype: int64"
            ]
          },
          "metadata": {
            "tags": []
          },
          "execution_count": 216
        }
      ]
    },
    {
      "cell_type": "markdown",
      "metadata": {
        "id": "sEibWUpZB_DF",
        "colab_type": "text"
      },
      "source": [
        "- 'raw_row_number' just seems to count each individual action against a person. Three actions were taken against the first person, so that is raw_row_number 1,2, and 3.  That probably isn't useful, so I'll remove it\n",
        "\n",
        "\n",
        "- 'location' is interesting in that is an intersection. I need to explore it more to see if it 'x and y' and also 'y and x' exist. I could strip out the ' and ' and separate the two crossroads into different columns.\n",
        "\n",
        "\n",
        "- 'type' is a single value, so I can drop it\n",
        "\n",
        "\n",
        "- 'arrest_made',  'citation_issued', and 'warning_issued' can be dropped because 'warning_issued' will be used as my binary classifier. I will need to invert the t/f and astype it to an integer.\n",
        "\n",
        "\n",
        "- I need to do more exploration on 'search_conducted'. I'll likely drop that as data leakage since I feel like it would be highly correlated with action taken... After further exploration, the data is too dirty to deal with. There are multiple spellings, spelling errors, formatting differences. Also, this is covered in long/lat coordinates.\n",
        "\n",
        "\n",
        "- 'raw_enforcement_taken' will be dropped as it includes my target"
      ]
    },
    {
      "cell_type": "markdown",
      "metadata": {
        "id": "_nS0iNNEB_DG",
        "colab_type": "text"
      },
      "source": [
        "## Data Wrangling"
      ]
    },
    {
      "cell_type": "code",
      "metadata": {
        "id": "-X8y5n5sB_DH",
        "colab_type": "code",
        "colab": {}
      },
      "source": [
        "def wrangle(X):\n",
        "    \n",
        "    #To prevent a warning.\n",
        "    X = X.copy()\n",
        "    \n",
        "    # Pulling hour and minute from time column\n",
        "    X['hour'] = pd.to_datetime(X['time']).dt.hour\n",
        "    X['minute'] = pd.to_datetime(X['time']).dt.minute\n",
        "    #X = X.drop(columns='time')\n",
        "    \n",
        "    #Pulling month and day and day of week from date\n",
        "    X['month'] = X['date'].dt.month\n",
        "    X['day'] = X['date'].dt.day\n",
        "    X['day_of_week'] = X['date'].dt.weekday_name\n",
        "    \n",
        "    \n",
        "    #Dropping unecessary columns\n",
        "    #NOTE: location is too dirty now, but I'll attempt to clean it later\n",
        "    X = X.drop(columns=['raw_row_number','type','location'])\n",
        "    \n",
        "    #Dropping data leakage/time-traveling data\n",
        "    X = X.drop(columns=['arrest_made','citation_issued','warning_issued',\n",
        "                        'search_conducted','raw_enforcement_taken'] )\n",
        "    \n",
        "    \n",
        "    #Creating separate columns if a row has these values missing.\n",
        "    col_has_missing = ['time','lat','lng','precinct','zone']\n",
        "    for column in col_has_missing:\n",
        "        X[column+'_MISSING'] = X[column].isnull()\n",
        "        \n",
        "    # converting outcome column to 1/0\n",
        "    # 1 if a citation or arrest occured\n",
        "    \n",
        "    X['outcome'] = (X['outcome'] != 'warning').astype(int)\n",
        "    \n",
        "    return X\n",
        "    \n",
        "    "
      ],
      "execution_count": 0,
      "outputs": []
    },
    {
      "cell_type": "code",
      "metadata": {
        "id": "kFCTlbXtB_DK",
        "colab_type": "code",
        "colab": {}
      },
      "source": [
        "my_train = wrangle(my_train)\n",
        "my_val = wrangle(my_val)\n",
        "test = wrangle(test)"
      ],
      "execution_count": 0,
      "outputs": []
    },
    {
      "cell_type": "code",
      "metadata": {
        "id": "yeBy0ND4B_DN",
        "colab_type": "code",
        "colab": {},
        "outputId": "dd639dd8-2feb-41e4-a784-533c01b11527"
      },
      "source": [
        "my_train.head()"
      ],
      "execution_count": 0,
      "outputs": [
        {
          "output_type": "execute_result",
          "data": {
            "text/html": [
              "<div>\n",
              "<style scoped>\n",
              "    .dataframe tbody tr th:only-of-type {\n",
              "        vertical-align: middle;\n",
              "    }\n",
              "\n",
              "    .dataframe tbody tr th {\n",
              "        vertical-align: top;\n",
              "    }\n",
              "\n",
              "    .dataframe thead th {\n",
              "        text-align: right;\n",
              "    }\n",
              "</style>\n",
              "<table border=\"1\" class=\"dataframe\">\n",
              "  <thead>\n",
              "    <tr style=\"text-align: right;\">\n",
              "      <th></th>\n",
              "      <th>date</th>\n",
              "      <th>time</th>\n",
              "      <th>lat</th>\n",
              "      <th>lng</th>\n",
              "      <th>precinct</th>\n",
              "      <th>zone</th>\n",
              "      <th>subject_race</th>\n",
              "      <th>subject_sex</th>\n",
              "      <th>outcome</th>\n",
              "      <th>reason_for_stop</th>\n",
              "      <th>hour</th>\n",
              "      <th>minute</th>\n",
              "      <th>month</th>\n",
              "      <th>day</th>\n",
              "      <th>day_of_week</th>\n",
              "      <th>time_MISSING</th>\n",
              "      <th>lat_MISSING</th>\n",
              "      <th>lng_MISSING</th>\n",
              "      <th>precinct_MISSING</th>\n",
              "      <th>zone_MISSING</th>\n",
              "    </tr>\n",
              "  </thead>\n",
              "  <tbody>\n",
              "    <tr>\n",
              "      <td>0</td>\n",
              "      <td>2012-01-01</td>\n",
              "      <td>01:16:00</td>\n",
              "      <td>39.949920</td>\n",
              "      <td>-82.975067</td>\n",
              "      <td>11.0</td>\n",
              "      <td>5.0</td>\n",
              "      <td>white</td>\n",
              "      <td>female</td>\n",
              "      <td>1</td>\n",
              "      <td>Moving Violation</td>\n",
              "      <td>1.0</td>\n",
              "      <td>16.0</td>\n",
              "      <td>1</td>\n",
              "      <td>1</td>\n",
              "      <td>Sunday</td>\n",
              "      <td>False</td>\n",
              "      <td>False</td>\n",
              "      <td>False</td>\n",
              "      <td>False</td>\n",
              "      <td>False</td>\n",
              "    </tr>\n",
              "    <tr>\n",
              "      <td>1</td>\n",
              "      <td>2012-01-01</td>\n",
              "      <td>01:20:00</td>\n",
              "      <td>40.001043</td>\n",
              "      <td>-83.006871</td>\n",
              "      <td>4.0</td>\n",
              "      <td>4.0</td>\n",
              "      <td>white</td>\n",
              "      <td>male</td>\n",
              "      <td>0</td>\n",
              "      <td>Moving Violation</td>\n",
              "      <td>1.0</td>\n",
              "      <td>20.0</td>\n",
              "      <td>1</td>\n",
              "      <td>1</td>\n",
              "      <td>Sunday</td>\n",
              "      <td>False</td>\n",
              "      <td>False</td>\n",
              "      <td>False</td>\n",
              "      <td>False</td>\n",
              "      <td>False</td>\n",
              "    </tr>\n",
              "    <tr>\n",
              "      <td>2</td>\n",
              "      <td>2012-01-01</td>\n",
              "      <td>07:54:00</td>\n",
              "      <td>39.990708</td>\n",
              "      <td>-83.020528</td>\n",
              "      <td>NaN</td>\n",
              "      <td>NaN</td>\n",
              "      <td>black</td>\n",
              "      <td>male</td>\n",
              "      <td>0</td>\n",
              "      <td>Moving Violation</td>\n",
              "      <td>7.0</td>\n",
              "      <td>54.0</td>\n",
              "      <td>1</td>\n",
              "      <td>1</td>\n",
              "      <td>Sunday</td>\n",
              "      <td>False</td>\n",
              "      <td>False</td>\n",
              "      <td>False</td>\n",
              "      <td>True</td>\n",
              "      <td>True</td>\n",
              "    </tr>\n",
              "    <tr>\n",
              "      <td>3</td>\n",
              "      <td>2012-01-01</td>\n",
              "      <td>10:00:00</td>\n",
              "      <td>39.946876</td>\n",
              "      <td>-82.915567</td>\n",
              "      <td>9.0</td>\n",
              "      <td>2.0</td>\n",
              "      <td>black</td>\n",
              "      <td>male</td>\n",
              "      <td>0</td>\n",
              "      <td>Moving Violation</td>\n",
              "      <td>10.0</td>\n",
              "      <td>0.0</td>\n",
              "      <td>1</td>\n",
              "      <td>1</td>\n",
              "      <td>Sunday</td>\n",
              "      <td>False</td>\n",
              "      <td>False</td>\n",
              "      <td>False</td>\n",
              "      <td>False</td>\n",
              "      <td>False</td>\n",
              "    </tr>\n",
              "    <tr>\n",
              "      <td>4</td>\n",
              "      <td>2012-01-01</td>\n",
              "      <td>10:50:00</td>\n",
              "      <td>39.979569</td>\n",
              "      <td>-83.102749</td>\n",
              "      <td>15.0</td>\n",
              "      <td>3.0</td>\n",
              "      <td>black</td>\n",
              "      <td>female</td>\n",
              "      <td>0</td>\n",
              "      <td>Moving Violation</td>\n",
              "      <td>10.0</td>\n",
              "      <td>50.0</td>\n",
              "      <td>1</td>\n",
              "      <td>1</td>\n",
              "      <td>Sunday</td>\n",
              "      <td>False</td>\n",
              "      <td>False</td>\n",
              "      <td>False</td>\n",
              "      <td>False</td>\n",
              "      <td>False</td>\n",
              "    </tr>\n",
              "  </tbody>\n",
              "</table>\n",
              "</div>"
            ],
            "text/plain": [
              "        date      time        lat        lng  precinct  zone subject_race  \\\n",
              "0 2012-01-01  01:16:00  39.949920 -82.975067      11.0   5.0        white   \n",
              "1 2012-01-01  01:20:00  40.001043 -83.006871       4.0   4.0        white   \n",
              "2 2012-01-01  07:54:00  39.990708 -83.020528       NaN   NaN        black   \n",
              "3 2012-01-01  10:00:00  39.946876 -82.915567       9.0   2.0        black   \n",
              "4 2012-01-01  10:50:00  39.979569 -83.102749      15.0   3.0        black   \n",
              "\n",
              "  subject_sex  outcome   reason_for_stop  hour  minute  month  day  \\\n",
              "0      female        1  Moving Violation   1.0    16.0      1    1   \n",
              "1        male        0  Moving Violation   1.0    20.0      1    1   \n",
              "2        male        0  Moving Violation   7.0    54.0      1    1   \n",
              "3        male        0  Moving Violation  10.0     0.0      1    1   \n",
              "4      female        0  Moving Violation  10.0    50.0      1    1   \n",
              "\n",
              "  day_of_week  time_MISSING  lat_MISSING  lng_MISSING  precinct_MISSING  \\\n",
              "0      Sunday         False        False        False             False   \n",
              "1      Sunday         False        False        False             False   \n",
              "2      Sunday         False        False        False              True   \n",
              "3      Sunday         False        False        False             False   \n",
              "4      Sunday         False        False        False             False   \n",
              "\n",
              "   zone_MISSING  \n",
              "0         False  \n",
              "1         False  \n",
              "2          True  \n",
              "3         False  \n",
              "4         False  "
            ]
          },
          "metadata": {
            "tags": []
          },
          "execution_count": 219
        }
      ]
    },
    {
      "cell_type": "markdown",
      "metadata": {
        "id": "w3BB4eLTB_DQ",
        "colab_type": "text"
      },
      "source": [
        "# Assignment 2"
      ]
    },
    {
      "cell_type": "markdown",
      "metadata": {
        "id": "v_7pfz78B_DR",
        "colab_type": "text"
      },
      "source": [
        "Lambda School Data Science\n",
        "\n",
        "*Unit 2, Sprint 3, Module 2*\n",
        "\n",
        "---\n",
        "\n",
        "\n",
        "## Permutation & Boosting\n",
        "\n",
        "You will use your portfolio project dataset for all assignments this sprint.\n",
        "\n",
        "## Assignment\n",
        "\n",
        "Complete these tasks for your project, and document your work.\n",
        "\n",
        "- [ ] If you haven't completed assignment #1, please do so first.\n",
        "- [ ] Continue to clean and explore your data. Make exploratory visualizations.\n",
        "- [ ] Fit a model. Does it beat your baseline? \n",
        "- [ ] Try xgboost.\n",
        "- [ ] Get your model's permutation importances.\n",
        "\n",
        "You should try to complete an initial model today, because the rest of the week, we're making model interpretation visualizations.\n",
        "\n",
        "But, if you aren't ready to try xgboost and permutation importances with your dataset today, that's okay. You can practice with another dataset instead. You may choose any dataset you've worked with previously.\n",
        "\n",
        "The data subdirectory includes the Titanic dataset for classification and the NYC apartments dataset for regression. You may want to choose one of these datasets, because example solutions will be available for each.\n",
        "\n",
        "\n",
        "## Reading\n",
        "\n",
        "Top recommendations in _**bold italic:**_\n",
        "\n",
        "#### Permutation Importances\n",
        "- _**[Kaggle / Dan Becker: Machine Learning Explainability](https://www.kaggle.com/dansbecker/permutation-importance)**_\n",
        "- [Christoph Molnar: Interpretable Machine Learning](https://christophm.github.io/interpretable-ml-book/feature-importance.html)\n",
        "\n",
        "#### (Default) Feature Importances\n",
        "  - [Ando Saabas: Selecting good features, Part 3, Random Forests](https://blog.datadive.net/selecting-good-features-part-iii-random-forests/)\n",
        "  - [Terence Parr, et al: Beware Default Random Forest Importances](https://explained.ai/rf-importance/index.html)\n",
        "\n",
        "#### Gradient Boosting\n",
        "  - [A Gentle Introduction to the Gradient Boosting Algorithm for Machine Learning](https://machinelearningmastery.com/gentle-introduction-gradient-boosting-algorithm-machine-learning/)\n",
        "  - _**[A Kaggle Master Explains Gradient Boosting](http://blog.kaggle.com/2017/01/23/a-kaggle-master-explains-gradient-boosting/)**_\n",
        "  - [_An Introduction to Statistical Learning_](http://www-bcf.usc.edu/~gareth/ISL/ISLR%20Seventh%20Printing.pdf) Chapter 8\n",
        "  - [Gradient Boosting Explained](http://arogozhnikov.github.io/2016/06/24/gradient_boosting_explained.html)\n",
        "  - _**[Boosting](https://www.youtube.com/watch?v=GM3CDQfQ4sw) (2.5 minute video)**_"
      ]
    },
    {
      "cell_type": "markdown",
      "metadata": {
        "id": "n43nstrmB_DS",
        "colab_type": "text"
      },
      "source": [
        "## Some Exploratory Visualizations"
      ]
    },
    {
      "cell_type": "code",
      "metadata": {
        "id": "eS2Mi0w-B_DT",
        "colab_type": "code",
        "colab": {}
      },
      "source": [
        "import seaborn as sns\n",
        "import matplotlib.pyplot as plt"
      ],
      "execution_count": 0,
      "outputs": []
    },
    {
      "cell_type": "code",
      "metadata": {
        "id": "A1I7Bs7AB_DV",
        "colab_type": "code",
        "colab": {},
        "outputId": "32443760-646b-4ae3-d019-fb84890279c9"
      },
      "source": [
        "sns.distplot(my_train['hour'].dropna())"
      ],
      "execution_count": 0,
      "outputs": [
        {
          "output_type": "execute_result",
          "data": {
            "text/plain": [
              "<matplotlib.axes._subplots.AxesSubplot at 0x33300f48>"
            ]
          },
          "metadata": {
            "tags": []
          },
          "execution_count": 221
        },
        {
          "output_type": "display_data",
          "data": {
            "image/png": "[encoded data removed]",
            "text/plain": [
              "<Figure size 432x288 with 1 Axes>"
            ]
          },
          "metadata": {
            "tags": [],
            "needs_background": "light"
          }
        }
      ]
    },
    {
      "cell_type": "code",
      "metadata": {
        "id": "MYmP7CHsB_Dh",
        "colab_type": "code",
        "colab": {},
        "outputId": "9605c3ea-7d8f-47b6-b65f-32c6a3cae5a1"
      },
      "source": [
        "my_train['hour'].value_counts()"
      ],
      "execution_count": 0,
      "outputs": [
        {
          "output_type": "execute_result",
          "data": {
            "text/plain": [
              "16.0    8604\n",
              "15.0    6948\n",
              "17.0    6948\n",
              "20.0    4909\n",
              "0.0     4732\n",
              "14.0    4178\n",
              "19.0    4167\n",
              "23.0    4022\n",
              "18.0    3996\n",
              "1.0     3906\n",
              "21.0    3794\n",
              "2.0     3165\n",
              "22.0    2600\n",
              "10.0    2254\n",
              "11.0    2247\n",
              "3.0     1905\n",
              "13.0    1886\n",
              "8.0     1851\n",
              "12.0    1774\n",
              "9.0     1760\n",
              "4.0     1233\n",
              "7.0     1211\n",
              "5.0      685\n",
              "6.0      388\n",
              "Name: hour, dtype: int64"
            ]
          },
          "metadata": {
            "tags": []
          },
          "execution_count": 222
        }
      ]
    },
    {
      "cell_type": "code",
      "metadata": {
        "id": "k96qSEtsB_Dl",
        "colab_type": "code",
        "colab": {},
        "outputId": "9799c5a8-e9dc-4bdd-a1da-7ecc0f13d83c"
      },
      "source": [
        "plt.figure(figsize=(15,8))\n",
        "\n",
        "ax = sns.barplot(my_train['hour'].dropna(), my_train['outcome'])"
      ],
      "execution_count": 0,
      "outputs": [
        {
          "output_type": "display_data",
          "data": {
            "image/png": "[encoded data removed]",
            "text/plain": [
              "<Figure size 1080x576 with 1 Axes>"
            ]
          },
          "metadata": {
            "tags": [],
            "needs_background": "light"
          }
        }
      ]
    },
    {
      "cell_type": "code",
      "metadata": {
        "id": "lo1U1zaKB_Dp",
        "colab_type": "code",
        "colab": {},
        "outputId": "ec6839a7-bc37-4c50-e222-0164e56da3df"
      },
      "source": [
        "#Clearly no relationship here. I should probably drop the minute feature\n",
        "sns.distplot(my_train['minute'].dropna())"
      ],
      "execution_count": 0,
      "outputs": [
        {
          "output_type": "execute_result",
          "data": {
            "text/plain": [
              "<matplotlib.axes._subplots.AxesSubplot at 0x3a5d3408>"
            ]
          },
          "metadata": {
            "tags": []
          },
          "execution_count": 224
        },
        {
          "output_type": "display_data",
          "data": {
            "image/png": "[encoded data removed]",
            "text/plain": [
              "<Figure size 432x288 with 1 Axes>"
            ]
          },
          "metadata": {
            "tags": [],
            "needs_background": "light"
          }
        }
      ]
    },
    {
      "cell_type": "code",
      "metadata": {
        "id": "C2SCvMjAB_Dr",
        "colab_type": "code",
        "colab": {},
        "outputId": "8c4a855d-57db-43d6-92af-d0fa45c01a57"
      },
      "source": [
        "plt.figure(figsize=(20,8))\n",
        "ax = sns.barplot(my_train['minute'].dropna(), my_train['outcome'])"
      ],
      "execution_count": 0,
      "outputs": [
        {
          "output_type": "display_data",
          "data": {
            "image/png": "[encoded data removed]",
            "text/plain": [
              "<Figure size 1440x576 with 1 Axes>"
            ]
          },
          "metadata": {
            "tags": [],
            "needs_background": "light"
          }
        }
      ]
    },
    {
      "cell_type": "code",
      "metadata": {
        "id": "_9Sbd05FB_Du",
        "colab_type": "code",
        "colab": {},
        "outputId": "b07bcd77-771c-4c32-b509-90e4ee8a1e1e"
      },
      "source": [
        "sns.barplot(my_train['subject_race'], my_train['outcome'])"
      ],
      "execution_count": 0,
      "outputs": [
        {
          "output_type": "execute_result",
          "data": {
            "text/plain": [
              "<matplotlib.axes._subplots.AxesSubplot at 0x3da44088>"
            ]
          },
          "metadata": {
            "tags": []
          },
          "execution_count": 226
        },
        {
          "output_type": "display_data",
          "data": {
            "image/png": "[encoded data removed]",
            "text/plain": [
              "<Figure size 432x288 with 1 Axes>"
            ]
          },
          "metadata": {
            "tags": [],
            "needs_background": "light"
          }
        }
      ]
    },
    {
      "cell_type": "code",
      "metadata": {
        "id": "gGx5zAQxB_Dx",
        "colab_type": "code",
        "colab": {},
        "outputId": "1e90380c-4d8c-4945-a634-0ffeb4e794f9"
      },
      "source": [
        "sns.barplot(my_train['subject_sex'], my_train['outcome'])"
      ],
      "execution_count": 0,
      "outputs": [
        {
          "output_type": "execute_result",
          "data": {
            "text/plain": [
              "<matplotlib.axes._subplots.AxesSubplot at 0x3ebfde08>"
            ]
          },
          "metadata": {
            "tags": []
          },
          "execution_count": 227
        },
        {
          "output_type": "display_data",
          "data": {
            "image/png": "[encoded data removed]",
            "text/plain": [
              "<Figure size 432x288 with 1 Axes>"
            ]
          },
          "metadata": {
            "tags": [],
            "needs_background": "light"
          }
        }
      ]
    },
    {
      "cell_type": "code",
      "metadata": {
        "id": "BSxSouMkB_Dz",
        "colab_type": "code",
        "colab": {},
        "outputId": "d63fcc41-7d42-4bfd-e2b7-2b8f7d424fbc"
      },
      "source": [
        "plt.figure(figsize=(15,8))\n",
        "\n",
        "ax = sns.barplot(my_train['precinct'].dropna(), my_train['outcome'])"
      ],
      "execution_count": 0,
      "outputs": [
        {
          "output_type": "display_data",
          "data": {
            "image/png": "[encoded data removed]",
            "text/plain": [
              "<Figure size 1080x576 with 1 Axes>"
            ]
          },
          "metadata": {
            "tags": [],
            "needs_background": "light"
          }
        }
      ]
    },
    {
      "cell_type": "code",
      "metadata": {
        "id": "18tleupzB_D4",
        "colab_type": "code",
        "colab": {},
        "outputId": "2d31772a-c100-4029-b1a4-800412535559"
      },
      "source": [
        "sns.barplot(my_train['zone'].dropna(), my_train['outcome'])"
      ],
      "execution_count": 0,
      "outputs": [
        {
          "output_type": "execute_result",
          "data": {
            "text/plain": [
              "<matplotlib.axes._subplots.AxesSubplot at 0x2d7eb508>"
            ]
          },
          "metadata": {
            "tags": []
          },
          "execution_count": 229
        },
        {
          "output_type": "display_data",
          "data": {
            "image/png": "[encoded data removed]",
            "text/plain": [
              "<Figure size 432x288 with 1 Axes>"
            ]
          },
          "metadata": {
            "tags": [],
            "needs_background": "light"
          }
        }
      ]
    },
    {
      "cell_type": "code",
      "metadata": {
        "id": "HsnpBQGPB_D7",
        "colab_type": "code",
        "colab": {},
        "outputId": "5417fac6-b42e-4a69-cf14-f877946705f5"
      },
      "source": [
        "sns.barplot(my_train['day_of_week'].dropna(), my_train['outcome'])"
      ],
      "execution_count": 0,
      "outputs": [
        {
          "output_type": "execute_result",
          "data": {
            "text/plain": [
              "<matplotlib.axes._subplots.AxesSubplot at 0x18f95488>"
            ]
          },
          "metadata": {
            "tags": []
          },
          "execution_count": 230
        },
        {
          "output_type": "display_data",
          "data": {
            "image/png": "[encoded data removed]",
            "text/plain": [
              "<Figure size 432x288 with 1 Axes>"
            ]
          },
          "metadata": {
            "tags": [],
            "needs_background": "light"
          }
        }
      ]
    },
    {
      "cell_type": "code",
      "metadata": {
        "id": "ph0nfjmCB_D9",
        "colab_type": "code",
        "colab": {},
        "outputId": "2acdf4d2-b7bd-40c7-a0d9-75cc09e29b7f"
      },
      "source": [
        "sns.barplot(my_train['month'].dropna(), my_train['outcome'])"
      ],
      "execution_count": 0,
      "outputs": [
        {
          "output_type": "execute_result",
          "data": {
            "text/plain": [
              "<matplotlib.axes._subplots.AxesSubplot at 0x18fcd2c8>"
            ]
          },
          "metadata": {
            "tags": []
          },
          "execution_count": 231
        },
        {
          "output_type": "display_data",
          "data": {
            "image/png": "[encoded data removed]",
            "text/plain": [
              "<Figure size 432x288 with 1 Axes>"
            ]
          },
          "metadata": {
            "tags": [],
            "needs_background": "light"
          }
        }
      ]
    },
    {
      "cell_type": "code",
      "metadata": {
        "id": "vVSceNHAB_D_",
        "colab_type": "code",
        "colab": {},
        "outputId": "754a2a30-0808-4b98-e5c5-017af9b4f702"
      },
      "source": [
        "plt.figure(figsize=(15,8))\n",
        "\n",
        "ax = sns.barplot(my_train['day'].dropna(), my_train['outcome'])"
      ],
      "execution_count": 0,
      "outputs": [
        {
          "output_type": "display_data",
          "data": {
            "image/png": "[encoded data removed]",
            "text/plain": [
              "<Figure size 1080x576 with 1 Axes>"
            ]
          },
          "metadata": {
            "tags": [],
            "needs_background": "light"
          }
        }
      ]
    },
    {
      "cell_type": "code",
      "metadata": {
        "id": "SOZ5VOG-B_ED",
        "colab_type": "code",
        "colab": {},
        "outputId": "ff484f7b-8410-4169-bfe8-d13918907f30"
      },
      "source": [
        "sns.barplot(my_train['zone_MISSING'].dropna(), my_train['outcome'])"
      ],
      "execution_count": 0,
      "outputs": [
        {
          "output_type": "execute_result",
          "data": {
            "text/plain": [
              "<matplotlib.axes._subplots.AxesSubplot at 0xf21bac8>"
            ]
          },
          "metadata": {
            "tags": []
          },
          "execution_count": 233
        },
        {
          "output_type": "display_data",
          "data": {
            "image/png": "[encoded data removed]",
            "text/plain": [
              "<Figure size 432x288 with 1 Axes>"
            ]
          },
          "metadata": {
            "tags": [],
            "needs_background": "light"
          }
        }
      ]
    },
    {
      "cell_type": "code",
      "metadata": {
        "id": "NhWtRoPCB_EF",
        "colab_type": "code",
        "colab": {},
        "outputId": "86e253e3-b538-437b-af77-40561a5f85bb"
      },
      "source": [
        "plt.figure(figsize=(15,8))\n",
        "\n",
        "ax = sns.barplot(my_train['reason_for_stop'].dropna(), my_train['outcome'])"
      ],
      "execution_count": 0,
      "outputs": [
        {
          "output_type": "display_data",
          "data": {
            "image/png": "[encoded data removed]",
            "text/plain": [
              "<Figure size 1080x576 with 1 Axes>"
            ]
          },
          "metadata": {
            "tags": [],
            "needs_background": "light"
          }
        }
      ]
    },
    {
      "cell_type": "markdown",
      "metadata": {
        "id": "zuKO1_-ZB_EI",
        "colab_type": "text"
      },
      "source": [
        "## Getting a baseline"
      ]
    },
    {
      "cell_type": "code",
      "metadata": {
        "id": "kGufONaRB_EI",
        "colab_type": "code",
        "colab": {}
      },
      "source": [
        "target = 'outcome'\n",
        "features = my_train.drop(columns=['outcome','date']).columns\n",
        "\n",
        "\n",
        "X_train = my_train[features]\n",
        "y_train = my_train[target]\n",
        "\n",
        "X_val = my_val[features]\n",
        "y_val = my_val[target]\n",
        "\n",
        "X_test = test[features]\n",
        "y_test = test[target]"
      ],
      "execution_count": 0,
      "outputs": []
    },
    {
      "cell_type": "code",
      "metadata": {
        "id": "9520w29kB_EK",
        "colab_type": "code",
        "colab": {},
        "outputId": "6eff2c65-7edd-4e4d-e3c1-41ef40aa5736"
      },
      "source": [
        "# An arrest or citation occurs in the majority of cases\n",
        "my_train['outcome'].value_counts()"
      ],
      "execution_count": 0,
      "outputs": [
        {
          "output_type": "execute_result",
          "data": {
            "text/plain": [
              "1    47173\n",
              "0    32108\n",
              "Name: outcome, dtype: int64"
            ]
          },
          "metadata": {
            "tags": []
          },
          "execution_count": 236
        }
      ]
    },
    {
      "cell_type": "code",
      "metadata": {
        "id": "vrDqB1mzB_EN",
        "colab_type": "code",
        "colab": {}
      },
      "source": [
        "y_pred = [1]* len(X_val)"
      ],
      "execution_count": 0,
      "outputs": []
    },
    {
      "cell_type": "code",
      "metadata": {
        "id": "AQlL3CzcB_EP",
        "colab_type": "code",
        "colab": {}
      },
      "source": [
        "from sklearn.metrics import accuracy_score"
      ],
      "execution_count": 0,
      "outputs": []
    },
    {
      "cell_type": "markdown",
      "metadata": {
        "id": "bn7LJEOmB_ER",
        "colab_type": "text"
      },
      "source": [
        "### My accuracy score to beat is 57.40%"
      ]
    },
    {
      "cell_type": "code",
      "metadata": {
        "id": "FOob50UtB_ER",
        "colab_type": "code",
        "colab": {},
        "outputId": "e0127934-68aa-4ba7-8499-3457d2b51eed"
      },
      "source": [
        "accuracy_score(y_pred, y_val)"
      ],
      "execution_count": 0,
      "outputs": [
        {
          "output_type": "execute_result",
          "data": {
            "text/plain": [
              "0.5740280195639559"
            ]
          },
          "metadata": {
            "tags": []
          },
          "execution_count": 239
        }
      ]
    },
    {
      "cell_type": "markdown",
      "metadata": {
        "id": "C1f3-fuqB_EV",
        "colab_type": "text"
      },
      "source": [
        "## Initial fitting the model"
      ]
    },
    {
      "cell_type": "code",
      "metadata": {
        "id": "8a48eFB-B_EW",
        "colab_type": "code",
        "colab": {}
      },
      "source": [
        "import category_encoders as ce\n",
        "from sklearn.impute import SimpleImputer\n",
        "from sklearn.ensemble import RandomForestClassifier\n",
        "from sklearn.pipeline import make_pipeline\n",
        "from xgboost import XGBClassifier"
      ],
      "execution_count": 0,
      "outputs": []
    },
    {
      "cell_type": "code",
      "metadata": {
        "id": "-Xn0AzuiB_EY",
        "colab_type": "code",
        "colab": {},
        "outputId": "f5cd4fe6-70c8-4d7d-a7cb-5d2948dc7e7d"
      },
      "source": [
        "my_pipeline_rforest = make_pipeline(\n",
        "    ce.OrdinalEncoder(),\n",
        "    SimpleImputer(),\n",
        "    RandomForestClassifier(n_estimators=100, random_state=333, n_jobs=-1)\n",
        ")\n",
        "\n",
        "my_pipeline_rforest.fit(X_train, y_train)"
      ],
      "execution_count": 0,
      "outputs": [
        {
          "output_type": "execute_result",
          "data": {
            "text/plain": [
              "Pipeline(memory=None,\n",
              "         steps=[('ordinalencoder',\n",
              "                 OrdinalEncoder(cols=['time', 'subject_race', 'subject_sex',\n",
              "                                      'reason_for_stop', 'day_of_week'],\n",
              "                                drop_invariant=False, handle_missing='value',\n",
              "                                handle_unknown='value',\n",
              "                                mapping=[{'col': 'time',\n",
              "                                          'data_type': dtype('O'),\n",
              "                                          'mapping': 01:16:00       1\n",
              "01:20:00       2\n",
              "07:54:00       3\n",
              "10:00:00       4\n",
              "10:50:00       5\n",
              "            ... \n",
              "06:26:00    1434\n",
              "06:27:00    1435\n",
              "05:41:00    1436\n",
              "06:23:0...\n",
              "                 RandomForestClassifier(bootstrap=True, class_weight=None,\n",
              "                                        criterion='gini', max_depth=None,\n",
              "                                        max_features='auto',\n",
              "                                        max_leaf_nodes=None,\n",
              "                                        min_impurity_decrease=0.0,\n",
              "                                        min_impurity_split=None,\n",
              "                                        min_samples_leaf=1, min_samples_split=2,\n",
              "                                        min_weight_fraction_leaf=0.0,\n",
              "                                        n_estimators=100, n_jobs=-1,\n",
              "                                        oob_score=False, random_state=333,\n",
              "                                        verbose=0, warm_start=False))],\n",
              "         verbose=False)"
            ]
          },
          "metadata": {
            "tags": []
          },
          "execution_count": 241
        }
      ]
    },
    {
      "cell_type": "markdown",
      "metadata": {
        "id": "daAO5obPB_Eb",
        "colab_type": "text"
      },
      "source": [
        "### Random Forest Classifier yields 63.99% accuracy"
      ]
    },
    {
      "cell_type": "code",
      "metadata": {
        "id": "35GM83MjB_Ed",
        "colab_type": "code",
        "colab": {},
        "outputId": "06f6da49-c3b8-4b8e-ecf9-07001837263b"
      },
      "source": [
        "my_pipeline_rforest.score(X_val,y_val)"
      ],
      "execution_count": 0,
      "outputs": [
        {
          "output_type": "execute_result",
          "data": {
            "text/plain": [
              "0.6399320235430656"
            ]
          },
          "metadata": {
            "tags": []
          },
          "execution_count": 242
        }
      ]
    },
    {
      "cell_type": "code",
      "metadata": {
        "id": "RyMxCoEyB_Eh",
        "colab_type": "code",
        "colab": {},
        "outputId": "43f6f089-6980-4732-bc2f-1c90e946c8c0"
      },
      "source": [
        "\n",
        "my_pipeline_xgboost = make_pipeline(\n",
        "    ce.OrdinalEncoder(),\n",
        "    SimpleImputer(),\n",
        "    XGBClassifier(n_estimators=100, random_state=333, n_jobs=-1)\n",
        ")\n",
        "\n",
        "my_pipeline_xgboost.fit(X_train, y_train)"
      ],
      "execution_count": 0,
      "outputs": [
        {
          "output_type": "execute_result",
          "data": {
            "text/plain": [
              "Pipeline(memory=None,\n",
              "         steps=[('ordinalencoder',\n",
              "                 OrdinalEncoder(cols=['time', 'subject_race', 'subject_sex',\n",
              "                                      'reason_for_stop', 'day_of_week'],\n",
              "                                drop_invariant=False, handle_missing='value',\n",
              "                                handle_unknown='value',\n",
              "                                mapping=[{'col': 'time',\n",
              "                                          'data_type': dtype('O'),\n",
              "                                          'mapping': 01:16:00       1\n",
              "01:20:00       2\n",
              "07:54:00       3\n",
              "10:00:00       4\n",
              "10:50:00       5\n",
              "            ... \n",
              "06:26:00    1434\n",
              "06:27:00    1435\n",
              "05:41:00    1436\n",
              "06:23:0...\n",
              "                 XGBClassifier(base_score=0.5, booster='gbtree',\n",
              "                               colsample_bylevel=1, colsample_bynode=1,\n",
              "                               colsample_bytree=1, gamma=0, learning_rate=0.1,\n",
              "                               max_delta_step=0, max_depth=3,\n",
              "                               min_child_weight=1, missing=None,\n",
              "                               n_estimators=100, n_jobs=-1, nthread=None,\n",
              "                               objective='binary:logistic', random_state=333,\n",
              "                               reg_alpha=0, reg_lambda=1, scale_pos_weight=1,\n",
              "                               seed=None, silent=None, subsample=1,\n",
              "                               verbosity=1))],\n",
              "         verbose=False)"
            ]
          },
          "metadata": {
            "tags": []
          },
          "execution_count": 243
        }
      ]
    },
    {
      "cell_type": "markdown",
      "metadata": {
        "id": "7r7y78U7B_El",
        "colab_type": "text"
      },
      "source": [
        "### XGBoost yields 64.17% accuracy"
      ]
    },
    {
      "cell_type": "code",
      "metadata": {
        "id": "7s45raHAB_Em",
        "colab_type": "code",
        "colab": {},
        "outputId": "fedfd62b-08ff-4b0c-af2f-d28427ec3114"
      },
      "source": [
        "my_pipeline_xgboost.score(X_val,y_val)"
      ],
      "execution_count": 0,
      "outputs": [
        {
          "output_type": "execute_result",
          "data": {
            "text/plain": [
              "0.6416728840255326"
            ]
          },
          "metadata": {
            "tags": []
          },
          "execution_count": 244
        }
      ]
    },
    {
      "cell_type": "code",
      "metadata": {
        "id": "aIMJdfYlB_Eo",
        "colab_type": "code",
        "colab": {}
      },
      "source": [
        "encoder = ce.OrdinalEncoder()\n",
        "X_train_encoded = encoder.fit_transform(X_train)\n",
        "X_val_encoded = encoder.transform(X_val)"
      ],
      "execution_count": 0,
      "outputs": []
    },
    {
      "cell_type": "code",
      "metadata": {
        "id": "DcQtwvUJB_Eq",
        "colab_type": "code",
        "colab": {}
      },
      "source": [
        "eval_set = [(X_train_encoded, y_train),\n",
        "            (X_val_encoded, y_val)]"
      ],
      "execution_count": 0,
      "outputs": []
    },
    {
      "cell_type": "code",
      "metadata": {
        "id": "ZBmURswtB_Et",
        "colab_type": "code",
        "colab": {}
      },
      "source": [
        "model = XGBClassifier(\n",
        "    n_estimators = 1000, # up to this number\n",
        "    max_depth=6, #Tried multiple depths, 6 was the best\n",
        "    learning_rate=0.1,\n",
        "    n_jobs=-1\n",
        ")"
      ],
      "execution_count": 0,
      "outputs": []
    },
    {
      "cell_type": "code",
      "metadata": {
        "id": "tkPJa8WpB_Ew",
        "colab_type": "code",
        "colab": {},
        "outputId": "7238bfc8-5a85-4db5-f9fe-442f6cb83187"
      },
      "source": [
        "model.fit(X_train_encoded,\n",
        "          y_train, eval_set=eval_set,\n",
        "          eval_metric='error',\n",
        "          early_stopping_rounds=50)"
      ],
      "execution_count": 0,
      "outputs": [
        {
          "output_type": "stream",
          "text": [
            "[0]\tvalidation_0-error:0.331366\tvalidation_1-error:0.359736\n",
            "Multiple eval metrics have been passed: 'validation_1-error' will be used for early stopping.\n",
            "\n",
            "Will train until validation_1-error hasn't improved in 50 rounds.\n",
            "[1]\tvalidation_0-error:0.329902\tvalidation_1-error:0.356752\n",
            "[2]\tvalidation_0-error:0.329524\tvalidation_1-error:0.358907\n",
            "[3]\tvalidation_0-error:0.331012\tvalidation_1-error:0.362513\n",
            "[4]\tvalidation_0-error:0.330344\tvalidation_1-error:0.361436\n",
            "[5]\tvalidation_0-error:0.330621\tvalidation_1-error:0.361685\n",
            "[6]\tvalidation_0-error:0.327872\tvalidation_1-error:0.358327\n",
            "[7]\tvalidation_0-error:0.324933\tvalidation_1-error:0.358451\n",
            "[8]\tvalidation_0-error:0.32569\tvalidation_1-error:0.360358\n",
            "[9]\tvalidation_0-error:0.32381\tvalidation_1-error:0.358369\n",
            "[10]\tvalidation_0-error:0.323646\tvalidation_1-error:0.358742\n",
            "[11]\tvalidation_0-error:0.322852\tvalidation_1-error:0.357871\n",
            "[12]\tvalidation_0-error:0.322625\tvalidation_1-error:0.357457\n",
            "[13]\tvalidation_0-error:0.321565\tvalidation_1-error:0.356918\n",
            "[14]\tvalidation_0-error:0.320745\tvalidation_1-error:0.357374\n",
            "[15]\tvalidation_0-error:0.320417\tvalidation_1-error:0.357664\n",
            "[16]\tvalidation_0-error:0.320014\tvalidation_1-error:0.357415\n",
            "[17]\tvalidation_0-error:0.3199\tvalidation_1-error:0.357167\n",
            "[18]\tvalidation_0-error:0.319005\tvalidation_1-error:0.356255\n",
            "[19]\tvalidation_0-error:0.317844\tvalidation_1-error:0.355965\n",
            "[20]\tvalidation_0-error:0.317188\tvalidation_1-error:0.355053\n",
            "[21]\tvalidation_0-error:0.316974\tvalidation_1-error:0.354016\n",
            "[22]\tvalidation_0-error:0.316103\tvalidation_1-error:0.353768\n",
            "[23]\tvalidation_0-error:0.315586\tvalidation_1-error:0.353187\n",
            "[24]\tvalidation_0-error:0.314439\tvalidation_1-error:0.352151\n",
            "[25]\tvalidation_0-error:0.31401\tvalidation_1-error:0.352276\n",
            "[26]\tvalidation_0-error:0.313568\tvalidation_1-error:0.352607\n",
            "[27]\tvalidation_0-error:0.312761\tvalidation_1-error:0.352193\n",
            "[28]\tvalidation_0-error:0.311411\tvalidation_1-error:0.351405\n",
            "[29]\tvalidation_0-error:0.310705\tvalidation_1-error:0.350327\n",
            "[30]\tvalidation_0-error:0.310137\tvalidation_1-error:0.35041\n",
            "[31]\tvalidation_0-error:0.309734\tvalidation_1-error:0.350327\n",
            "[32]\tvalidation_0-error:0.309065\tvalidation_1-error:0.350369\n",
            "[33]\tvalidation_0-error:0.308712\tvalidation_1-error:0.349913\n",
            "[34]\tvalidation_0-error:0.308031\tvalidation_1-error:0.349208\n",
            "[35]\tvalidation_0-error:0.307337\tvalidation_1-error:0.349208\n",
            "[36]\tvalidation_0-error:0.306656\tvalidation_1-error:0.348835\n",
            "[37]\tvalidation_0-error:0.306152\tvalidation_1-error:0.349789\n",
            "[38]\tvalidation_0-error:0.305344\tvalidation_1-error:0.34954\n",
            "[39]\tvalidation_0-error:0.305521\tvalidation_1-error:0.35012\n",
            "[40]\tvalidation_0-error:0.305016\tvalidation_1-error:0.34925\n",
            "[41]\tvalidation_0-error:0.304424\tvalidation_1-error:0.349084\n",
            "[42]\tvalidation_0-error:0.303957\tvalidation_1-error:0.349789\n",
            "[43]\tvalidation_0-error:0.303477\tvalidation_1-error:0.350079\n",
            "[44]\tvalidation_0-error:0.302859\tvalidation_1-error:0.349581\n",
            "[45]\tvalidation_0-error:0.30296\tvalidation_1-error:0.349789\n",
            "[46]\tvalidation_0-error:0.302443\tvalidation_1-error:0.349291\n",
            "[47]\tvalidation_0-error:0.302292\tvalidation_1-error:0.349333\n",
            "[48]\tvalidation_0-error:0.301825\tvalidation_1-error:0.349374\n",
            "[49]\tvalidation_0-error:0.301308\tvalidation_1-error:0.348545\n",
            "[50]\tvalidation_0-error:0.301207\tvalidation_1-error:0.348296\n",
            "[51]\tvalidation_0-error:0.301106\tvalidation_1-error:0.348421\n",
            "[52]\tvalidation_0-error:0.300589\tvalidation_1-error:0.348587\n",
            "[53]\tvalidation_0-error:0.300059\tvalidation_1-error:0.348504\n",
            "[54]\tvalidation_0-error:0.299857\tvalidation_1-error:0.348131\n",
            "[55]\tvalidation_0-error:0.299883\tvalidation_1-error:0.347841\n",
            "[56]\tvalidation_0-error:0.299731\tvalidation_1-error:0.347841\n",
            "[57]\tvalidation_0-error:0.299227\tvalidation_1-error:0.347302\n",
            "[58]\tvalidation_0-error:0.298571\tvalidation_1-error:0.34697\n",
            "[59]\tvalidation_0-error:0.297827\tvalidation_1-error:0.347716\n",
            "[60]\tvalidation_0-error:0.297877\tvalidation_1-error:0.347882\n",
            "[61]\tvalidation_0-error:0.297663\tvalidation_1-error:0.347343\n",
            "[62]\tvalidation_0-error:0.29707\tvalidation_1-error:0.347509\n",
            "[63]\tvalidation_0-error:0.296704\tvalidation_1-error:0.34697\n",
            "[64]\tvalidation_0-error:0.29654\tvalidation_1-error:0.347302\n",
            "[65]\tvalidation_0-error:0.296427\tvalidation_1-error:0.347343\n",
            "[66]\tvalidation_0-error:0.2962\tvalidation_1-error:0.347716\n",
            "[67]\tvalidation_0-error:0.295935\tvalidation_1-error:0.347841\n",
            "[68]\tvalidation_0-error:0.295291\tvalidation_1-error:0.347385\n",
            "[69]\tvalidation_0-error:0.294825\tvalidation_1-error:0.347177\n",
            "[70]\tvalidation_0-error:0.2948\tvalidation_1-error:0.346763\n",
            "[71]\tvalidation_0-error:0.294371\tvalidation_1-error:0.346307\n",
            "[72]\tvalidation_0-error:0.293879\tvalidation_1-error:0.346431\n",
            "[73]\tvalidation_0-error:0.293841\tvalidation_1-error:0.346473\n",
            "[74]\tvalidation_0-error:0.293526\tvalidation_1-error:0.346183\n",
            "[75]\tvalidation_0-error:0.293488\tvalidation_1-error:0.346183\n",
            "[76]\tvalidation_0-error:0.293261\tvalidation_1-error:0.345851\n",
            "[77]\tvalidation_0-error:0.292706\tvalidation_1-error:0.345934\n",
            "[78]\tvalidation_0-error:0.292264\tvalidation_1-error:0.345809\n",
            "[79]\tvalidation_0-error:0.291936\tvalidation_1-error:0.345851\n",
            "[80]\tvalidation_0-error:0.291646\tvalidation_1-error:0.345644\n",
            "[81]\tvalidation_0-error:0.291697\tvalidation_1-error:0.345478\n",
            "[82]\tvalidation_0-error:0.291167\tvalidation_1-error:0.345436\n",
            "[83]\tvalidation_0-error:0.291079\tvalidation_1-error:0.345519\n",
            "[84]\tvalidation_0-error:0.290839\tvalidation_1-error:0.345436\n",
            "[85]\tvalidation_0-error:0.290322\tvalidation_1-error:0.345519\n",
            "[86]\tvalidation_0-error:0.289792\tvalidation_1-error:0.345312\n",
            "[87]\tvalidation_0-error:0.289603\tvalidation_1-error:0.345229\n",
            "[88]\tvalidation_0-error:0.28959\tvalidation_1-error:0.345312\n",
            "[89]\tvalidation_0-error:0.289376\tvalidation_1-error:0.344939\n",
            "[90]\tvalidation_0-error:0.289275\tvalidation_1-error:0.344981\n",
            "[91]\tvalidation_0-error:0.289111\tvalidation_1-error:0.344939\n",
            "[92]\tvalidation_0-error:0.288581\tvalidation_1-error:0.344566\n",
            "[93]\tvalidation_0-error:0.288051\tvalidation_1-error:0.344939\n",
            "[94]\tvalidation_0-error:0.28785\tvalidation_1-error:0.345478\n",
            "[95]\tvalidation_0-error:0.287723\tvalidation_1-error:0.345354\n",
            "[96]\tvalidation_0-error:0.287673\tvalidation_1-error:0.345063\n",
            "[97]\tvalidation_0-error:0.287635\tvalidation_1-error:0.345312\n",
            "[98]\tvalidation_0-error:0.286803\tvalidation_1-error:0.344939\n",
            "[99]\tvalidation_0-error:0.286462\tvalidation_1-error:0.344566\n",
            "[100]\tvalidation_0-error:0.286147\tvalidation_1-error:0.344442\n",
            "[101]\tvalidation_0-error:0.285352\tvalidation_1-error:0.3444\n",
            "[102]\tvalidation_0-error:0.284747\tvalidation_1-error:0.344069\n",
            "[103]\tvalidation_0-error:0.284406\tvalidation_1-error:0.344566\n",
            "[104]\tvalidation_0-error:0.284343\tvalidation_1-error:0.344525\n",
            "[105]\tvalidation_0-error:0.284242\tvalidation_1-error:0.344607\n",
            "[106]\tvalidation_0-error:0.284356\tvalidation_1-error:0.344773\n",
            "[107]\tvalidation_0-error:0.284305\tvalidation_1-error:0.344317\n",
            "[108]\tvalidation_0-error:0.284002\tvalidation_1-error:0.344566\n",
            "[109]\tvalidation_0-error:0.28375\tvalidation_1-error:0.344234\n",
            "[110]\tvalidation_0-error:0.283637\tvalidation_1-error:0.344069\n",
            "[111]\tvalidation_0-error:0.283233\tvalidation_1-error:0.344649\n",
            "[112]\tvalidation_0-error:0.28293\tvalidation_1-error:0.344566\n",
            "[113]\tvalidation_0-error:0.282653\tvalidation_1-error:0.343986\n",
            "[114]\tvalidation_0-error:0.282552\tvalidation_1-error:0.344525\n",
            "[115]\tvalidation_0-error:0.282237\tvalidation_1-error:0.344234\n",
            "[116]\tvalidation_0-error:0.281896\tvalidation_1-error:0.344152\n",
            "[117]\tvalidation_0-error:0.281568\tvalidation_1-error:0.343903\n",
            "[118]\tvalidation_0-error:0.281139\tvalidation_1-error:0.344317\n",
            "[119]\tvalidation_0-error:0.280849\tvalidation_1-error:0.344193\n",
            "[120]\tvalidation_0-error:0.28066\tvalidation_1-error:0.344193\n",
            "[121]\tvalidation_0-error:0.280345\tvalidation_1-error:0.344442\n",
            "[122]\tvalidation_0-error:0.280345\tvalidation_1-error:0.344359\n",
            "[123]\tvalidation_0-error:0.28013\tvalidation_1-error:0.344276\n",
            "[124]\tvalidation_0-error:0.279928\tvalidation_1-error:0.344317\n",
            "[125]\tvalidation_0-error:0.279613\tvalidation_1-error:0.34411\n",
            "[126]\tvalidation_0-error:0.279159\tvalidation_1-error:0.344317\n",
            "[127]\tvalidation_0-error:0.279121\tvalidation_1-error:0.344152\n",
            "[128]\tvalidation_0-error:0.279134\tvalidation_1-error:0.343654\n",
            "[129]\tvalidation_0-error:0.278427\tvalidation_1-error:0.343613\n",
            "[130]\tvalidation_0-error:0.278276\tvalidation_1-error:0.343405\n",
            "[131]\tvalidation_0-error:0.278238\tvalidation_1-error:0.343405\n"
          ],
          "name": "stdout"
        },
        {
          "output_type": "stream",
          "text": [
            "[132]\tvalidation_0-error:0.27791\tvalidation_1-error:0.343032\n",
            "[133]\tvalidation_0-error:0.277847\tvalidation_1-error:0.342991\n",
            "[134]\tvalidation_0-error:0.27757\tvalidation_1-error:0.342991\n",
            "[135]\tvalidation_0-error:0.27709\tvalidation_1-error:0.343364\n",
            "[136]\tvalidation_0-error:0.276889\tvalidation_1-error:0.343281\n",
            "[137]\tvalidation_0-error:0.276548\tvalidation_1-error:0.343364\n",
            "[138]\tvalidation_0-error:0.276334\tvalidation_1-error:0.343281\n",
            "[139]\tvalidation_0-error:0.276119\tvalidation_1-error:0.343281\n",
            "[140]\tvalidation_0-error:0.276081\tvalidation_1-error:0.34324\n",
            "[141]\tvalidation_0-error:0.275476\tvalidation_1-error:0.342991\n",
            "[142]\tvalidation_0-error:0.275148\tvalidation_1-error:0.343032\n",
            "[143]\tvalidation_0-error:0.275211\tvalidation_1-error:0.343157\n",
            "[144]\tvalidation_0-error:0.274769\tvalidation_1-error:0.34295\n",
            "[145]\tvalidation_0-error:0.274568\tvalidation_1-error:0.343032\n",
            "[146]\tvalidation_0-error:0.274492\tvalidation_1-error:0.343157\n",
            "[147]\tvalidation_0-error:0.27429\tvalidation_1-error:0.342576\n",
            "[148]\tvalidation_0-error:0.274013\tvalidation_1-error:0.342701\n",
            "[149]\tvalidation_0-error:0.273962\tvalidation_1-error:0.342618\n",
            "[150]\tvalidation_0-error:0.273823\tvalidation_1-error:0.342742\n",
            "[151]\tvalidation_0-error:0.273496\tvalidation_1-error:0.342369\n",
            "[152]\tvalidation_0-error:0.273231\tvalidation_1-error:0.342411\n",
            "[153]\tvalidation_0-error:0.272865\tvalidation_1-error:0.342203\n",
            "[154]\tvalidation_0-error:0.272726\tvalidation_1-error:0.342286\n",
            "[155]\tvalidation_0-error:0.272486\tvalidation_1-error:0.342162\n",
            "[156]\tvalidation_0-error:0.271894\tvalidation_1-error:0.342245\n",
            "[157]\tvalidation_0-error:0.271742\tvalidation_1-error:0.342494\n",
            "[158]\tvalidation_0-error:0.27144\tvalidation_1-error:0.342162\n",
            "[159]\tvalidation_0-error:0.271414\tvalidation_1-error:0.342162\n",
            "[160]\tvalidation_0-error:0.270948\tvalidation_1-error:0.342535\n",
            "[161]\tvalidation_0-error:0.270935\tvalidation_1-error:0.342411\n",
            "[162]\tvalidation_0-error:0.270973\tvalidation_1-error:0.342328\n",
            "[163]\tvalidation_0-error:0.270859\tvalidation_1-error:0.342369\n",
            "[164]\tvalidation_0-error:0.270519\tvalidation_1-error:0.342535\n",
            "[165]\tvalidation_0-error:0.270304\tvalidation_1-error:0.342245\n",
            "[166]\tvalidation_0-error:0.269825\tvalidation_1-error:0.342245\n",
            "[167]\tvalidation_0-error:0.269611\tvalidation_1-error:0.342121\n",
            "[168]\tvalidation_0-error:0.269548\tvalidation_1-error:0.342286\n",
            "[169]\tvalidation_0-error:0.269207\tvalidation_1-error:0.342576\n",
            "[170]\tvalidation_0-error:0.269144\tvalidation_1-error:0.342576\n",
            "[171]\tvalidation_0-error:0.269144\tvalidation_1-error:0.342494\n",
            "[172]\tvalidation_0-error:0.269043\tvalidation_1-error:0.342038\n",
            "[173]\tvalidation_0-error:0.26874\tvalidation_1-error:0.342328\n",
            "[174]\tvalidation_0-error:0.268639\tvalidation_1-error:0.341955\n",
            "[175]\tvalidation_0-error:0.268375\tvalidation_1-error:0.342162\n",
            "[176]\tvalidation_0-error:0.268122\tvalidation_1-error:0.342121\n",
            "[177]\tvalidation_0-error:0.267794\tvalidation_1-error:0.342203\n",
            "[178]\tvalidation_0-error:0.267605\tvalidation_1-error:0.342452\n",
            "[179]\tvalidation_0-error:0.26758\tvalidation_1-error:0.342452\n",
            "[180]\tvalidation_0-error:0.267529\tvalidation_1-error:0.342369\n",
            "[181]\tvalidation_0-error:0.267429\tvalidation_1-error:0.342494\n",
            "[182]\tvalidation_0-error:0.267315\tvalidation_1-error:0.342162\n",
            "[183]\tvalidation_0-error:0.267025\tvalidation_1-error:0.342452\n",
            "[184]\tvalidation_0-error:0.266874\tvalidation_1-error:0.342576\n",
            "[185]\tvalidation_0-error:0.266848\tvalidation_1-error:0.342618\n",
            "[186]\tvalidation_0-error:0.26681\tvalidation_1-error:0.342618\n",
            "[187]\tvalidation_0-error:0.266495\tvalidation_1-error:0.342369\n",
            "[188]\tvalidation_0-error:0.266016\tvalidation_1-error:0.342411\n",
            "[189]\tvalidation_0-error:0.265499\tvalidation_1-error:0.342328\n",
            "[190]\tvalidation_0-error:0.265373\tvalidation_1-error:0.342203\n",
            "[191]\tvalidation_0-error:0.265373\tvalidation_1-error:0.342203\n",
            "[192]\tvalidation_0-error:0.265221\tvalidation_1-error:0.342203\n",
            "[193]\tvalidation_0-error:0.265019\tvalidation_1-error:0.342286\n",
            "[194]\tvalidation_0-error:0.264754\tvalidation_1-error:0.342286\n",
            "[195]\tvalidation_0-error:0.264363\tvalidation_1-error:0.342494\n",
            "[196]\tvalidation_0-error:0.264124\tvalidation_1-error:0.342659\n",
            "[197]\tvalidation_0-error:0.263758\tvalidation_1-error:0.342535\n",
            "[198]\tvalidation_0-error:0.263253\tvalidation_1-error:0.342784\n",
            "[199]\tvalidation_0-error:0.26309\tvalidation_1-error:0.342369\n",
            "[200]\tvalidation_0-error:0.26314\tvalidation_1-error:0.342369\n",
            "[201]\tvalidation_0-error:0.263014\tvalidation_1-error:0.342245\n",
            "[202]\tvalidation_0-error:0.262585\tvalidation_1-error:0.342286\n",
            "[203]\tvalidation_0-error:0.262434\tvalidation_1-error:0.342328\n",
            "[204]\tvalidation_0-error:0.262396\tvalidation_1-error:0.342328\n",
            "[205]\tvalidation_0-error:0.261853\tvalidation_1-error:0.342411\n",
            "[206]\tvalidation_0-error:0.261803\tvalidation_1-error:0.342576\n",
            "[207]\tvalidation_0-error:0.261664\tvalidation_1-error:0.342618\n",
            "[208]\tvalidation_0-error:0.261614\tvalidation_1-error:0.342494\n",
            "[209]\tvalidation_0-error:0.261399\tvalidation_1-error:0.342328\n",
            "[210]\tvalidation_0-error:0.261223\tvalidation_1-error:0.342245\n",
            "[211]\tvalidation_0-error:0.260996\tvalidation_1-error:0.342162\n",
            "[212]\tvalidation_0-error:0.260756\tvalidation_1-error:0.342328\n",
            "[213]\tvalidation_0-error:0.260188\tvalidation_1-error:0.342245\n",
            "[214]\tvalidation_0-error:0.260024\tvalidation_1-error:0.342452\n",
            "[215]\tvalidation_0-error:0.259848\tvalidation_1-error:0.342328\n",
            "[216]\tvalidation_0-error:0.25981\tvalidation_1-error:0.342411\n",
            "[217]\tvalidation_0-error:0.25928\tvalidation_1-error:0.342494\n",
            "[218]\tvalidation_0-error:0.259078\tvalidation_1-error:0.342494\n",
            "[219]\tvalidation_0-error:0.259003\tvalidation_1-error:0.342535\n",
            "[220]\tvalidation_0-error:0.258826\tvalidation_1-error:0.342659\n",
            "[221]\tvalidation_0-error:0.258637\tvalidation_1-error:0.342576\n",
            "[222]\tvalidation_0-error:0.258397\tvalidation_1-error:0.342908\n",
            "[223]\tvalidation_0-error:0.258397\tvalidation_1-error:0.34295\n",
            "[224]\tvalidation_0-error:0.258359\tvalidation_1-error:0.343074\n",
            "Stopping. Best iteration:\n",
            "[174]\tvalidation_0-error:0.268639\tvalidation_1-error:0.341955\n",
            "\n"
          ],
          "name": "stdout"
        },
        {
          "output_type": "execute_result",
          "data": {
            "text/plain": [
              "XGBClassifier(base_score=0.5, booster='gbtree', colsample_bylevel=1,\n",
              "              colsample_bynode=1, colsample_bytree=1, gamma=0,\n",
              "              learning_rate=0.1, max_delta_step=0, max_depth=6,\n",
              "              min_child_weight=1, missing=None, n_estimators=1000, n_jobs=-1,\n",
              "              nthread=None, objective='binary:logistic', random_state=0,\n",
              "              reg_alpha=0, reg_lambda=1, scale_pos_weight=1, seed=None,\n",
              "              silent=None, subsample=1, verbosity=1)"
            ]
          },
          "metadata": {
            "tags": []
          },
          "execution_count": 248
        }
      ]
    },
    {
      "cell_type": "markdown",
      "metadata": {
        "id": "ql31yBYoB_Ez",
        "colab_type": "text"
      },
      "source": [
        "### Using early stopping, this XGBoost yields 65.80% accuracy, the highest so far. n_estimators = 174"
      ]
    },
    {
      "cell_type": "code",
      "metadata": {
        "id": "-83EC0byB_E0",
        "colab_type": "code",
        "colab": {},
        "outputId": "7ae9dd63-e003-486d-9add-f875ff4c8f7e"
      },
      "source": [
        "model.score(X_val_encoded,y_val)"
      ],
      "execution_count": 0,
      "outputs": [
        {
          "output_type": "execute_result",
          "data": {
            "text/plain": [
              "0.6580452623725441"
            ]
          },
          "metadata": {
            "tags": []
          },
          "execution_count": 249
        }
      ]
    },
    {
      "cell_type": "markdown",
      "metadata": {
        "id": "0J-NnQtSB_E2",
        "colab_type": "text"
      },
      "source": [
        "### Visualizing error"
      ]
    },
    {
      "cell_type": "code",
      "metadata": {
        "id": "NhIb_fBOB_E2",
        "colab_type": "code",
        "colab": {},
        "outputId": "cf717b15-171e-400a-a4d5-cc659480bec7"
      },
      "source": [
        "results = model.evals_result()\n",
        "#This is just a python dictionary thing now\n",
        "train_error = results['validation_0']['error']\n",
        "val_error = results['validation_1']['error']\n",
        "len(train_error)\n",
        "\n",
        "epoch = range(1, len(train_error)+1)\n",
        "\n",
        "plt.plot(epoch, train_error, label='Train')\n",
        "plt.plot(epoch, val_error, label='Validation',color='red')\n",
        "plt.ylabel('Error')\n",
        "plt.xlabel('n_estimators');"
      ],
      "execution_count": 0,
      "outputs": [
        {
          "output_type": "display_data",
          "data": {
            "image/png": "[encoded data removed]",
            "text/plain": [
              "<Figure size 432x288 with 1 Axes>"
            ]
          },
          "metadata": {
            "tags": [],
            "needs_background": "light"
          }
        }
      ]
    },
    {
      "cell_type": "code",
      "metadata": {
        "id": "AsSCiMX0B_E6",
        "colab_type": "code",
        "colab": {}
      },
      "source": [
        ""
      ],
      "execution_count": 0,
      "outputs": []
    },
    {
      "cell_type": "code",
      "metadata": {
        "id": "mj2fP-czB_E8",
        "colab_type": "code",
        "colab": {}
      },
      "source": [
        ""
      ],
      "execution_count": 0,
      "outputs": []
    },
    {
      "cell_type": "markdown",
      "metadata": {
        "id": "ZXSCyLHFB_E-",
        "colab_type": "text"
      },
      "source": [
        "## Finding permutation importances"
      ]
    },
    {
      "cell_type": "code",
      "metadata": {
        "id": "xhXe49nwB_E-",
        "colab_type": "code",
        "colab": {},
        "outputId": "c4d8bc65-1cba-4a22-842c-a8cc14745374"
      },
      "source": [
        "#Eli5 doesn't work with pipelines, so we need to sepeare the steps\n",
        "\n",
        "\n",
        "#Setting transformers to encode then impute the data\n",
        "transformers = make_pipeline(\n",
        "    ce.OrdinalEncoder(), \n",
        "    SimpleImputer(strategy='median')\n",
        ")\n",
        "\n",
        "#Transforming the data\n",
        "X_train_transformed = transformers.fit_transform(X_train)\n",
        "X_val_transformed = transformers.transform(X_val)\n",
        "\n",
        "#Setting the model with hyperparameters set to optimal found above\n",
        "model = XGBClassifier(\n",
        "    n_estimators = 174, \n",
        "    max_depth=6, \n",
        "    learning_rate=0.1,\n",
        "    n_jobs=-1\n",
        ")\n",
        "#Fitting the data to the model\n",
        "model.fit(X_train_transformed, y_train)"
      ],
      "execution_count": 0,
      "outputs": [
        {
          "output_type": "execute_result",
          "data": {
            "text/plain": [
              "XGBClassifier(base_score=0.5, booster='gbtree', colsample_bylevel=1,\n",
              "              colsample_bynode=1, colsample_bytree=1, gamma=0,\n",
              "              learning_rate=0.1, max_delta_step=0, max_depth=6,\n",
              "              min_child_weight=1, missing=None, n_estimators=174, n_jobs=-1,\n",
              "              nthread=None, objective='binary:logistic', random_state=0,\n",
              "              reg_alpha=0, reg_lambda=1, scale_pos_weight=1, seed=None,\n",
              "              silent=None, subsample=1, verbosity=1)"
            ]
          },
          "metadata": {
            "tags": []
          },
          "execution_count": 251
        }
      ]
    },
    {
      "cell_type": "code",
      "metadata": {
        "id": "E2y10yO7B_FB",
        "colab_type": "code",
        "colab": {},
        "outputId": "05476ef4-ceee-44eb-b77d-eca44a2bf4f4"
      },
      "source": [
        "import eli5\n",
        "from eli5.sklearn import PermutationImportance\n",
        "\n",
        "permuter = PermutationImportance(\n",
        "    model, \n",
        "    scoring='accuracy', \n",
        "    n_iter=10, \n",
        "    random_state=333\n",
        ")\n",
        "\n",
        "permuter.fit(X_val_transformed, y_val)"
      ],
      "execution_count": 0,
      "outputs": [
        {
          "output_type": "execute_result",
          "data": {
            "text/plain": [
              "PermutationImportance(cv='prefit',\n",
              "                      estimator=XGBClassifier(base_score=0.5, booster='gbtree',\n",
              "                                              colsample_bylevel=1,\n",
              "                                              colsample_bynode=1,\n",
              "                                              colsample_bytree=1, gamma=0,\n",
              "                                              learning_rate=0.1,\n",
              "                                              max_delta_step=0, max_depth=6,\n",
              "                                              min_child_weight=1, missing=None,\n",
              "                                              n_estimators=174, n_jobs=-1,\n",
              "                                              nthread=None,\n",
              "                                              objective='binary:logistic',\n",
              "                                              random_state=0, reg_alpha=0,\n",
              "                                              reg_lambda=1, scale_pos_weight=1,\n",
              "                                              seed=None, silent=None,\n",
              "                                              subsample=1, verbosity=1),\n",
              "                      n_iter=10, random_state=333, refit=True,\n",
              "                      scoring='accuracy')"
            ]
          },
          "metadata": {
            "tags": []
          },
          "execution_count": 252
        }
      ]
    },
    {
      "cell_type": "code",
      "metadata": {
        "id": "CmxojHQtB_FF",
        "colab_type": "code",
        "colab": {},
        "outputId": "9e5a4697-e60a-4b9e-c672-609008467a54"
      },
      "source": [
        "feature_names = X_val.columns.tolist()\n",
        "pd.Series(permuter.feature_importances_, feature_names).sort_values(ascending=False)"
      ],
      "execution_count": 0,
      "outputs": [
        {
          "output_type": "execute_result",
          "data": {
            "text/plain": [
              "hour                0.046095\n",
              "lat                 0.026938\n",
              "reason_for_stop     0.024476\n",
              "lng                 0.021645\n",
              "precinct            0.006420\n",
              "day_of_week         0.005832\n",
              "month               0.003631\n",
              "subject_sex         0.003192\n",
              "subject_race        0.002910\n",
              "lat_MISSING         0.002454\n",
              "day                 0.001878\n",
              "time                0.001471\n",
              "precinct_MISSING    0.001198\n",
              "minute              0.000572\n",
              "time_MISSING        0.000008\n",
              "lng_MISSING         0.000000\n",
              "zone_MISSING        0.000000\n",
              "zone               -0.000568\n",
              "dtype: float64"
            ]
          },
          "metadata": {
            "tags": []
          },
          "execution_count": 253
        }
      ]
    },
    {
      "cell_type": "markdown",
      "metadata": {
        "id": "kg6zQsZmB_FI",
        "colab_type": "text"
      },
      "source": [
        "### So the most important factor in determining if you will be given a citation or arrested vs let off with a warning is the hour of the day, followed by the latitude, THEN the reason for the stop.\n",
        "\n",
        "looking at this, it becomes apparent I need more features"
      ]
    },
    {
      "cell_type": "code",
      "metadata": {
        "id": "pm-Dx5yxB_FI",
        "colab_type": "code",
        "colab": {},
        "outputId": "e1167abc-9d7d-4afd-b489-f19c8b76c407"
      },
      "source": [
        "eli5.show_weights(\n",
        "    permuter, \n",
        "    top=None, # to show all features\n",
        "    feature_names=feature_names\n",
        ")"
      ],
      "execution_count": 0,
      "outputs": [
        {
          "output_type": "execute_result",
          "data": {
            "text/html": [
              "\n",
              "    <style>\n",
              "    table.eli5-weights tr:hover {\n",
              "        filter: brightness(85%);\n",
              "    }\n",
              "</style>\n",
              "\n",
              "\n",
              "\n",
              "    \n",
              "\n",
              "    \n",
              "\n",
              "    \n",
              "\n",
              "    \n",
              "\n",
              "    \n",
              "\n",
              "    \n",
              "\n",
              "\n",
              "    \n",
              "\n",
              "    \n",
              "\n",
              "    \n",
              "\n",
              "    \n",
              "\n",
              "    \n",
              "\n",
              "    \n",
              "\n",
              "\n",
              "    \n",
              "\n",
              "    \n",
              "\n",
              "    \n",
              "\n",
              "    \n",
              "\n",
              "    \n",
              "        <table class=\"eli5-weights eli5-feature-importances\" style=\"border-collapse: collapse; border: none; margin-top: 0em; table-layout: auto;\">\n",
              "    <thead>\n",
              "    <tr style=\"border: none;\">\n",
              "        <th style=\"padding: 0 1em 0 0.5em; text-align: right; border: none;\">Weight</th>\n",
              "        <th style=\"padding: 0 0.5em 0 0.5em; text-align: left; border: none;\">Feature</th>\n",
              "    </tr>\n",
              "    </thead>\n",
              "    <tbody>\n",
              "    \n",
              "        <tr style=\"background-color: hsl(120, 100.00%, 80.00%); border: none;\">\n",
              "            <td style=\"padding: 0 1em 0 0.5em; text-align: right; border: none;\">\n",
              "                0.0461\n",
              "                \n",
              "                    &plusmn; 0.0034\n",
              "                \n",
              "            </td>\n",
              "            <td style=\"padding: 0 0.5em 0 0.5em; text-align: left; border: none;\">\n",
              "                hour\n",
              "            </td>\n",
              "        </tr>\n",
              "    \n",
              "        <tr style=\"background-color: hsl(120, 100.00%, 86.27%); border: none;\">\n",
              "            <td style=\"padding: 0 1em 0 0.5em; text-align: right; border: none;\">\n",
              "                0.0269\n",
              "                \n",
              "                    &plusmn; 0.0028\n",
              "                \n",
              "            </td>\n",
              "            <td style=\"padding: 0 0.5em 0 0.5em; text-align: left; border: none;\">\n",
              "                lat\n",
              "            </td>\n",
              "        </tr>\n",
              "    \n",
              "        <tr style=\"background-color: hsl(120, 100.00%, 87.16%); border: none;\">\n",
              "            <td style=\"padding: 0 1em 0 0.5em; text-align: right; border: none;\">\n",
              "                0.0245\n",
              "                \n",
              "                    &plusmn; 0.0026\n",
              "                \n",
              "            </td>\n",
              "            <td style=\"padding: 0 0.5em 0 0.5em; text-align: left; border: none;\">\n",
              "                reason_for_stop\n",
              "            </td>\n",
              "        </tr>\n",
              "    \n",
              "        <tr style=\"background-color: hsl(120, 100.00%, 88.22%); border: none;\">\n",
              "            <td style=\"padding: 0 1em 0 0.5em; text-align: right; border: none;\">\n",
              "                0.0216\n",
              "                \n",
              "                    &plusmn; 0.0039\n",
              "                \n",
              "            </td>\n",
              "            <td style=\"padding: 0 0.5em 0 0.5em; text-align: left; border: none;\">\n",
              "                lng\n",
              "            </td>\n",
              "        </tr>\n",
              "    \n",
              "        <tr style=\"background-color: hsl(120, 100.00%, 94.97%); border: none;\">\n",
              "            <td style=\"padding: 0 1em 0 0.5em; text-align: right; border: none;\">\n",
              "                0.0064\n",
              "                \n",
              "                    &plusmn; 0.0018\n",
              "                \n",
              "            </td>\n",
              "            <td style=\"padding: 0 0.5em 0 0.5em; text-align: left; border: none;\">\n",
              "                precinct\n",
              "            </td>\n",
              "        </tr>\n",
              "    \n",
              "        <tr style=\"background-color: hsl(120, 100.00%, 95.30%); border: none;\">\n",
              "            <td style=\"padding: 0 1em 0 0.5em; text-align: right; border: none;\">\n",
              "                0.0058\n",
              "                \n",
              "                    &plusmn; 0.0021\n",
              "                \n",
              "            </td>\n",
              "            <td style=\"padding: 0 0.5em 0 0.5em; text-align: left; border: none;\">\n",
              "                day_of_week\n",
              "            </td>\n",
              "        </tr>\n",
              "    \n",
              "        <tr style=\"background-color: hsl(120, 100.00%, 96.62%); border: none;\">\n",
              "            <td style=\"padding: 0 1em 0 0.5em; text-align: right; border: none;\">\n",
              "                0.0036\n",
              "                \n",
              "                    &plusmn; 0.0023\n",
              "                \n",
              "            </td>\n",
              "            <td style=\"padding: 0 0.5em 0 0.5em; text-align: left; border: none;\">\n",
              "                month\n",
              "            </td>\n",
              "        </tr>\n",
              "    \n",
              "        <tr style=\"background-color: hsl(120, 100.00%, 96.91%); border: none;\">\n",
              "            <td style=\"padding: 0 1em 0 0.5em; text-align: right; border: none;\">\n",
              "                0.0032\n",
              "                \n",
              "                    &plusmn; 0.0015\n",
              "                \n",
              "            </td>\n",
              "            <td style=\"padding: 0 0.5em 0 0.5em; text-align: left; border: none;\">\n",
              "                subject_sex\n",
              "            </td>\n",
              "        </tr>\n",
              "    \n",
              "        <tr style=\"background-color: hsl(120, 100.00%, 97.11%); border: none;\">\n",
              "            <td style=\"padding: 0 1em 0 0.5em; text-align: right; border: none;\">\n",
              "                0.0029\n",
              "                \n",
              "                    &plusmn; 0.0016\n",
              "                \n",
              "            </td>\n",
              "            <td style=\"padding: 0 0.5em 0 0.5em; text-align: left; border: none;\">\n",
              "                subject_race\n",
              "            </td>\n",
              "        </tr>\n",
              "    \n",
              "        <tr style=\"background-color: hsl(120, 100.00%, 97.43%); border: none;\">\n",
              "            <td style=\"padding: 0 1em 0 0.5em; text-align: right; border: none;\">\n",
              "                0.0025\n",
              "                \n",
              "                    &plusmn; 0.0013\n",
              "                \n",
              "            </td>\n",
              "            <td style=\"padding: 0 0.5em 0 0.5em; text-align: left; border: none;\">\n",
              "                lat_MISSING\n",
              "            </td>\n",
              "        </tr>\n",
              "    \n",
              "        <tr style=\"background-color: hsl(120, 100.00%, 97.87%); border: none;\">\n",
              "            <td style=\"padding: 0 1em 0 0.5em; text-align: right; border: none;\">\n",
              "                0.0019\n",
              "                \n",
              "                    &plusmn; 0.0014\n",
              "                \n",
              "            </td>\n",
              "            <td style=\"padding: 0 0.5em 0 0.5em; text-align: left; border: none;\">\n",
              "                day\n",
              "            </td>\n",
              "        </tr>\n",
              "    \n",
              "        <tr style=\"background-color: hsl(120, 100.00%, 98.21%); border: none;\">\n",
              "            <td style=\"padding: 0 1em 0 0.5em; text-align: right; border: none;\">\n",
              "                0.0015\n",
              "                \n",
              "                    &plusmn; 0.0010\n",
              "                \n",
              "            </td>\n",
              "            <td style=\"padding: 0 0.5em 0 0.5em; text-align: left; border: none;\">\n",
              "                time\n",
              "            </td>\n",
              "        </tr>\n",
              "    \n",
              "        <tr style=\"background-color: hsl(120, 100.00%, 98.45%); border: none;\">\n",
              "            <td style=\"padding: 0 1em 0 0.5em; text-align: right; border: none;\">\n",
              "                0.0012\n",
              "                \n",
              "                    &plusmn; 0.0014\n",
              "                \n",
              "            </td>\n",
              "            <td style=\"padding: 0 0.5em 0 0.5em; text-align: left; border: none;\">\n",
              "                precinct_MISSING\n",
              "            </td>\n",
              "        </tr>\n",
              "    \n",
              "        <tr style=\"background-color: hsl(120, 100.00%, 99.07%); border: none;\">\n",
              "            <td style=\"padding: 0 1em 0 0.5em; text-align: right; border: none;\">\n",
              "                0.0006\n",
              "                \n",
              "                    &plusmn; 0.0012\n",
              "                \n",
              "            </td>\n",
              "            <td style=\"padding: 0 0.5em 0 0.5em; text-align: left; border: none;\">\n",
              "                minute\n",
              "            </td>\n",
              "        </tr>\n",
              "    \n",
              "        <tr style=\"background-color: hsl(120, 100.00%, 99.95%); border: none;\">\n",
              "            <td style=\"padding: 0 1em 0 0.5em; text-align: right; border: none;\">\n",
              "                0.0000\n",
              "                \n",
              "                    &plusmn; 0.0001\n",
              "                \n",
              "            </td>\n",
              "            <td style=\"padding: 0 0.5em 0 0.5em; text-align: left; border: none;\">\n",
              "                time_MISSING\n",
              "            </td>\n",
              "        </tr>\n",
              "    \n",
              "        <tr style=\"background-color: hsl(0, 100.00%, 100.00%); border: none;\">\n",
              "            <td style=\"padding: 0 1em 0 0.5em; text-align: right; border: none;\">\n",
              "                0\n",
              "                \n",
              "                    &plusmn; 0.0000\n",
              "                \n",
              "            </td>\n",
              "            <td style=\"padding: 0 0.5em 0 0.5em; text-align: left; border: none;\">\n",
              "                lng_MISSING\n",
              "            </td>\n",
              "        </tr>\n",
              "    \n",
              "        <tr style=\"background-color: hsl(0, 100.00%, 100.00%); border: none;\">\n",
              "            <td style=\"padding: 0 1em 0 0.5em; text-align: right; border: none;\">\n",
              "                0\n",
              "                \n",
              "                    &plusmn; 0.0000\n",
              "                \n",
              "            </td>\n",
              "            <td style=\"padding: 0 0.5em 0 0.5em; text-align: left; border: none;\">\n",
              "                zone_MISSING\n",
              "            </td>\n",
              "        </tr>\n",
              "    \n",
              "        <tr style=\"background-color: hsl(0, 100.00%, 99.08%); border: none;\">\n",
              "            <td style=\"padding: 0 1em 0 0.5em; text-align: right; border: none;\">\n",
              "                -0.0006\n",
              "                \n",
              "                    &plusmn; 0.0015\n",
              "                \n",
              "            </td>\n",
              "            <td style=\"padding: 0 0.5em 0 0.5em; text-align: left; border: none;\">\n",
              "                zone\n",
              "            </td>\n",
              "        </tr>\n",
              "    \n",
              "    \n",
              "    </tbody>\n",
              "</table>\n",
              "    \n",
              "\n",
              "    \n",
              "\n",
              "\n",
              "    \n",
              "\n",
              "    \n",
              "\n",
              "    \n",
              "\n",
              "    \n",
              "\n",
              "    \n",
              "\n",
              "    \n",
              "\n",
              "\n",
              "\n"
            ],
            "text/plain": [
              "<IPython.core.display.HTML object>"
            ]
          },
          "metadata": {
            "tags": []
          },
          "execution_count": 254
        }
      ]
    },
    {
      "cell_type": "code",
      "metadata": {
        "id": "xTD6oCAcB_FK",
        "colab_type": "code",
        "colab": {}
      },
      "source": [
        ""
      ],
      "execution_count": 0,
      "outputs": []
    },
    {
      "cell_type": "code",
      "metadata": {
        "id": "l5g4pDLKB_FN",
        "colab_type": "code",
        "colab": {}
      },
      "source": [
        ""
      ],
      "execution_count": 0,
      "outputs": []
    },
    {
      "cell_type": "code",
      "metadata": {
        "id": "O08OT5pKB_FP",
        "colab_type": "code",
        "colab": {}
      },
      "source": [
        ""
      ],
      "execution_count": 0,
      "outputs": []
    },
    {
      "cell_type": "code",
      "metadata": {
        "id": "4pbpvxTKB_FQ",
        "colab_type": "code",
        "colab": {}
      },
      "source": [
        ""
      ],
      "execution_count": 0,
      "outputs": []
    },
    {
      "cell_type": "code",
      "metadata": {
        "id": "JCBFwl4sB_FS",
        "colab_type": "code",
        "colab": {}
      },
      "source": [
        ""
      ],
      "execution_count": 0,
      "outputs": []
    },
    {
      "cell_type": "code",
      "metadata": {
        "id": "QFdxf-K-B_FU",
        "colab_type": "code",
        "colab": {}
      },
      "source": [
        ""
      ],
      "execution_count": 0,
      "outputs": []
    },
    {
      "cell_type": "code",
      "metadata": {
        "id": "MGIwgmIpB_FV",
        "colab_type": "code",
        "colab": {}
      },
      "source": [
        ""
      ],
      "execution_count": 0,
      "outputs": []
    },
    {
      "cell_type": "code",
      "metadata": {
        "id": "ccRl0sLSB_FX",
        "colab_type": "code",
        "colab": {}
      },
      "source": [
        ""
      ],
      "execution_count": 0,
      "outputs": []
    }
  ]
}