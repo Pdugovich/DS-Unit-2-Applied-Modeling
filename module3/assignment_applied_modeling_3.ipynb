{
  "nbformat": 4,
  "nbformat_minor": 0,
  "metadata": {
    "kernelspec": {
      "display_name": "Python 3",
      "language": "python",
      "name": "python3"
    },
    "language_info": {
      "codemirror_mode": {
        "name": "ipython",
        "version": 3
      },
      "file_extension": ".py",
      "mimetype": "text/x-python",
      "name": "python",
      "nbconvert_exporter": "python",
      "pygments_lexer": "ipython3",
      "version": "3.7.4"
    },
    "colab": {
      "name": "assignment_applied_modeling_3.ipynb",
      "provenance": [],
      "include_colab_link": true
    }
  },
  "cells": [
    {
      "cell_type": "markdown",
      "metadata": {
        "id": "view-in-github",
        "colab_type": "text"
      },
      "source": [
        "<a href=\"https://colab.research.google.com/github/Pdugovich/DS-Unit-2-Applied-Modeling/blob/master/module3/assignment_applied_modeling_3.ipynb\" target=\"_parent\"><img src=\"https://colab.research.google.com/assets/colab-badge.svg\" alt=\"Open In Colab\"/></a>"
      ]
    },
    {
      "cell_type": "markdown",
      "metadata": {
        "id": "CNMDjKJ2kNwH",
        "colab_type": "text"
      },
      "source": [
        "# Assignment 1"
      ]
    },
    {
      "cell_type": "markdown",
      "metadata": {
        "id": "9ure6MIZkNwJ",
        "colab_type": "text"
      },
      "source": [
        "Lambda School Data Science\n",
        "\n",
        "*Unit 2, Sprint 3, Module 1*\n",
        "\n",
        "---\n",
        "\n",
        "\n",
        "## Define ML problems\n",
        "\n",
        "You will use your portfolio project dataset for all assignments this sprint.\n",
        "\n",
        "## Assignment\n",
        "\n",
        "Complete these tasks for your project, and document your decisions.\n",
        "\n",
        "- [ ] Choose your target. Which column in your tabular dataset will you predict?\n",
        "- [ ] Choose which observations you will use to train, validate, and test your model. And which observations, if any, to exclude.\n",
        "- [ ] Determine whether your problem is regression or classification.\n",
        "- [ ] Choose your evaluation metric.\n",
        "- [ ] Begin to clean and explore your data.\n",
        "- [ ] Begin to choose which features, if any, to exclude. Would some features \"leak\" information from the future?\n"
      ]
    },
    {
      "cell_type": "code",
      "metadata": {
        "id": "ZD-saa5GkNwL",
        "colab_type": "code",
        "colab": {}
      },
      "source": [
        "# Import libraries\n",
        "import pandas as pd\n",
        "import os"
      ],
      "execution_count": 0,
      "outputs": []
    },
    {
      "cell_type": "code",
      "metadata": {
        "id": "FgmgDDJTkNwP",
        "colab_type": "code",
        "colab": {}
      },
      "source": [
        "df_original = pd.read_csv('oh_columbus_2019_08_13.csv')"
      ],
      "execution_count": 0,
      "outputs": []
    },
    {
      "cell_type": "code",
      "metadata": {
        "id": "NGSPOFdrkNwU",
        "colab_type": "code",
        "colab": {},
        "outputId": "d9648922-ba3c-45e6-f673-7a44efe5e1c3"
      },
      "source": [
        "df_original.head()"
      ],
      "execution_count": 0,
      "outputs": [
        {
          "output_type": "execute_result",
          "data": {
            "text/html": [
              "<div>\n",
              "<style scoped>\n",
              "    .dataframe tbody tr th:only-of-type {\n",
              "        vertical-align: middle;\n",
              "    }\n",
              "\n",
              "    .dataframe tbody tr th {\n",
              "        vertical-align: top;\n",
              "    }\n",
              "\n",
              "    .dataframe thead th {\n",
              "        text-align: right;\n",
              "    }\n",
              "</style>\n",
              "<table border=\"1\" class=\"dataframe\">\n",
              "  <thead>\n",
              "    <tr style=\"text-align: right;\">\n",
              "      <th></th>\n",
              "      <th>raw_row_number</th>\n",
              "      <th>date</th>\n",
              "      <th>time</th>\n",
              "      <th>location</th>\n",
              "      <th>lat</th>\n",
              "      <th>lng</th>\n",
              "      <th>precinct</th>\n",
              "      <th>zone</th>\n",
              "      <th>subject_race</th>\n",
              "      <th>subject_sex</th>\n",
              "      <th>type</th>\n",
              "      <th>arrest_made</th>\n",
              "      <th>citation_issued</th>\n",
              "      <th>warning_issued</th>\n",
              "      <th>outcome</th>\n",
              "      <th>search_conducted</th>\n",
              "      <th>reason_for_stop</th>\n",
              "      <th>raw_enforcement_taken</th>\n",
              "    </tr>\n",
              "  </thead>\n",
              "  <tbody>\n",
              "    <tr>\n",
              "      <td>0</td>\n",
              "      <td>1|2|3</td>\n",
              "      <td>2012-01-01</td>\n",
              "      <td>01:16:00</td>\n",
              "      <td>livingston and carpenter</td>\n",
              "      <td>39.949920</td>\n",
              "      <td>-82.975067</td>\n",
              "      <td>11.0</td>\n",
              "      <td>5.0</td>\n",
              "      <td>white</td>\n",
              "      <td>female</td>\n",
              "      <td>vehicular</td>\n",
              "      <td>True</td>\n",
              "      <td>False</td>\n",
              "      <td>False</td>\n",
              "      <td>arrest</td>\n",
              "      <td>True</td>\n",
              "      <td>Moving Violation</td>\n",
              "      <td>Arrest|Vehicle Search|Driver Search</td>\n",
              "    </tr>\n",
              "    <tr>\n",
              "      <td>1</td>\n",
              "      <td>4</td>\n",
              "      <td>2012-01-01</td>\n",
              "      <td>01:20:00</td>\n",
              "      <td>E 16th Ave and Waldeck Ave</td>\n",
              "      <td>40.001043</td>\n",
              "      <td>-83.006871</td>\n",
              "      <td>4.0</td>\n",
              "      <td>4.0</td>\n",
              "      <td>white</td>\n",
              "      <td>male</td>\n",
              "      <td>vehicular</td>\n",
              "      <td>False</td>\n",
              "      <td>False</td>\n",
              "      <td>True</td>\n",
              "      <td>warning</td>\n",
              "      <td>False</td>\n",
              "      <td>Moving Violation</td>\n",
              "      <td>Verbal Warning</td>\n",
              "    </tr>\n",
              "    <tr>\n",
              "      <td>2</td>\n",
              "      <td>5</td>\n",
              "      <td>2012-01-01</td>\n",
              "      <td>07:54:00</td>\n",
              "      <td>king ave and cannon dr</td>\n",
              "      <td>39.990708</td>\n",
              "      <td>-83.020528</td>\n",
              "      <td>NaN</td>\n",
              "      <td>NaN</td>\n",
              "      <td>black</td>\n",
              "      <td>male</td>\n",
              "      <td>vehicular</td>\n",
              "      <td>False</td>\n",
              "      <td>False</td>\n",
              "      <td>True</td>\n",
              "      <td>warning</td>\n",
              "      <td>False</td>\n",
              "      <td>Moving Violation</td>\n",
              "      <td>Verbal Warning</td>\n",
              "    </tr>\n",
              "    <tr>\n",
              "      <td>3</td>\n",
              "      <td>6</td>\n",
              "      <td>2012-01-01</td>\n",
              "      <td>10:00:00</td>\n",
              "      <td>James rd and Livingston ave</td>\n",
              "      <td>39.946876</td>\n",
              "      <td>-82.915567</td>\n",
              "      <td>9.0</td>\n",
              "      <td>2.0</td>\n",
              "      <td>black</td>\n",
              "      <td>male</td>\n",
              "      <td>vehicular</td>\n",
              "      <td>False</td>\n",
              "      <td>False</td>\n",
              "      <td>True</td>\n",
              "      <td>warning</td>\n",
              "      <td>False</td>\n",
              "      <td>Moving Violation</td>\n",
              "      <td>Verbal Warning</td>\n",
              "    </tr>\n",
              "    <tr>\n",
              "      <td>4</td>\n",
              "      <td>7</td>\n",
              "      <td>2012-01-01</td>\n",
              "      <td>10:50:00</td>\n",
              "      <td>N Wilson Road and Twin Creeks</td>\n",
              "      <td>39.979569</td>\n",
              "      <td>-83.102749</td>\n",
              "      <td>15.0</td>\n",
              "      <td>3.0</td>\n",
              "      <td>black</td>\n",
              "      <td>female</td>\n",
              "      <td>vehicular</td>\n",
              "      <td>False</td>\n",
              "      <td>False</td>\n",
              "      <td>True</td>\n",
              "      <td>warning</td>\n",
              "      <td>False</td>\n",
              "      <td>Moving Violation</td>\n",
              "      <td>Verbal Warning</td>\n",
              "    </tr>\n",
              "  </tbody>\n",
              "</table>\n",
              "</div>"
            ],
            "text/plain": [
              "  raw_row_number        date      time                       location  \\\n",
              "0          1|2|3  2012-01-01  01:16:00       livingston and carpenter   \n",
              "1              4  2012-01-01  01:20:00     E 16th Ave and Waldeck Ave   \n",
              "2              5  2012-01-01  07:54:00         king ave and cannon dr   \n",
              "3              6  2012-01-01  10:00:00    James rd and Livingston ave   \n",
              "4              7  2012-01-01  10:50:00  N Wilson Road and Twin Creeks   \n",
              "\n",
              "         lat        lng  precinct  zone subject_race subject_sex       type  \\\n",
              "0  39.949920 -82.975067      11.0   5.0        white      female  vehicular   \n",
              "1  40.001043 -83.006871       4.0   4.0        white        male  vehicular   \n",
              "2  39.990708 -83.020528       NaN   NaN        black        male  vehicular   \n",
              "3  39.946876 -82.915567       9.0   2.0        black        male  vehicular   \n",
              "4  39.979569 -83.102749      15.0   3.0        black      female  vehicular   \n",
              "\n",
              "   arrest_made  citation_issued  warning_issued  outcome  search_conducted  \\\n",
              "0         True            False           False   arrest              True   \n",
              "1        False            False            True  warning             False   \n",
              "2        False            False            True  warning             False   \n",
              "3        False            False            True  warning             False   \n",
              "4        False            False            True  warning             False   \n",
              "\n",
              "    reason_for_stop                raw_enforcement_taken  \n",
              "0  Moving Violation  Arrest|Vehicle Search|Driver Search  \n",
              "1  Moving Violation                       Verbal Warning  \n",
              "2  Moving Violation                       Verbal Warning  \n",
              "3  Moving Violation                       Verbal Warning  \n",
              "4  Moving Violation                       Verbal Warning  "
            ]
          },
          "metadata": {
            "tags": []
          },
          "execution_count": 3
        }
      ]
    },
    {
      "cell_type": "code",
      "metadata": {
        "id": "_gUH5woRkNwZ",
        "colab_type": "code",
        "colab": {}
      },
      "source": [
        "#Making a duplicate of the dataframe to retain the original\n",
        "df = df_original.copy()"
      ],
      "execution_count": 0,
      "outputs": []
    },
    {
      "cell_type": "markdown",
      "metadata": {
        "id": "qsEpMCJ1kNwd",
        "colab_type": "text"
      },
      "source": [
        "## Selecting a target"
      ]
    },
    {
      "cell_type": "markdown",
      "metadata": {
        "id": "wJcvR3pwkNwe",
        "colab_type": "text"
      },
      "source": [
        "I'll be trying to predict whether an action is taken against the person being pulled over, this includes 'arrest' or 'citation'. The alternative is 'warning'"
      ]
    },
    {
      "cell_type": "markdown",
      "metadata": {
        "id": "36Bs5hyYkNwf",
        "colab_type": "text"
      },
      "source": [
        "## Selecting how to train/test split"
      ]
    },
    {
      "cell_type": "markdown",
      "metadata": {
        "id": "LKweIHXHkNwg",
        "colab_type": "text"
      },
      "source": [
        "The dates range from the start of 2012 to the end of 2016. I'll try a couple different splits, but first, I'm going to train on 2012-2015, validate on 2015, then test on 2016. I might also try randomized or time-series crossvalidation."
      ]
    },
    {
      "cell_type": "code",
      "metadata": {
        "id": "j8cTzcXUkNwh",
        "colab_type": "code",
        "colab": {},
        "outputId": "ef9d2344-cd12-4463-c8c0-78901c44555e"
      },
      "source": [
        "\n",
        "df.dtypes"
      ],
      "execution_count": 0,
      "outputs": [
        {
          "output_type": "execute_result",
          "data": {
            "text/plain": [
              "raw_row_number            object\n",
              "date                      object\n",
              "time                      object\n",
              "location                  object\n",
              "lat                      float64\n",
              "lng                      float64\n",
              "precinct                 float64\n",
              "zone                     float64\n",
              "subject_race              object\n",
              "subject_sex               object\n",
              "type                      object\n",
              "arrest_made                 bool\n",
              "citation_issued             bool\n",
              "warning_issued              bool\n",
              "outcome                   object\n",
              "search_conducted            bool\n",
              "reason_for_stop           object\n",
              "raw_enforcement_taken     object\n",
              "dtype: object"
            ]
          },
          "metadata": {
            "tags": []
          },
          "execution_count": 5
        }
      ]
    },
    {
      "cell_type": "code",
      "metadata": {
        "id": "LvNnafM9kNwl",
        "colab_type": "code",
        "colab": {}
      },
      "source": [
        "# Converting date and time to datetime format to split the data"
      ],
      "execution_count": 0,
      "outputs": []
    },
    {
      "cell_type": "code",
      "metadata": {
        "id": "3s8lqnb9kNwo",
        "colab_type": "code",
        "colab": {}
      },
      "source": [
        "df['date'] = pd.to_datetime(df['date'])"
      ],
      "execution_count": 0,
      "outputs": []
    },
    {
      "cell_type": "code",
      "metadata": {
        "id": "0L1Q5fwckNwr",
        "colab_type": "code",
        "colab": {},
        "outputId": "1db3d314-a496-4062-e82b-fd85b22b8c7e"
      },
      "source": [
        "df['date']"
      ],
      "execution_count": 0,
      "outputs": [
        {
          "output_type": "execute_result",
          "data": {
            "text/plain": [
              "0        2012-01-01\n",
              "1        2012-01-01\n",
              "2        2012-01-01\n",
              "3        2012-01-01\n",
              "4        2012-01-01\n",
              "            ...    \n",
              "128152   2016-12-30\n",
              "128153   2016-12-30\n",
              "128154   2016-12-30\n",
              "128155   2016-12-30\n",
              "128156   2016-12-30\n",
              "Name: date, Length: 128157, dtype: datetime64[ns]"
            ]
          },
          "metadata": {
            "tags": []
          },
          "execution_count": 8
        }
      ]
    },
    {
      "cell_type": "code",
      "metadata": {
        "id": "kiseg7vikNwv",
        "colab_type": "code",
        "colab": {}
      },
      "source": [
        "#Separating my data\n",
        "my_train = df[df['date'] <= '2014-12-31']\n",
        "my_val = df[(df['date'] >= '2015-01-01') & (df['date'] <= '2015-12-31')]\n",
        "test = df[df['date'] >= '2016-01-01']"
      ],
      "execution_count": 0,
      "outputs": []
    },
    {
      "cell_type": "code",
      "metadata": {
        "id": "vvigSFe2kNwy",
        "colab_type": "code",
        "colab": {},
        "outputId": "efc58884-f346-40bf-91a8-049727a18fd5"
      },
      "source": [
        "my_train.head()"
      ],
      "execution_count": 0,
      "outputs": [
        {
          "output_type": "execute_result",
          "data": {
            "text/html": [
              "<div>\n",
              "<style scoped>\n",
              "    .dataframe tbody tr th:only-of-type {\n",
              "        vertical-align: middle;\n",
              "    }\n",
              "\n",
              "    .dataframe tbody tr th {\n",
              "        vertical-align: top;\n",
              "    }\n",
              "\n",
              "    .dataframe thead th {\n",
              "        text-align: right;\n",
              "    }\n",
              "</style>\n",
              "<table border=\"1\" class=\"dataframe\">\n",
              "  <thead>\n",
              "    <tr style=\"text-align: right;\">\n",
              "      <th></th>\n",
              "      <th>raw_row_number</th>\n",
              "      <th>date</th>\n",
              "      <th>time</th>\n",
              "      <th>location</th>\n",
              "      <th>lat</th>\n",
              "      <th>lng</th>\n",
              "      <th>precinct</th>\n",
              "      <th>zone</th>\n",
              "      <th>subject_race</th>\n",
              "      <th>subject_sex</th>\n",
              "      <th>type</th>\n",
              "      <th>arrest_made</th>\n",
              "      <th>citation_issued</th>\n",
              "      <th>warning_issued</th>\n",
              "      <th>outcome</th>\n",
              "      <th>search_conducted</th>\n",
              "      <th>reason_for_stop</th>\n",
              "      <th>raw_enforcement_taken</th>\n",
              "    </tr>\n",
              "  </thead>\n",
              "  <tbody>\n",
              "    <tr>\n",
              "      <td>0</td>\n",
              "      <td>1|2|3</td>\n",
              "      <td>2012-01-01</td>\n",
              "      <td>01:16:00</td>\n",
              "      <td>livingston and carpenter</td>\n",
              "      <td>39.949920</td>\n",
              "      <td>-82.975067</td>\n",
              "      <td>11.0</td>\n",
              "      <td>5.0</td>\n",
              "      <td>white</td>\n",
              "      <td>female</td>\n",
              "      <td>vehicular</td>\n",
              "      <td>True</td>\n",
              "      <td>False</td>\n",
              "      <td>False</td>\n",
              "      <td>arrest</td>\n",
              "      <td>True</td>\n",
              "      <td>Moving Violation</td>\n",
              "      <td>Arrest|Vehicle Search|Driver Search</td>\n",
              "    </tr>\n",
              "    <tr>\n",
              "      <td>1</td>\n",
              "      <td>4</td>\n",
              "      <td>2012-01-01</td>\n",
              "      <td>01:20:00</td>\n",
              "      <td>E 16th Ave and Waldeck Ave</td>\n",
              "      <td>40.001043</td>\n",
              "      <td>-83.006871</td>\n",
              "      <td>4.0</td>\n",
              "      <td>4.0</td>\n",
              "      <td>white</td>\n",
              "      <td>male</td>\n",
              "      <td>vehicular</td>\n",
              "      <td>False</td>\n",
              "      <td>False</td>\n",
              "      <td>True</td>\n",
              "      <td>warning</td>\n",
              "      <td>False</td>\n",
              "      <td>Moving Violation</td>\n",
              "      <td>Verbal Warning</td>\n",
              "    </tr>\n",
              "    <tr>\n",
              "      <td>2</td>\n",
              "      <td>5</td>\n",
              "      <td>2012-01-01</td>\n",
              "      <td>07:54:00</td>\n",
              "      <td>king ave and cannon dr</td>\n",
              "      <td>39.990708</td>\n",
              "      <td>-83.020528</td>\n",
              "      <td>NaN</td>\n",
              "      <td>NaN</td>\n",
              "      <td>black</td>\n",
              "      <td>male</td>\n",
              "      <td>vehicular</td>\n",
              "      <td>False</td>\n",
              "      <td>False</td>\n",
              "      <td>True</td>\n",
              "      <td>warning</td>\n",
              "      <td>False</td>\n",
              "      <td>Moving Violation</td>\n",
              "      <td>Verbal Warning</td>\n",
              "    </tr>\n",
              "    <tr>\n",
              "      <td>3</td>\n",
              "      <td>6</td>\n",
              "      <td>2012-01-01</td>\n",
              "      <td>10:00:00</td>\n",
              "      <td>James rd and Livingston ave</td>\n",
              "      <td>39.946876</td>\n",
              "      <td>-82.915567</td>\n",
              "      <td>9.0</td>\n",
              "      <td>2.0</td>\n",
              "      <td>black</td>\n",
              "      <td>male</td>\n",
              "      <td>vehicular</td>\n",
              "      <td>False</td>\n",
              "      <td>False</td>\n",
              "      <td>True</td>\n",
              "      <td>warning</td>\n",
              "      <td>False</td>\n",
              "      <td>Moving Violation</td>\n",
              "      <td>Verbal Warning</td>\n",
              "    </tr>\n",
              "    <tr>\n",
              "      <td>4</td>\n",
              "      <td>7</td>\n",
              "      <td>2012-01-01</td>\n",
              "      <td>10:50:00</td>\n",
              "      <td>N Wilson Road and Twin Creeks</td>\n",
              "      <td>39.979569</td>\n",
              "      <td>-83.102749</td>\n",
              "      <td>15.0</td>\n",
              "      <td>3.0</td>\n",
              "      <td>black</td>\n",
              "      <td>female</td>\n",
              "      <td>vehicular</td>\n",
              "      <td>False</td>\n",
              "      <td>False</td>\n",
              "      <td>True</td>\n",
              "      <td>warning</td>\n",
              "      <td>False</td>\n",
              "      <td>Moving Violation</td>\n",
              "      <td>Verbal Warning</td>\n",
              "    </tr>\n",
              "  </tbody>\n",
              "</table>\n",
              "</div>"
            ],
            "text/plain": [
              "  raw_row_number       date      time                       location  \\\n",
              "0          1|2|3 2012-01-01  01:16:00       livingston and carpenter   \n",
              "1              4 2012-01-01  01:20:00     E 16th Ave and Waldeck Ave   \n",
              "2              5 2012-01-01  07:54:00         king ave and cannon dr   \n",
              "3              6 2012-01-01  10:00:00    James rd and Livingston ave   \n",
              "4              7 2012-01-01  10:50:00  N Wilson Road and Twin Creeks   \n",
              "\n",
              "         lat        lng  precinct  zone subject_race subject_sex       type  \\\n",
              "0  39.949920 -82.975067      11.0   5.0        white      female  vehicular   \n",
              "1  40.001043 -83.006871       4.0   4.0        white        male  vehicular   \n",
              "2  39.990708 -83.020528       NaN   NaN        black        male  vehicular   \n",
              "3  39.946876 -82.915567       9.0   2.0        black        male  vehicular   \n",
              "4  39.979569 -83.102749      15.0   3.0        black      female  vehicular   \n",
              "\n",
              "   arrest_made  citation_issued  warning_issued  outcome  search_conducted  \\\n",
              "0         True            False           False   arrest              True   \n",
              "1        False            False            True  warning             False   \n",
              "2        False            False            True  warning             False   \n",
              "3        False            False            True  warning             False   \n",
              "4        False            False            True  warning             False   \n",
              "\n",
              "    reason_for_stop                raw_enforcement_taken  \n",
              "0  Moving Violation  Arrest|Vehicle Search|Driver Search  \n",
              "1  Moving Violation                       Verbal Warning  \n",
              "2  Moving Violation                       Verbal Warning  \n",
              "3  Moving Violation                       Verbal Warning  \n",
              "4  Moving Violation                       Verbal Warning  "
            ]
          },
          "metadata": {
            "tags": []
          },
          "execution_count": 10
        }
      ]
    },
    {
      "cell_type": "code",
      "metadata": {
        "id": "SO5IMYjAkNw2",
        "colab_type": "code",
        "colab": {},
        "outputId": "85d89ed1-2203-4730-b4ab-7c8ccebf9ac5"
      },
      "source": [
        "my_train.shape,my_val.shape,test.shape"
      ],
      "execution_count": 0,
      "outputs": [
        {
          "output_type": "execute_result",
          "data": {
            "text/plain": [
              "((79281, 18), (24126, 18), (24750, 18))"
            ]
          },
          "metadata": {
            "tags": []
          },
          "execution_count": 11
        }
      ]
    },
    {
      "cell_type": "code",
      "metadata": {
        "id": "uT6EQGTCkNw5",
        "colab_type": "code",
        "colab": {},
        "outputId": "dca7ec98-b4f0-41ca-8923-ef49864c3fda"
      },
      "source": [
        "#Checking to make sure I grabbed all of the data\n",
        "my_train.shape[0] + my_val.shape[0] + test.shape[0] == df.shape[0]"
      ],
      "execution_count": 0,
      "outputs": [
        {
          "output_type": "execute_result",
          "data": {
            "text/plain": [
              "True"
            ]
          },
          "metadata": {
            "tags": []
          },
          "execution_count": 12
        }
      ]
    },
    {
      "cell_type": "code",
      "metadata": {
        "id": "UOx8h_gJkNw8",
        "colab_type": "code",
        "colab": {},
        "outputId": "90295fa7-d6c5-4ecb-da0b-5c05a2898f92"
      },
      "source": [
        "df.shape"
      ],
      "execution_count": 0,
      "outputs": [
        {
          "output_type": "execute_result",
          "data": {
            "text/plain": [
              "(128157, 18)"
            ]
          },
          "metadata": {
            "tags": []
          },
          "execution_count": 13
        }
      ]
    },
    {
      "cell_type": "markdown",
      "metadata": {
        "id": "QOoNamhWkNxA",
        "colab_type": "text"
      },
      "source": [
        "## Regression or Classification?\n",
        "This will be a binary classification"
      ]
    },
    {
      "cell_type": "code",
      "metadata": {
        "id": "FKAPDYqnkNxB",
        "colab_type": "code",
        "colab": {},
        "outputId": "3eb98032-1d3a-4883-8927-b2c52fa119a7"
      },
      "source": [
        "#Citation and arrest will be merged into a single value and be the \n",
        "my_train['outcome'].value_counts(normalize=True)"
      ],
      "execution_count": 0,
      "outputs": [
        {
          "output_type": "execute_result",
          "data": {
            "text/plain": [
              "citation    0.555233\n",
              "warning     0.405169\n",
              "arrest      0.039598\n",
              "Name: outcome, dtype: float64"
            ]
          },
          "metadata": {
            "tags": []
          },
          "execution_count": 14
        }
      ]
    },
    {
      "cell_type": "markdown",
      "metadata": {
        "id": "DYmzb_bukNxE",
        "colab_type": "text"
      },
      "source": [
        "## Evaluation Metric\n",
        "I will be using roc/auc to evaluate. I might also use accuracy, since I believe I can improve greatly over baseline."
      ]
    },
    {
      "cell_type": "markdown",
      "metadata": {
        "id": "H79ecsYGkNxF",
        "colab_type": "text"
      },
      "source": [
        "## Data Exploration / Cleaning"
      ]
    },
    {
      "cell_type": "code",
      "metadata": {
        "id": "MkIYKpFGkNxG",
        "colab_type": "code",
        "colab": {},
        "outputId": "c7790cfd-c2fb-4014-f99e-a2d1ebc47107"
      },
      "source": [
        "my_train.describe()"
      ],
      "execution_count": 0,
      "outputs": [
        {
          "output_type": "execute_result",
          "data": {
            "text/html": [
              "<div>\n",
              "<style scoped>\n",
              "    .dataframe tbody tr th:only-of-type {\n",
              "        vertical-align: middle;\n",
              "    }\n",
              "\n",
              "    .dataframe tbody tr th {\n",
              "        vertical-align: top;\n",
              "    }\n",
              "\n",
              "    .dataframe thead th {\n",
              "        text-align: right;\n",
              "    }\n",
              "</style>\n",
              "<table border=\"1\" class=\"dataframe\">\n",
              "  <thead>\n",
              "    <tr style=\"text-align: right;\">\n",
              "      <th></th>\n",
              "      <th>lat</th>\n",
              "      <th>lng</th>\n",
              "      <th>precinct</th>\n",
              "      <th>zone</th>\n",
              "    </tr>\n",
              "  </thead>\n",
              "  <tbody>\n",
              "    <tr>\n",
              "      <td>count</td>\n",
              "      <td>72577.000000</td>\n",
              "      <td>72577.000000</td>\n",
              "      <td>69423.000000</td>\n",
              "      <td>69423.000000</td>\n",
              "    </tr>\n",
              "    <tr>\n",
              "      <td>mean</td>\n",
              "      <td>39.991674</td>\n",
              "      <td>-82.985187</td>\n",
              "      <td>10.144131</td>\n",
              "      <td>3.223010</td>\n",
              "    </tr>\n",
              "    <tr>\n",
              "      <td>std</td>\n",
              "      <td>0.061422</td>\n",
              "      <td>0.076864</td>\n",
              "      <td>5.670301</td>\n",
              "      <td>1.472846</td>\n",
              "    </tr>\n",
              "    <tr>\n",
              "      <td>min</td>\n",
              "      <td>39.414070</td>\n",
              "      <td>-84.164396</td>\n",
              "      <td>1.000000</td>\n",
              "      <td>1.000000</td>\n",
              "    </tr>\n",
              "    <tr>\n",
              "      <td>25%</td>\n",
              "      <td>39.952456</td>\n",
              "      <td>-83.017007</td>\n",
              "      <td>5.000000</td>\n",
              "      <td>2.000000</td>\n",
              "    </tr>\n",
              "    <tr>\n",
              "      <td>50%</td>\n",
              "      <td>39.977232</td>\n",
              "      <td>-82.991951</td>\n",
              "      <td>10.000000</td>\n",
              "      <td>4.000000</td>\n",
              "    </tr>\n",
              "    <tr>\n",
              "      <td>75%</td>\n",
              "      <td>40.023498</td>\n",
              "      <td>-82.958907</td>\n",
              "      <td>16.000000</td>\n",
              "      <td>5.000000</td>\n",
              "    </tr>\n",
              "    <tr>\n",
              "      <td>max</td>\n",
              "      <td>40.602883</td>\n",
              "      <td>-80.715531</td>\n",
              "      <td>20.000000</td>\n",
              "      <td>5.000000</td>\n",
              "    </tr>\n",
              "  </tbody>\n",
              "</table>\n",
              "</div>"
            ],
            "text/plain": [
              "                lat           lng      precinct          zone\n",
              "count  72577.000000  72577.000000  69423.000000  69423.000000\n",
              "mean      39.991674    -82.985187     10.144131      3.223010\n",
              "std        0.061422      0.076864      5.670301      1.472846\n",
              "min       39.414070    -84.164396      1.000000      1.000000\n",
              "25%       39.952456    -83.017007      5.000000      2.000000\n",
              "50%       39.977232    -82.991951     10.000000      4.000000\n",
              "75%       40.023498    -82.958907     16.000000      5.000000\n",
              "max       40.602883    -80.715531     20.000000      5.000000"
            ]
          },
          "metadata": {
            "tags": []
          },
          "execution_count": 15
        }
      ]
    },
    {
      "cell_type": "code",
      "metadata": {
        "id": "paMutvdYkNxK",
        "colab_type": "code",
        "colab": {},
        "outputId": "eca2917b-05f8-4c14-c9d9-08009f549bfb"
      },
      "source": [
        "my_train.describe(exclude='number')"
      ],
      "execution_count": 0,
      "outputs": [
        {
          "output_type": "execute_result",
          "data": {
            "text/html": [
              "<div>\n",
              "<style scoped>\n",
              "    .dataframe tbody tr th:only-of-type {\n",
              "        vertical-align: middle;\n",
              "    }\n",
              "\n",
              "    .dataframe tbody tr th {\n",
              "        vertical-align: top;\n",
              "    }\n",
              "\n",
              "    .dataframe thead th {\n",
              "        text-align: right;\n",
              "    }\n",
              "</style>\n",
              "<table border=\"1\" class=\"dataframe\">\n",
              "  <thead>\n",
              "    <tr style=\"text-align: right;\">\n",
              "      <th></th>\n",
              "      <th>raw_row_number</th>\n",
              "      <th>date</th>\n",
              "      <th>time</th>\n",
              "      <th>location</th>\n",
              "      <th>subject_race</th>\n",
              "      <th>subject_sex</th>\n",
              "      <th>type</th>\n",
              "      <th>arrest_made</th>\n",
              "      <th>citation_issued</th>\n",
              "      <th>warning_issued</th>\n",
              "      <th>outcome</th>\n",
              "      <th>search_conducted</th>\n",
              "      <th>reason_for_stop</th>\n",
              "      <th>raw_enforcement_taken</th>\n",
              "    </tr>\n",
              "  </thead>\n",
              "  <tbody>\n",
              "    <tr>\n",
              "      <td>count</td>\n",
              "      <td>79281</td>\n",
              "      <td>79281</td>\n",
              "      <td>79163</td>\n",
              "      <td>79281</td>\n",
              "      <td>79281</td>\n",
              "      <td>79281</td>\n",
              "      <td>79281</td>\n",
              "      <td>79281</td>\n",
              "      <td>79281</td>\n",
              "      <td>79281</td>\n",
              "      <td>79246</td>\n",
              "      <td>79281</td>\n",
              "      <td>79281</td>\n",
              "      <td>79281</td>\n",
              "    </tr>\n",
              "    <tr>\n",
              "      <td>unique</td>\n",
              "      <td>79281</td>\n",
              "      <td>1096</td>\n",
              "      <td>1437</td>\n",
              "      <td>35986</td>\n",
              "      <td>5</td>\n",
              "      <td>2</td>\n",
              "      <td>1</td>\n",
              "      <td>2</td>\n",
              "      <td>2</td>\n",
              "      <td>2</td>\n",
              "      <td>3</td>\n",
              "      <td>2</td>\n",
              "      <td>4</td>\n",
              "      <td>120</td>\n",
              "    </tr>\n",
              "    <tr>\n",
              "      <td>top</td>\n",
              "      <td>63481</td>\n",
              "      <td>2012-02-03 00:00:00</td>\n",
              "      <td>16:00:00</td>\n",
              "      <td>70 and CHAMPION</td>\n",
              "      <td>white</td>\n",
              "      <td>male</td>\n",
              "      <td>vehicular</td>\n",
              "      <td>False</td>\n",
              "      <td>True</td>\n",
              "      <td>False</td>\n",
              "      <td>citation</td>\n",
              "      <td>False</td>\n",
              "      <td>Moving Violation</td>\n",
              "      <td>Traffic Citation</td>\n",
              "    </tr>\n",
              "    <tr>\n",
              "      <td>freq</td>\n",
              "      <td>1</td>\n",
              "      <td>162</td>\n",
              "      <td>247</td>\n",
              "      <td>645</td>\n",
              "      <td>40114</td>\n",
              "      <td>51984</td>\n",
              "      <td>79281</td>\n",
              "      <td>76143</td>\n",
              "      <td>46299</td>\n",
              "      <td>46480</td>\n",
              "      <td>44000</td>\n",
              "      <td>74350</td>\n",
              "      <td>59412</td>\n",
              "      <td>39778</td>\n",
              "    </tr>\n",
              "    <tr>\n",
              "      <td>first</td>\n",
              "      <td>NaN</td>\n",
              "      <td>2012-01-01 00:00:00</td>\n",
              "      <td>NaN</td>\n",
              "      <td>NaN</td>\n",
              "      <td>NaN</td>\n",
              "      <td>NaN</td>\n",
              "      <td>NaN</td>\n",
              "      <td>NaN</td>\n",
              "      <td>NaN</td>\n",
              "      <td>NaN</td>\n",
              "      <td>NaN</td>\n",
              "      <td>NaN</td>\n",
              "      <td>NaN</td>\n",
              "      <td>NaN</td>\n",
              "    </tr>\n",
              "    <tr>\n",
              "      <td>last</td>\n",
              "      <td>NaN</td>\n",
              "      <td>2014-12-31 00:00:00</td>\n",
              "      <td>NaN</td>\n",
              "      <td>NaN</td>\n",
              "      <td>NaN</td>\n",
              "      <td>NaN</td>\n",
              "      <td>NaN</td>\n",
              "      <td>NaN</td>\n",
              "      <td>NaN</td>\n",
              "      <td>NaN</td>\n",
              "      <td>NaN</td>\n",
              "      <td>NaN</td>\n",
              "      <td>NaN</td>\n",
              "      <td>NaN</td>\n",
              "    </tr>\n",
              "  </tbody>\n",
              "</table>\n",
              "</div>"
            ],
            "text/plain": [
              "       raw_row_number                 date      time         location  \\\n",
              "count           79281                79281     79163            79281   \n",
              "unique          79281                 1096      1437            35986   \n",
              "top             63481  2012-02-03 00:00:00  16:00:00  70 and CHAMPION   \n",
              "freq                1                  162       247              645   \n",
              "first             NaN  2012-01-01 00:00:00       NaN              NaN   \n",
              "last              NaN  2014-12-31 00:00:00       NaN              NaN   \n",
              "\n",
              "       subject_race subject_sex       type arrest_made citation_issued  \\\n",
              "count         79281       79281      79281       79281           79281   \n",
              "unique            5           2          1           2               2   \n",
              "top           white        male  vehicular       False            True   \n",
              "freq          40114       51984      79281       76143           46299   \n",
              "first           NaN         NaN        NaN         NaN             NaN   \n",
              "last            NaN         NaN        NaN         NaN             NaN   \n",
              "\n",
              "       warning_issued   outcome search_conducted   reason_for_stop  \\\n",
              "count           79281     79246            79281             79281   \n",
              "unique              2         3                2                 4   \n",
              "top             False  citation            False  Moving Violation   \n",
              "freq            46480     44000            74350             59412   \n",
              "first             NaN       NaN              NaN               NaN   \n",
              "last              NaN       NaN              NaN               NaN   \n",
              "\n",
              "       raw_enforcement_taken  \n",
              "count                  79281  \n",
              "unique                   120  \n",
              "top         Traffic Citation  \n",
              "freq                   39778  \n",
              "first                    NaN  \n",
              "last                     NaN  "
            ]
          },
          "metadata": {
            "tags": []
          },
          "execution_count": 16
        }
      ]
    },
    {
      "cell_type": "code",
      "metadata": {
        "id": "5yVnOPjukNxN",
        "colab_type": "code",
        "colab": {},
        "outputId": "d433a5b8-60b4-4ecc-a5bb-4096cadfbdc6"
      },
      "source": [
        "my_train.isnull().sum()"
      ],
      "execution_count": 0,
      "outputs": [
        {
          "output_type": "execute_result",
          "data": {
            "text/plain": [
              "raw_row_number              0\n",
              "date                        0\n",
              "time                      118\n",
              "location                    0\n",
              "lat                      6704\n",
              "lng                      6704\n",
              "precinct                 9858\n",
              "zone                     9858\n",
              "subject_race                0\n",
              "subject_sex                 0\n",
              "type                        0\n",
              "arrest_made                 0\n",
              "citation_issued             0\n",
              "warning_issued              0\n",
              "outcome                    35\n",
              "search_conducted            0\n",
              "reason_for_stop             0\n",
              "raw_enforcement_taken       0\n",
              "dtype: int64"
            ]
          },
          "metadata": {
            "tags": []
          },
          "execution_count": 17
        }
      ]
    },
    {
      "cell_type": "markdown",
      "metadata": {
        "id": "iNV0pteAkNxQ",
        "colab_type": "text"
      },
      "source": [
        "This is interesting. All of the entries where an outcome is missing, there were vehicle searches.\n",
        "Still, there are only 35 instances. It's probably safe to drop all of the nan outcomes without losing any value"
      ]
    },
    {
      "cell_type": "code",
      "metadata": {
        "id": "5Lo40F50kNxR",
        "colab_type": "code",
        "colab": {},
        "outputId": "a6046037-8622-4231-dca3-d82775d8b5e3"
      },
      "source": [
        "my_train[my_train['outcome'].isnull() == True]"
      ],
      "execution_count": 0,
      "outputs": [
        {
          "output_type": "execute_result",
          "data": {
            "text/html": [
              "<div>\n",
              "<style scoped>\n",
              "    .dataframe tbody tr th:only-of-type {\n",
              "        vertical-align: middle;\n",
              "    }\n",
              "\n",
              "    .dataframe tbody tr th {\n",
              "        vertical-align: top;\n",
              "    }\n",
              "\n",
              "    .dataframe thead th {\n",
              "        text-align: right;\n",
              "    }\n",
              "</style>\n",
              "<table border=\"1\" class=\"dataframe\">\n",
              "  <thead>\n",
              "    <tr style=\"text-align: right;\">\n",
              "      <th></th>\n",
              "      <th>raw_row_number</th>\n",
              "      <th>date</th>\n",
              "      <th>time</th>\n",
              "      <th>location</th>\n",
              "      <th>lat</th>\n",
              "      <th>lng</th>\n",
              "      <th>precinct</th>\n",
              "      <th>zone</th>\n",
              "      <th>subject_race</th>\n",
              "      <th>subject_sex</th>\n",
              "      <th>type</th>\n",
              "      <th>arrest_made</th>\n",
              "      <th>citation_issued</th>\n",
              "      <th>warning_issued</th>\n",
              "      <th>outcome</th>\n",
              "      <th>search_conducted</th>\n",
              "      <th>reason_for_stop</th>\n",
              "      <th>raw_enforcement_taken</th>\n",
              "    </tr>\n",
              "  </thead>\n",
              "  <tbody>\n",
              "    <tr>\n",
              "      <td>7196</td>\n",
              "      <td>8480</td>\n",
              "      <td>2012-03-09</td>\n",
              "      <td>20:10:00</td>\n",
              "      <td>BAIRSFORD DR and SARANAC DR</td>\n",
              "      <td>39.941613</td>\n",
              "      <td>-82.844087</td>\n",
              "      <td>14.0</td>\n",
              "      <td>2.0</td>\n",
              "      <td>black</td>\n",
              "      <td>female</td>\n",
              "      <td>vehicular</td>\n",
              "      <td>False</td>\n",
              "      <td>False</td>\n",
              "      <td>False</td>\n",
              "      <td>NaN</td>\n",
              "      <td>True</td>\n",
              "      <td>Investigatory</td>\n",
              "      <td>Vehicle Search</td>\n",
              "    </tr>\n",
              "    <tr>\n",
              "      <td>7443</td>\n",
              "      <td>8764|8765</td>\n",
              "      <td>2012-03-12</td>\n",
              "      <td>01:11:00</td>\n",
              "      <td>Easton Way and 270 s/b ramp</td>\n",
              "      <td>NaN</td>\n",
              "      <td>NaN</td>\n",
              "      <td>NaN</td>\n",
              "      <td>NaN</td>\n",
              "      <td>black</td>\n",
              "      <td>male</td>\n",
              "      <td>vehicular</td>\n",
              "      <td>False</td>\n",
              "      <td>False</td>\n",
              "      <td>False</td>\n",
              "      <td>NaN</td>\n",
              "      <td>True</td>\n",
              "      <td>Investigatory</td>\n",
              "      <td>Vehicle Search|Driver Search</td>\n",
              "    </tr>\n",
              "    <tr>\n",
              "      <td>8805</td>\n",
              "      <td>10360</td>\n",
              "      <td>2012-03-26</td>\n",
              "      <td>08:20:00</td>\n",
              "      <td>Fairwood and Forest</td>\n",
              "      <td>39.946118</td>\n",
              "      <td>-82.953945</td>\n",
              "      <td>11.0</td>\n",
              "      <td>5.0</td>\n",
              "      <td>black</td>\n",
              "      <td>male</td>\n",
              "      <td>vehicular</td>\n",
              "      <td>False</td>\n",
              "      <td>False</td>\n",
              "      <td>False</td>\n",
              "      <td>NaN</td>\n",
              "      <td>True</td>\n",
              "      <td>Moving Violation</td>\n",
              "      <td>Driver Search</td>\n",
              "    </tr>\n",
              "    <tr>\n",
              "      <td>9040</td>\n",
              "      <td>10627</td>\n",
              "      <td>2012-03-28</td>\n",
              "      <td>21:16:00</td>\n",
              "      <td>Interstate 70 and US Route 23</td>\n",
              "      <td>39.952785</td>\n",
              "      <td>-82.998751</td>\n",
              "      <td>11.0</td>\n",
              "      <td>5.0</td>\n",
              "      <td>white</td>\n",
              "      <td>male</td>\n",
              "      <td>vehicular</td>\n",
              "      <td>False</td>\n",
              "      <td>False</td>\n",
              "      <td>False</td>\n",
              "      <td>NaN</td>\n",
              "      <td>True</td>\n",
              "      <td>Investigatory</td>\n",
              "      <td>Vehicle Search</td>\n",
              "    </tr>\n",
              "    <tr>\n",
              "      <td>14086</td>\n",
              "      <td>16387</td>\n",
              "      <td>2012-05-22</td>\n",
              "      <td>18:55:00</td>\n",
              "      <td>Karl Rd and Satinwood Dr</td>\n",
              "      <td>40.084019</td>\n",
              "      <td>-82.974706</td>\n",
              "      <td>18.0</td>\n",
              "      <td>1.0</td>\n",
              "      <td>white</td>\n",
              "      <td>male</td>\n",
              "      <td>vehicular</td>\n",
              "      <td>False</td>\n",
              "      <td>False</td>\n",
              "      <td>False</td>\n",
              "      <td>NaN</td>\n",
              "      <td>True</td>\n",
              "      <td>Investigatory</td>\n",
              "      <td>Vehicle Search</td>\n",
              "    </tr>\n",
              "    <tr>\n",
              "      <td>15621</td>\n",
              "      <td>18124|18125</td>\n",
              "      <td>2012-06-10</td>\n",
              "      <td>21:45:00</td>\n",
              "      <td>Davis and Suulivant</td>\n",
              "      <td>39.953454</td>\n",
              "      <td>-83.020394</td>\n",
              "      <td>8.0</td>\n",
              "      <td>3.0</td>\n",
              "      <td>black</td>\n",
              "      <td>male</td>\n",
              "      <td>vehicular</td>\n",
              "      <td>False</td>\n",
              "      <td>False</td>\n",
              "      <td>False</td>\n",
              "      <td>NaN</td>\n",
              "      <td>True</td>\n",
              "      <td>Investigatory</td>\n",
              "      <td>Vehicle Search|Driver Search</td>\n",
              "    </tr>\n",
              "    <tr>\n",
              "      <td>18207</td>\n",
              "      <td>21152</td>\n",
              "      <td>2012-07-17</td>\n",
              "      <td>16:26:00</td>\n",
              "      <td>71 sb and 270 (north)</td>\n",
              "      <td>39.980192</td>\n",
              "      <td>-82.856673</td>\n",
              "      <td>14.0</td>\n",
              "      <td>2.0</td>\n",
              "      <td>hispanic</td>\n",
              "      <td>male</td>\n",
              "      <td>vehicular</td>\n",
              "      <td>False</td>\n",
              "      <td>False</td>\n",
              "      <td>False</td>\n",
              "      <td>NaN</td>\n",
              "      <td>True</td>\n",
              "      <td>Moving Violation</td>\n",
              "      <td>Vehicle Search</td>\n",
              "    </tr>\n",
              "    <tr>\n",
              "      <td>20975</td>\n",
              "      <td>24439</td>\n",
              "      <td>2012-08-25</td>\n",
              "      <td>05:06:00</td>\n",
              "      <td>E. 161 and Tamarack Blvd</td>\n",
              "      <td>40.086852</td>\n",
              "      <td>-82.969602</td>\n",
              "      <td>18.0</td>\n",
              "      <td>1.0</td>\n",
              "      <td>white</td>\n",
              "      <td>male</td>\n",
              "      <td>vehicular</td>\n",
              "      <td>False</td>\n",
              "      <td>False</td>\n",
              "      <td>False</td>\n",
              "      <td>NaN</td>\n",
              "      <td>True</td>\n",
              "      <td>Investigatory</td>\n",
              "      <td>Vehicle Search</td>\n",
              "    </tr>\n",
              "    <tr>\n",
              "      <td>25923</td>\n",
              "      <td>30140</td>\n",
              "      <td>2012-11-08</td>\n",
              "      <td>05:10:00</td>\n",
              "      <td>Sullivant Ave and S Guilford Ave</td>\n",
              "      <td>39.950223</td>\n",
              "      <td>-83.037690</td>\n",
              "      <td>8.0</td>\n",
              "      <td>3.0</td>\n",
              "      <td>black</td>\n",
              "      <td>male</td>\n",
              "      <td>vehicular</td>\n",
              "      <td>False</td>\n",
              "      <td>False</td>\n",
              "      <td>False</td>\n",
              "      <td>NaN</td>\n",
              "      <td>True</td>\n",
              "      <td>Investigatory</td>\n",
              "      <td>Vehicle Search</td>\n",
              "    </tr>\n",
              "    <tr>\n",
              "      <td>26823</td>\n",
              "      <td>31185</td>\n",
              "      <td>2012-11-21</td>\n",
              "      <td>01:20:00</td>\n",
              "      <td>central and sullivant</td>\n",
              "      <td>39.950250</td>\n",
              "      <td>-83.036263</td>\n",
              "      <td>8.0</td>\n",
              "      <td>3.0</td>\n",
              "      <td>white</td>\n",
              "      <td>male</td>\n",
              "      <td>vehicular</td>\n",
              "      <td>False</td>\n",
              "      <td>False</td>\n",
              "      <td>False</td>\n",
              "      <td>NaN</td>\n",
              "      <td>True</td>\n",
              "      <td>Investigatory</td>\n",
              "      <td>Vehicle Search</td>\n",
              "    </tr>\n",
              "    <tr>\n",
              "      <td>27354</td>\n",
              "      <td>31779</td>\n",
              "      <td>2012-11-30</td>\n",
              "      <td>00:47:00</td>\n",
              "      <td>joyce and denune</td>\n",
              "      <td>40.021850</td>\n",
              "      <td>-82.959931</td>\n",
              "      <td>2.0</td>\n",
              "      <td>4.0</td>\n",
              "      <td>black</td>\n",
              "      <td>male</td>\n",
              "      <td>vehicular</td>\n",
              "      <td>False</td>\n",
              "      <td>False</td>\n",
              "      <td>False</td>\n",
              "      <td>NaN</td>\n",
              "      <td>True</td>\n",
              "      <td>Moving Violation</td>\n",
              "      <td>Vehicle Search</td>\n",
              "    </tr>\n",
              "    <tr>\n",
              "      <td>28985</td>\n",
              "      <td>33713|33714</td>\n",
              "      <td>2013-01-03</td>\n",
              "      <td>18:53:00</td>\n",
              "      <td>W Broad St and Wisconsin Ave</td>\n",
              "      <td>39.958303</td>\n",
              "      <td>-83.032866</td>\n",
              "      <td>8.0</td>\n",
              "      <td>3.0</td>\n",
              "      <td>white</td>\n",
              "      <td>male</td>\n",
              "      <td>vehicular</td>\n",
              "      <td>False</td>\n",
              "      <td>False</td>\n",
              "      <td>False</td>\n",
              "      <td>NaN</td>\n",
              "      <td>True</td>\n",
              "      <td>Investigatory</td>\n",
              "      <td>Vehicle Search|Driver Search</td>\n",
              "    </tr>\n",
              "    <tr>\n",
              "      <td>30887</td>\n",
              "      <td>35923</td>\n",
              "      <td>2013-01-30</td>\n",
              "      <td>22:23:00</td>\n",
              "      <td>n wilson rd and roberts rd</td>\n",
              "      <td>40.002200</td>\n",
              "      <td>-83.113822</td>\n",
              "      <td>15.0</td>\n",
              "      <td>3.0</td>\n",
              "      <td>white</td>\n",
              "      <td>male</td>\n",
              "      <td>vehicular</td>\n",
              "      <td>False</td>\n",
              "      <td>False</td>\n",
              "      <td>False</td>\n",
              "      <td>NaN</td>\n",
              "      <td>True</td>\n",
              "      <td>Investigatory</td>\n",
              "      <td>Vehicle Search</td>\n",
              "    </tr>\n",
              "    <tr>\n",
              "      <td>34384</td>\n",
              "      <td>40061</td>\n",
              "      <td>2013-03-15</td>\n",
              "      <td>16:11:00</td>\n",
              "      <td>taymouth and edinburgh</td>\n",
              "      <td>40.066467</td>\n",
              "      <td>-82.955016</td>\n",
              "      <td>18.0</td>\n",
              "      <td>1.0</td>\n",
              "      <td>white</td>\n",
              "      <td>female</td>\n",
              "      <td>vehicular</td>\n",
              "      <td>False</td>\n",
              "      <td>False</td>\n",
              "      <td>False</td>\n",
              "      <td>NaN</td>\n",
              "      <td>True</td>\n",
              "      <td>Moving Violation</td>\n",
              "      <td>Vehicle Search</td>\n",
              "    </tr>\n",
              "    <tr>\n",
              "      <td>34395</td>\n",
              "      <td>40076</td>\n",
              "      <td>2013-03-15</td>\n",
              "      <td>17:19:00</td>\n",
              "      <td>161 and 71</td>\n",
              "      <td>40.086901</td>\n",
              "      <td>-82.985993</td>\n",
              "      <td>18.0</td>\n",
              "      <td>1.0</td>\n",
              "      <td>black</td>\n",
              "      <td>male</td>\n",
              "      <td>vehicular</td>\n",
              "      <td>False</td>\n",
              "      <td>False</td>\n",
              "      <td>False</td>\n",
              "      <td>NaN</td>\n",
              "      <td>True</td>\n",
              "      <td>Equipment Violation</td>\n",
              "      <td>Vehicle Search</td>\n",
              "    </tr>\n",
              "    <tr>\n",
              "      <td>34953</td>\n",
              "      <td>40756|40757</td>\n",
              "      <td>2013-03-22</td>\n",
              "      <td>15:59:00</td>\n",
              "      <td>E161 and North Meadows</td>\n",
              "      <td>40.082556</td>\n",
              "      <td>-82.992804</td>\n",
              "      <td>18.0</td>\n",
              "      <td>1.0</td>\n",
              "      <td>white</td>\n",
              "      <td>male</td>\n",
              "      <td>vehicular</td>\n",
              "      <td>False</td>\n",
              "      <td>False</td>\n",
              "      <td>False</td>\n",
              "      <td>NaN</td>\n",
              "      <td>True</td>\n",
              "      <td>Moving Violation</td>\n",
              "      <td>Vehicle Search|Driver Search</td>\n",
              "    </tr>\n",
              "    <tr>\n",
              "      <td>35566</td>\n",
              "      <td>41496|41497</td>\n",
              "      <td>2013-03-30</td>\n",
              "      <td>15:54:00</td>\n",
              "      <td>Whittier St and s ohio ave</td>\n",
              "      <td>39.943623</td>\n",
              "      <td>-82.971942</td>\n",
              "      <td>11.0</td>\n",
              "      <td>5.0</td>\n",
              "      <td>white</td>\n",
              "      <td>male</td>\n",
              "      <td>vehicular</td>\n",
              "      <td>False</td>\n",
              "      <td>False</td>\n",
              "      <td>False</td>\n",
              "      <td>NaN</td>\n",
              "      <td>True</td>\n",
              "      <td>Equipment Violation</td>\n",
              "      <td>Vehicle Search|Driver Search</td>\n",
              "    </tr>\n",
              "    <tr>\n",
              "      <td>36005</td>\n",
              "      <td>42011</td>\n",
              "      <td>2013-04-04</td>\n",
              "      <td>17:50:00</td>\n",
              "      <td>cleveland and 161</td>\n",
              "      <td>40.084972</td>\n",
              "      <td>-82.951071</td>\n",
              "      <td>18.0</td>\n",
              "      <td>1.0</td>\n",
              "      <td>white</td>\n",
              "      <td>female</td>\n",
              "      <td>vehicular</td>\n",
              "      <td>False</td>\n",
              "      <td>False</td>\n",
              "      <td>False</td>\n",
              "      <td>NaN</td>\n",
              "      <td>True</td>\n",
              "      <td>Equipment Violation</td>\n",
              "      <td>Vehicle Search</td>\n",
              "    </tr>\n",
              "    <tr>\n",
              "      <td>36324</td>\n",
              "      <td>42376</td>\n",
              "      <td>2013-04-09</td>\n",
              "      <td>16:44:00</td>\n",
              "      <td>Belle St and W Broad St</td>\n",
              "      <td>39.961236</td>\n",
              "      <td>-83.008868</td>\n",
              "      <td>16.0</td>\n",
              "      <td>5.0</td>\n",
              "      <td>black</td>\n",
              "      <td>male</td>\n",
              "      <td>vehicular</td>\n",
              "      <td>False</td>\n",
              "      <td>False</td>\n",
              "      <td>False</td>\n",
              "      <td>NaN</td>\n",
              "      <td>True</td>\n",
              "      <td>Moving Violation</td>\n",
              "      <td>Vehicle Search</td>\n",
              "    </tr>\n",
              "    <tr>\n",
              "      <td>37298</td>\n",
              "      <td>43521|43522</td>\n",
              "      <td>2013-04-22</td>\n",
              "      <td>00:42:00</td>\n",
              "      <td>e 161 and karl</td>\n",
              "      <td>40.087089</td>\n",
              "      <td>-82.975365</td>\n",
              "      <td>18.0</td>\n",
              "      <td>1.0</td>\n",
              "      <td>black</td>\n",
              "      <td>male</td>\n",
              "      <td>vehicular</td>\n",
              "      <td>False</td>\n",
              "      <td>False</td>\n",
              "      <td>False</td>\n",
              "      <td>NaN</td>\n",
              "      <td>True</td>\n",
              "      <td>Equipment Violation</td>\n",
              "      <td>Vehicle Search|Driver Search</td>\n",
              "    </tr>\n",
              "    <tr>\n",
              "      <td>38890</td>\n",
              "      <td>45345|45346</td>\n",
              "      <td>2013-05-17</td>\n",
              "      <td>21:28:00</td>\n",
              "      <td>E 17th Ave and Woodland Ave</td>\n",
              "      <td>39.999268</td>\n",
              "      <td>-82.954580</td>\n",
              "      <td>5.0</td>\n",
              "      <td>4.0</td>\n",
              "      <td>black</td>\n",
              "      <td>male</td>\n",
              "      <td>vehicular</td>\n",
              "      <td>False</td>\n",
              "      <td>False</td>\n",
              "      <td>False</td>\n",
              "      <td>NaN</td>\n",
              "      <td>True</td>\n",
              "      <td>Investigatory</td>\n",
              "      <td>Vehicle Search|Driver Search</td>\n",
              "    </tr>\n",
              "    <tr>\n",
              "      <td>40134</td>\n",
              "      <td>46777|46778</td>\n",
              "      <td>2013-06-08</td>\n",
              "      <td>15:19:00</td>\n",
              "      <td>taylor and old leonard</td>\n",
              "      <td>39.982751</td>\n",
              "      <td>-82.960563</td>\n",
              "      <td>7.0</td>\n",
              "      <td>5.0</td>\n",
              "      <td>black</td>\n",
              "      <td>male</td>\n",
              "      <td>vehicular</td>\n",
              "      <td>False</td>\n",
              "      <td>False</td>\n",
              "      <td>False</td>\n",
              "      <td>NaN</td>\n",
              "      <td>True</td>\n",
              "      <td>Investigatory</td>\n",
              "      <td>Vehicle Search|Driver Search</td>\n",
              "    </tr>\n",
              "    <tr>\n",
              "      <td>40532</td>\n",
              "      <td>47245|47246</td>\n",
              "      <td>2013-06-17</td>\n",
              "      <td>19:32:00</td>\n",
              "      <td>whitethorne ave and eakin rd</td>\n",
              "      <td>39.933186</td>\n",
              "      <td>-83.055318</td>\n",
              "      <td>10.0</td>\n",
              "      <td>3.0</td>\n",
              "      <td>white</td>\n",
              "      <td>male</td>\n",
              "      <td>vehicular</td>\n",
              "      <td>False</td>\n",
              "      <td>False</td>\n",
              "      <td>False</td>\n",
              "      <td>NaN</td>\n",
              "      <td>True</td>\n",
              "      <td>Moving Violation</td>\n",
              "      <td>Vehicle Search|Driver Search</td>\n",
              "    </tr>\n",
              "    <tr>\n",
              "      <td>40783</td>\n",
              "      <td>47518</td>\n",
              "      <td>2013-06-21</td>\n",
              "      <td>19:46:00</td>\n",
              "      <td>IR 270 and E BROAD ST</td>\n",
              "      <td>39.982854</td>\n",
              "      <td>-82.828656</td>\n",
              "      <td>14.0</td>\n",
              "      <td>2.0</td>\n",
              "      <td>white</td>\n",
              "      <td>male</td>\n",
              "      <td>vehicular</td>\n",
              "      <td>False</td>\n",
              "      <td>False</td>\n",
              "      <td>False</td>\n",
              "      <td>NaN</td>\n",
              "      <td>True</td>\n",
              "      <td>Investigatory</td>\n",
              "      <td>Vehicle Search</td>\n",
              "    </tr>\n",
              "    <tr>\n",
              "      <td>41467</td>\n",
              "      <td>48283</td>\n",
              "      <td>2013-07-06</td>\n",
              "      <td>17:50:00</td>\n",
              "      <td>BREMEN and NORTH BROADWAY</td>\n",
              "      <td>40.029776</td>\n",
              "      <td>-82.969781</td>\n",
              "      <td>2.0</td>\n",
              "      <td>4.0</td>\n",
              "      <td>black</td>\n",
              "      <td>male</td>\n",
              "      <td>vehicular</td>\n",
              "      <td>False</td>\n",
              "      <td>False</td>\n",
              "      <td>False</td>\n",
              "      <td>NaN</td>\n",
              "      <td>True</td>\n",
              "      <td>Moving Violation</td>\n",
              "      <td>Vehicle Search</td>\n",
              "    </tr>\n",
              "    <tr>\n",
              "      <td>42491</td>\n",
              "      <td>49463</td>\n",
              "      <td>2013-07-25</td>\n",
              "      <td>20:50:00</td>\n",
              "      <td>161 and BEECHCROFT</td>\n",
              "      <td>40.086621</td>\n",
              "      <td>-82.964587</td>\n",
              "      <td>18.0</td>\n",
              "      <td>1.0</td>\n",
              "      <td>black</td>\n",
              "      <td>male</td>\n",
              "      <td>vehicular</td>\n",
              "      <td>False</td>\n",
              "      <td>False</td>\n",
              "      <td>False</td>\n",
              "      <td>NaN</td>\n",
              "      <td>True</td>\n",
              "      <td>Moving Violation</td>\n",
              "      <td>Vehicle Search</td>\n",
              "    </tr>\n",
              "    <tr>\n",
              "      <td>44618</td>\n",
              "      <td>51933</td>\n",
              "      <td>2013-08-27</td>\n",
              "      <td>11:40:00</td>\n",
              "      <td>s clarendon ave and suncrest dr</td>\n",
              "      <td>39.940905</td>\n",
              "      <td>-83.056727</td>\n",
              "      <td>19.0</td>\n",
              "      <td>3.0</td>\n",
              "      <td>white</td>\n",
              "      <td>male</td>\n",
              "      <td>vehicular</td>\n",
              "      <td>False</td>\n",
              "      <td>False</td>\n",
              "      <td>False</td>\n",
              "      <td>NaN</td>\n",
              "      <td>True</td>\n",
              "      <td>Moving Violation</td>\n",
              "      <td>Driver Search</td>\n",
              "    </tr>\n",
              "    <tr>\n",
              "      <td>55838</td>\n",
              "      <td>65224|65225</td>\n",
              "      <td>2014-02-06</td>\n",
              "      <td>20:22:00</td>\n",
              "      <td>E. Hudson ST and McGuffey Rd</td>\n",
              "      <td>40.014302</td>\n",
              "      <td>-82.981398</td>\n",
              "      <td>2.0</td>\n",
              "      <td>4.0</td>\n",
              "      <td>black</td>\n",
              "      <td>female</td>\n",
              "      <td>vehicular</td>\n",
              "      <td>False</td>\n",
              "      <td>False</td>\n",
              "      <td>False</td>\n",
              "      <td>NaN</td>\n",
              "      <td>True</td>\n",
              "      <td>Moving Violation</td>\n",
              "      <td>Vehicle Search|Driver Search</td>\n",
              "    </tr>\n",
              "    <tr>\n",
              "      <td>59331</td>\n",
              "      <td>69324</td>\n",
              "      <td>2014-03-10</td>\n",
              "      <td>01:28:00</td>\n",
              "      <td>Karl rd and Shanley rd</td>\n",
              "      <td>40.055480</td>\n",
              "      <td>-82.976367</td>\n",
              "      <td>18.0</td>\n",
              "      <td>1.0</td>\n",
              "      <td>white</td>\n",
              "      <td>male</td>\n",
              "      <td>vehicular</td>\n",
              "      <td>False</td>\n",
              "      <td>False</td>\n",
              "      <td>False</td>\n",
              "      <td>NaN</td>\n",
              "      <td>True</td>\n",
              "      <td>Investigatory</td>\n",
              "      <td>Vehicle Search</td>\n",
              "    </tr>\n",
              "    <tr>\n",
              "      <td>61420</td>\n",
              "      <td>71794</td>\n",
              "      <td>2014-03-31</td>\n",
              "      <td>21:41:00</td>\n",
              "      <td>MAYME MOORE and GARFIELD</td>\n",
              "      <td>39.969460</td>\n",
              "      <td>-82.980093</td>\n",
              "      <td>7.0</td>\n",
              "      <td>5.0</td>\n",
              "      <td>black</td>\n",
              "      <td>male</td>\n",
              "      <td>vehicular</td>\n",
              "      <td>False</td>\n",
              "      <td>False</td>\n",
              "      <td>False</td>\n",
              "      <td>NaN</td>\n",
              "      <td>True</td>\n",
              "      <td>Moving Violation</td>\n",
              "      <td>Vehicle Search</td>\n",
              "    </tr>\n",
              "    <tr>\n",
              "      <td>65824</td>\n",
              "      <td>76970</td>\n",
              "      <td>2014-05-28</td>\n",
              "      <td>21:54:00</td>\n",
              "      <td>Karl and Morse</td>\n",
              "      <td>40.060658</td>\n",
              "      <td>-82.977348</td>\n",
              "      <td>18.0</td>\n",
              "      <td>1.0</td>\n",
              "      <td>other</td>\n",
              "      <td>male</td>\n",
              "      <td>vehicular</td>\n",
              "      <td>False</td>\n",
              "      <td>False</td>\n",
              "      <td>False</td>\n",
              "      <td>NaN</td>\n",
              "      <td>True</td>\n",
              "      <td>Equipment Violation</td>\n",
              "      <td>Vehicle Search</td>\n",
              "    </tr>\n",
              "    <tr>\n",
              "      <td>69584</td>\n",
              "      <td>81379|81380</td>\n",
              "      <td>2014-07-28</td>\n",
              "      <td>23:24:00</td>\n",
              "      <td>e hudson st and hiawatha st</td>\n",
              "      <td>40.014554</td>\n",
              "      <td>-82.986672</td>\n",
              "      <td>2.0</td>\n",
              "      <td>4.0</td>\n",
              "      <td>white</td>\n",
              "      <td>male</td>\n",
              "      <td>vehicular</td>\n",
              "      <td>False</td>\n",
              "      <td>False</td>\n",
              "      <td>False</td>\n",
              "      <td>NaN</td>\n",
              "      <td>True</td>\n",
              "      <td>Investigatory</td>\n",
              "      <td>Vehicle Search|Driver Search</td>\n",
              "    </tr>\n",
              "    <tr>\n",
              "      <td>69596</td>\n",
              "      <td>81392</td>\n",
              "      <td>2014-07-29</td>\n",
              "      <td>02:09:00</td>\n",
              "      <td>71 and weber rd</td>\n",
              "      <td>40.024495</td>\n",
              "      <td>-83.011752</td>\n",
              "      <td>3.0</td>\n",
              "      <td>4.0</td>\n",
              "      <td>asian/pacific islander</td>\n",
              "      <td>male</td>\n",
              "      <td>vehicular</td>\n",
              "      <td>False</td>\n",
              "      <td>False</td>\n",
              "      <td>False</td>\n",
              "      <td>NaN</td>\n",
              "      <td>True</td>\n",
              "      <td>Investigatory</td>\n",
              "      <td>Vehicle Search</td>\n",
              "    </tr>\n",
              "    <tr>\n",
              "      <td>75936</td>\n",
              "      <td>88925|88926</td>\n",
              "      <td>2014-11-01</td>\n",
              "      <td>17:33:00</td>\n",
              "      <td>Joyce and E Hudson</td>\n",
              "      <td>40.013413</td>\n",
              "      <td>-82.961321</td>\n",
              "      <td>5.0</td>\n",
              "      <td>4.0</td>\n",
              "      <td>black</td>\n",
              "      <td>male</td>\n",
              "      <td>vehicular</td>\n",
              "      <td>False</td>\n",
              "      <td>False</td>\n",
              "      <td>False</td>\n",
              "      <td>NaN</td>\n",
              "      <td>True</td>\n",
              "      <td>Equipment Violation</td>\n",
              "      <td>Vehicle Search|Driver Search</td>\n",
              "    </tr>\n",
              "    <tr>\n",
              "      <td>76735</td>\n",
              "      <td>89863|89864</td>\n",
              "      <td>2014-11-14</td>\n",
              "      <td>21:00:00</td>\n",
              "      <td>Rich and Avondale</td>\n",
              "      <td>39.954416</td>\n",
              "      <td>-83.026055</td>\n",
              "      <td>8.0</td>\n",
              "      <td>3.0</td>\n",
              "      <td>white</td>\n",
              "      <td>male</td>\n",
              "      <td>vehicular</td>\n",
              "      <td>False</td>\n",
              "      <td>False</td>\n",
              "      <td>False</td>\n",
              "      <td>NaN</td>\n",
              "      <td>True</td>\n",
              "      <td>Moving Violation</td>\n",
              "      <td>Vehicle Search|Driver Search</td>\n",
              "    </tr>\n",
              "  </tbody>\n",
              "</table>\n",
              "</div>"
            ],
            "text/plain": [
              "      raw_row_number       date      time                          location  \\\n",
              "7196            8480 2012-03-09  20:10:00       BAIRSFORD DR and SARANAC DR   \n",
              "7443       8764|8765 2012-03-12  01:11:00       Easton Way and 270 s/b ramp   \n",
              "8805           10360 2012-03-26  08:20:00               Fairwood and Forest   \n",
              "9040           10627 2012-03-28  21:16:00     Interstate 70 and US Route 23   \n",
              "14086          16387 2012-05-22  18:55:00          Karl Rd and Satinwood Dr   \n",
              "15621    18124|18125 2012-06-10  21:45:00               Davis and Suulivant   \n",
              "18207          21152 2012-07-17  16:26:00             71 sb and 270 (north)   \n",
              "20975          24439 2012-08-25  05:06:00          E. 161 and Tamarack Blvd   \n",
              "25923          30140 2012-11-08  05:10:00  Sullivant Ave and S Guilford Ave   \n",
              "26823          31185 2012-11-21  01:20:00             central and sullivant   \n",
              "27354          31779 2012-11-30  00:47:00                  joyce and denune   \n",
              "28985    33713|33714 2013-01-03  18:53:00      W Broad St and Wisconsin Ave   \n",
              "30887          35923 2013-01-30  22:23:00        n wilson rd and roberts rd   \n",
              "34384          40061 2013-03-15  16:11:00            taymouth and edinburgh   \n",
              "34395          40076 2013-03-15  17:19:00                        161 and 71   \n",
              "34953    40756|40757 2013-03-22  15:59:00            E161 and North Meadows   \n",
              "35566    41496|41497 2013-03-30  15:54:00        Whittier St and s ohio ave   \n",
              "36005          42011 2013-04-04  17:50:00                 cleveland and 161   \n",
              "36324          42376 2013-04-09  16:44:00           Belle St and W Broad St   \n",
              "37298    43521|43522 2013-04-22  00:42:00                    e 161 and karl   \n",
              "38890    45345|45346 2013-05-17  21:28:00       E 17th Ave and Woodland Ave   \n",
              "40134    46777|46778 2013-06-08  15:19:00            taylor and old leonard   \n",
              "40532    47245|47246 2013-06-17  19:32:00      whitethorne ave and eakin rd   \n",
              "40783          47518 2013-06-21  19:46:00             IR 270 and E BROAD ST   \n",
              "41467          48283 2013-07-06  17:50:00         BREMEN and NORTH BROADWAY   \n",
              "42491          49463 2013-07-25  20:50:00                161 and BEECHCROFT   \n",
              "44618          51933 2013-08-27  11:40:00   s clarendon ave and suncrest dr   \n",
              "55838    65224|65225 2014-02-06  20:22:00      E. Hudson ST and McGuffey Rd   \n",
              "59331          69324 2014-03-10  01:28:00            Karl rd and Shanley rd   \n",
              "61420          71794 2014-03-31  21:41:00          MAYME MOORE and GARFIELD   \n",
              "65824          76970 2014-05-28  21:54:00                    Karl and Morse   \n",
              "69584    81379|81380 2014-07-28  23:24:00       e hudson st and hiawatha st   \n",
              "69596          81392 2014-07-29  02:09:00                   71 and weber rd   \n",
              "75936    88925|88926 2014-11-01  17:33:00                Joyce and E Hudson   \n",
              "76735    89863|89864 2014-11-14  21:00:00                 Rich and Avondale   \n",
              "\n",
              "             lat        lng  precinct  zone            subject_race  \\\n",
              "7196   39.941613 -82.844087      14.0   2.0                   black   \n",
              "7443         NaN        NaN       NaN   NaN                   black   \n",
              "8805   39.946118 -82.953945      11.0   5.0                   black   \n",
              "9040   39.952785 -82.998751      11.0   5.0                   white   \n",
              "14086  40.084019 -82.974706      18.0   1.0                   white   \n",
              "15621  39.953454 -83.020394       8.0   3.0                   black   \n",
              "18207  39.980192 -82.856673      14.0   2.0                hispanic   \n",
              "20975  40.086852 -82.969602      18.0   1.0                   white   \n",
              "25923  39.950223 -83.037690       8.0   3.0                   black   \n",
              "26823  39.950250 -83.036263       8.0   3.0                   white   \n",
              "27354  40.021850 -82.959931       2.0   4.0                   black   \n",
              "28985  39.958303 -83.032866       8.0   3.0                   white   \n",
              "30887  40.002200 -83.113822      15.0   3.0                   white   \n",
              "34384  40.066467 -82.955016      18.0   1.0                   white   \n",
              "34395  40.086901 -82.985993      18.0   1.0                   black   \n",
              "34953  40.082556 -82.992804      18.0   1.0                   white   \n",
              "35566  39.943623 -82.971942      11.0   5.0                   white   \n",
              "36005  40.084972 -82.951071      18.0   1.0                   white   \n",
              "36324  39.961236 -83.008868      16.0   5.0                   black   \n",
              "37298  40.087089 -82.975365      18.0   1.0                   black   \n",
              "38890  39.999268 -82.954580       5.0   4.0                   black   \n",
              "40134  39.982751 -82.960563       7.0   5.0                   black   \n",
              "40532  39.933186 -83.055318      10.0   3.0                   white   \n",
              "40783  39.982854 -82.828656      14.0   2.0                   white   \n",
              "41467  40.029776 -82.969781       2.0   4.0                   black   \n",
              "42491  40.086621 -82.964587      18.0   1.0                   black   \n",
              "44618  39.940905 -83.056727      19.0   3.0                   white   \n",
              "55838  40.014302 -82.981398       2.0   4.0                   black   \n",
              "59331  40.055480 -82.976367      18.0   1.0                   white   \n",
              "61420  39.969460 -82.980093       7.0   5.0                   black   \n",
              "65824  40.060658 -82.977348      18.0   1.0                   other   \n",
              "69584  40.014554 -82.986672       2.0   4.0                   white   \n",
              "69596  40.024495 -83.011752       3.0   4.0  asian/pacific islander   \n",
              "75936  40.013413 -82.961321       5.0   4.0                   black   \n",
              "76735  39.954416 -83.026055       8.0   3.0                   white   \n",
              "\n",
              "      subject_sex       type  arrest_made  citation_issued  warning_issued  \\\n",
              "7196       female  vehicular        False            False           False   \n",
              "7443         male  vehicular        False            False           False   \n",
              "8805         male  vehicular        False            False           False   \n",
              "9040         male  vehicular        False            False           False   \n",
              "14086        male  vehicular        False            False           False   \n",
              "15621        male  vehicular        False            False           False   \n",
              "18207        male  vehicular        False            False           False   \n",
              "20975        male  vehicular        False            False           False   \n",
              "25923        male  vehicular        False            False           False   \n",
              "26823        male  vehicular        False            False           False   \n",
              "27354        male  vehicular        False            False           False   \n",
              "28985        male  vehicular        False            False           False   \n",
              "30887        male  vehicular        False            False           False   \n",
              "34384      female  vehicular        False            False           False   \n",
              "34395        male  vehicular        False            False           False   \n",
              "34953        male  vehicular        False            False           False   \n",
              "35566        male  vehicular        False            False           False   \n",
              "36005      female  vehicular        False            False           False   \n",
              "36324        male  vehicular        False            False           False   \n",
              "37298        male  vehicular        False            False           False   \n",
              "38890        male  vehicular        False            False           False   \n",
              "40134        male  vehicular        False            False           False   \n",
              "40532        male  vehicular        False            False           False   \n",
              "40783        male  vehicular        False            False           False   \n",
              "41467        male  vehicular        False            False           False   \n",
              "42491        male  vehicular        False            False           False   \n",
              "44618        male  vehicular        False            False           False   \n",
              "55838      female  vehicular        False            False           False   \n",
              "59331        male  vehicular        False            False           False   \n",
              "61420        male  vehicular        False            False           False   \n",
              "65824        male  vehicular        False            False           False   \n",
              "69584        male  vehicular        False            False           False   \n",
              "69596        male  vehicular        False            False           False   \n",
              "75936        male  vehicular        False            False           False   \n",
              "76735        male  vehicular        False            False           False   \n",
              "\n",
              "      outcome  search_conducted      reason_for_stop  \\\n",
              "7196      NaN              True        Investigatory   \n",
              "7443      NaN              True        Investigatory   \n",
              "8805      NaN              True     Moving Violation   \n",
              "9040      NaN              True        Investigatory   \n",
              "14086     NaN              True        Investigatory   \n",
              "15621     NaN              True        Investigatory   \n",
              "18207     NaN              True     Moving Violation   \n",
              "20975     NaN              True        Investigatory   \n",
              "25923     NaN              True        Investigatory   \n",
              "26823     NaN              True        Investigatory   \n",
              "27354     NaN              True     Moving Violation   \n",
              "28985     NaN              True        Investigatory   \n",
              "30887     NaN              True        Investigatory   \n",
              "34384     NaN              True     Moving Violation   \n",
              "34395     NaN              True  Equipment Violation   \n",
              "34953     NaN              True     Moving Violation   \n",
              "35566     NaN              True  Equipment Violation   \n",
              "36005     NaN              True  Equipment Violation   \n",
              "36324     NaN              True     Moving Violation   \n",
              "37298     NaN              True  Equipment Violation   \n",
              "38890     NaN              True        Investigatory   \n",
              "40134     NaN              True        Investigatory   \n",
              "40532     NaN              True     Moving Violation   \n",
              "40783     NaN              True        Investigatory   \n",
              "41467     NaN              True     Moving Violation   \n",
              "42491     NaN              True     Moving Violation   \n",
              "44618     NaN              True     Moving Violation   \n",
              "55838     NaN              True     Moving Violation   \n",
              "59331     NaN              True        Investigatory   \n",
              "61420     NaN              True     Moving Violation   \n",
              "65824     NaN              True  Equipment Violation   \n",
              "69584     NaN              True        Investigatory   \n",
              "69596     NaN              True        Investigatory   \n",
              "75936     NaN              True  Equipment Violation   \n",
              "76735     NaN              True     Moving Violation   \n",
              "\n",
              "              raw_enforcement_taken  \n",
              "7196                 Vehicle Search  \n",
              "7443   Vehicle Search|Driver Search  \n",
              "8805                  Driver Search  \n",
              "9040                 Vehicle Search  \n",
              "14086                Vehicle Search  \n",
              "15621  Vehicle Search|Driver Search  \n",
              "18207                Vehicle Search  \n",
              "20975                Vehicle Search  \n",
              "25923                Vehicle Search  \n",
              "26823                Vehicle Search  \n",
              "27354                Vehicle Search  \n",
              "28985  Vehicle Search|Driver Search  \n",
              "30887                Vehicle Search  \n",
              "34384                Vehicle Search  \n",
              "34395                Vehicle Search  \n",
              "34953  Vehicle Search|Driver Search  \n",
              "35566  Vehicle Search|Driver Search  \n",
              "36005                Vehicle Search  \n",
              "36324                Vehicle Search  \n",
              "37298  Vehicle Search|Driver Search  \n",
              "38890  Vehicle Search|Driver Search  \n",
              "40134  Vehicle Search|Driver Search  \n",
              "40532  Vehicle Search|Driver Search  \n",
              "40783                Vehicle Search  \n",
              "41467                Vehicle Search  \n",
              "42491                Vehicle Search  \n",
              "44618                 Driver Search  \n",
              "55838  Vehicle Search|Driver Search  \n",
              "59331                Vehicle Search  \n",
              "61420                Vehicle Search  \n",
              "65824                Vehicle Search  \n",
              "69584  Vehicle Search|Driver Search  \n",
              "69596                Vehicle Search  \n",
              "75936  Vehicle Search|Driver Search  \n",
              "76735  Vehicle Search|Driver Search  "
            ]
          },
          "metadata": {
            "tags": []
          },
          "execution_count": 18
        }
      ]
    },
    {
      "cell_type": "code",
      "metadata": {
        "id": "vJ8ylthskNxY",
        "colab_type": "code",
        "colab": {},
        "outputId": "2ed3884f-5dfc-4933-c842-740e53f69dcd"
      },
      "source": [
        "df['location'].value_counts()"
      ],
      "execution_count": 0,
      "outputs": [
        {
          "output_type": "execute_result",
          "data": {
            "text/plain": [
              "hamilton and 70                758\n",
              "i670wb and i71                 663\n",
              "70 and CHAMPION                647\n",
              "70 and OHIO                    605\n",
              "broad and mcnaughten           569\n",
              "                              ... \n",
              "IR 71 SB Ramp and Greenlawn      1\n",
              "Easton Way and 270N              1\n",
              "Easton Way and stelzer rd        1\n",
              "Pontiac and E. Como              1\n",
              "Rosehill Rd and E Broad St       1\n",
              "Name: location, Length: 54338, dtype: int64"
            ]
          },
          "metadata": {
            "tags": []
          },
          "execution_count": 19
        }
      ]
    },
    {
      "cell_type": "code",
      "metadata": {
        "id": "kXb9nJqakNxc",
        "colab_type": "code",
        "colab": {},
        "outputId": "e808cfb3-d8f9-48ab-8dbc-22c9968bd544"
      },
      "source": [
        "my_train['precinct'].value_counts(dropna=False\n",
        ")"
      ],
      "execution_count": 0,
      "outputs": [
        {
          "output_type": "execute_result",
          "data": {
            "text/plain": [
              "NaN     9858\n",
              "16.0    7196\n",
              "4.0     6655\n",
              "3.0     5227\n",
              "7.0     4270\n",
              "12.0    4184\n",
              "18.0    3924\n",
              "9.0     3924\n",
              "6.0     3693\n",
              "17.0    3299\n",
              "8.0     3228\n",
              "14.0    3145\n",
              "10.0    3110\n",
              "11.0    2582\n",
              "5.0     2511\n",
              "1.0     2484\n",
              "19.0    2431\n",
              "2.0     2276\n",
              "20.0    2240\n",
              "13.0    1542\n",
              "15.0    1502\n",
              "Name: precinct, dtype: int64"
            ]
          },
          "metadata": {
            "tags": []
          },
          "execution_count": 20
        }
      ]
    },
    {
      "cell_type": "markdown",
      "metadata": {
        "id": "S1shmW-ukNxf",
        "colab_type": "text"
      },
      "source": [
        "- 'raw_row_number' just seems to count each individual action against a person. Three actions were taken against the first person, so that is raw_row_number 1,2, and 3.  That probably isn't useful, so I'll remove it\n",
        "\n",
        "\n",
        "- 'location' is interesting in that is an intersection. I need to explore it more to see if it 'x and y' and also 'y and x' exist. I could strip out the ' and ' and separate the two crossroads into different columns.\n",
        "\n",
        "\n",
        "- 'type' is a single value, so I can drop it\n",
        "\n",
        "\n",
        "- 'arrest_made',  'citation_issued', and 'warning_issued' can be dropped because 'warning_issued' will be used as my binary classifier. I will need to invert the t/f and astype it to an integer.\n",
        "\n",
        "\n",
        "- I need to do more exploration on 'search_conducted'. I'll likely drop that as data leakage since I feel like it would be highly correlated with action taken... After further exploration, the data is too dirty to deal with. There are multiple spellings, spelling errors, formatting differences. Also, this is covered in long/lat coordinates.\n",
        "\n",
        "\n",
        "- 'raw_enforcement_taken' will be dropped as it includes my target"
      ]
    },
    {
      "cell_type": "markdown",
      "metadata": {
        "id": "UFog85RMkNxf",
        "colab_type": "text"
      },
      "source": [
        "## Data Wrangling"
      ]
    },
    {
      "cell_type": "code",
      "metadata": {
        "id": "Q95M5rT3kNxg",
        "colab_type": "code",
        "colab": {}
      },
      "source": [
        "def wrangle(X):\n",
        "    \n",
        "    #To prevent a warning.\n",
        "    X = X.copy()\n",
        "    \n",
        "    # Pulling hour and minute from time column\n",
        "    X['hour'] = pd.to_datetime(X['time']).dt.hour\n",
        "    X['minute'] = pd.to_datetime(X['time']).dt.minute\n",
        "    #X = X.drop(columns='time')\n",
        "    \n",
        "    #Pulling month and day and day of week from date\n",
        "    X['month'] = X['date'].dt.month\n",
        "    X['day'] = X['date'].dt.day\n",
        "    X['day_of_week'] = X['date'].dt.weekday_name\n",
        "    \n",
        "    \n",
        "    #Dropping unecessary columns\n",
        "    #NOTE: location is too dirty now, but I'll attempt to clean it later\n",
        "    X = X.drop(columns=['raw_row_number','type','location'])\n",
        "    \n",
        "    #Dropping data leakage/time-traveling data\n",
        "    X = X.drop(columns=['arrest_made','citation_issued','warning_issued',\n",
        "                        'search_conducted','raw_enforcement_taken'] )\n",
        "    \n",
        "    \n",
        "    #Creating separate columns if a row has these values missing.\n",
        "    col_has_missing = ['time','lat','lng','precinct','zone']\n",
        "    for column in col_has_missing:\n",
        "        X[column+'_MISSING'] = X[column].isnull()\n",
        "        \n",
        "    # converting outcome column to 1/0\n",
        "    # 1 if a citation or arrest occured\n",
        "    \n",
        "    X['outcome'] = (X['outcome'] != 'warning').astype(int)\n",
        "    \n",
        "    return X\n",
        "    \n",
        "    "
      ],
      "execution_count": 0,
      "outputs": []
    },
    {
      "cell_type": "code",
      "metadata": {
        "id": "f0vWr_PTkNxj",
        "colab_type": "code",
        "colab": {}
      },
      "source": [
        "my_train = wrangle(my_train)\n",
        "my_val = wrangle(my_val)\n",
        "test = wrangle(test)"
      ],
      "execution_count": 0,
      "outputs": []
    },
    {
      "cell_type": "code",
      "metadata": {
        "id": "_9HNJ2QpkNxn",
        "colab_type": "code",
        "colab": {},
        "outputId": "cb6ea990-b990-4ccf-f845-0eb651df0517"
      },
      "source": [
        "my_train.head()"
      ],
      "execution_count": 0,
      "outputs": [
        {
          "output_type": "execute_result",
          "data": {
            "text/html": [
              "<div>\n",
              "<style scoped>\n",
              "    .dataframe tbody tr th:only-of-type {\n",
              "        vertical-align: middle;\n",
              "    }\n",
              "\n",
              "    .dataframe tbody tr th {\n",
              "        vertical-align: top;\n",
              "    }\n",
              "\n",
              "    .dataframe thead th {\n",
              "        text-align: right;\n",
              "    }\n",
              "</style>\n",
              "<table border=\"1\" class=\"dataframe\">\n",
              "  <thead>\n",
              "    <tr style=\"text-align: right;\">\n",
              "      <th></th>\n",
              "      <th>date</th>\n",
              "      <th>time</th>\n",
              "      <th>lat</th>\n",
              "      <th>lng</th>\n",
              "      <th>precinct</th>\n",
              "      <th>zone</th>\n",
              "      <th>subject_race</th>\n",
              "      <th>subject_sex</th>\n",
              "      <th>outcome</th>\n",
              "      <th>reason_for_stop</th>\n",
              "      <th>hour</th>\n",
              "      <th>minute</th>\n",
              "      <th>month</th>\n",
              "      <th>day</th>\n",
              "      <th>day_of_week</th>\n",
              "      <th>time_MISSING</th>\n",
              "      <th>lat_MISSING</th>\n",
              "      <th>lng_MISSING</th>\n",
              "      <th>precinct_MISSING</th>\n",
              "      <th>zone_MISSING</th>\n",
              "    </tr>\n",
              "  </thead>\n",
              "  <tbody>\n",
              "    <tr>\n",
              "      <td>0</td>\n",
              "      <td>2012-01-01</td>\n",
              "      <td>01:16:00</td>\n",
              "      <td>39.949920</td>\n",
              "      <td>-82.975067</td>\n",
              "      <td>11.0</td>\n",
              "      <td>5.0</td>\n",
              "      <td>white</td>\n",
              "      <td>female</td>\n",
              "      <td>1</td>\n",
              "      <td>Moving Violation</td>\n",
              "      <td>1.0</td>\n",
              "      <td>16.0</td>\n",
              "      <td>1</td>\n",
              "      <td>1</td>\n",
              "      <td>Sunday</td>\n",
              "      <td>False</td>\n",
              "      <td>False</td>\n",
              "      <td>False</td>\n",
              "      <td>False</td>\n",
              "      <td>False</td>\n",
              "    </tr>\n",
              "    <tr>\n",
              "      <td>1</td>\n",
              "      <td>2012-01-01</td>\n",
              "      <td>01:20:00</td>\n",
              "      <td>40.001043</td>\n",
              "      <td>-83.006871</td>\n",
              "      <td>4.0</td>\n",
              "      <td>4.0</td>\n",
              "      <td>white</td>\n",
              "      <td>male</td>\n",
              "      <td>0</td>\n",
              "      <td>Moving Violation</td>\n",
              "      <td>1.0</td>\n",
              "      <td>20.0</td>\n",
              "      <td>1</td>\n",
              "      <td>1</td>\n",
              "      <td>Sunday</td>\n",
              "      <td>False</td>\n",
              "      <td>False</td>\n",
              "      <td>False</td>\n",
              "      <td>False</td>\n",
              "      <td>False</td>\n",
              "    </tr>\n",
              "    <tr>\n",
              "      <td>2</td>\n",
              "      <td>2012-01-01</td>\n",
              "      <td>07:54:00</td>\n",
              "      <td>39.990708</td>\n",
              "      <td>-83.020528</td>\n",
              "      <td>NaN</td>\n",
              "      <td>NaN</td>\n",
              "      <td>black</td>\n",
              "      <td>male</td>\n",
              "      <td>0</td>\n",
              "      <td>Moving Violation</td>\n",
              "      <td>7.0</td>\n",
              "      <td>54.0</td>\n",
              "      <td>1</td>\n",
              "      <td>1</td>\n",
              "      <td>Sunday</td>\n",
              "      <td>False</td>\n",
              "      <td>False</td>\n",
              "      <td>False</td>\n",
              "      <td>True</td>\n",
              "      <td>True</td>\n",
              "    </tr>\n",
              "    <tr>\n",
              "      <td>3</td>\n",
              "      <td>2012-01-01</td>\n",
              "      <td>10:00:00</td>\n",
              "      <td>39.946876</td>\n",
              "      <td>-82.915567</td>\n",
              "      <td>9.0</td>\n",
              "      <td>2.0</td>\n",
              "      <td>black</td>\n",
              "      <td>male</td>\n",
              "      <td>0</td>\n",
              "      <td>Moving Violation</td>\n",
              "      <td>10.0</td>\n",
              "      <td>0.0</td>\n",
              "      <td>1</td>\n",
              "      <td>1</td>\n",
              "      <td>Sunday</td>\n",
              "      <td>False</td>\n",
              "      <td>False</td>\n",
              "      <td>False</td>\n",
              "      <td>False</td>\n",
              "      <td>False</td>\n",
              "    </tr>\n",
              "    <tr>\n",
              "      <td>4</td>\n",
              "      <td>2012-01-01</td>\n",
              "      <td>10:50:00</td>\n",
              "      <td>39.979569</td>\n",
              "      <td>-83.102749</td>\n",
              "      <td>15.0</td>\n",
              "      <td>3.0</td>\n",
              "      <td>black</td>\n",
              "      <td>female</td>\n",
              "      <td>0</td>\n",
              "      <td>Moving Violation</td>\n",
              "      <td>10.0</td>\n",
              "      <td>50.0</td>\n",
              "      <td>1</td>\n",
              "      <td>1</td>\n",
              "      <td>Sunday</td>\n",
              "      <td>False</td>\n",
              "      <td>False</td>\n",
              "      <td>False</td>\n",
              "      <td>False</td>\n",
              "      <td>False</td>\n",
              "    </tr>\n",
              "  </tbody>\n",
              "</table>\n",
              "</div>"
            ],
            "text/plain": [
              "        date      time        lat        lng  precinct  zone subject_race  \\\n",
              "0 2012-01-01  01:16:00  39.949920 -82.975067      11.0   5.0        white   \n",
              "1 2012-01-01  01:20:00  40.001043 -83.006871       4.0   4.0        white   \n",
              "2 2012-01-01  07:54:00  39.990708 -83.020528       NaN   NaN        black   \n",
              "3 2012-01-01  10:00:00  39.946876 -82.915567       9.0   2.0        black   \n",
              "4 2012-01-01  10:50:00  39.979569 -83.102749      15.0   3.0        black   \n",
              "\n",
              "  subject_sex  outcome   reason_for_stop  hour  minute  month  day  \\\n",
              "0      female        1  Moving Violation   1.0    16.0      1    1   \n",
              "1        male        0  Moving Violation   1.0    20.0      1    1   \n",
              "2        male        0  Moving Violation   7.0    54.0      1    1   \n",
              "3        male        0  Moving Violation  10.0     0.0      1    1   \n",
              "4      female        0  Moving Violation  10.0    50.0      1    1   \n",
              "\n",
              "  day_of_week  time_MISSING  lat_MISSING  lng_MISSING  precinct_MISSING  \\\n",
              "0      Sunday         False        False        False             False   \n",
              "1      Sunday         False        False        False             False   \n",
              "2      Sunday         False        False        False              True   \n",
              "3      Sunday         False        False        False             False   \n",
              "4      Sunday         False        False        False             False   \n",
              "\n",
              "   zone_MISSING  \n",
              "0         False  \n",
              "1         False  \n",
              "2          True  \n",
              "3         False  \n",
              "4         False  "
            ]
          },
          "metadata": {
            "tags": []
          },
          "execution_count": 23
        }
      ]
    },
    {
      "cell_type": "markdown",
      "metadata": {
        "id": "yCIaoGvRkNxq",
        "colab_type": "text"
      },
      "source": [
        "# Assignment 2"
      ]
    },
    {
      "cell_type": "markdown",
      "metadata": {
        "id": "Rvm8FPCokNxr",
        "colab_type": "text"
      },
      "source": [
        "Lambda School Data Science\n",
        "\n",
        "*Unit 2, Sprint 3, Module 2*\n",
        "\n",
        "---\n",
        "\n",
        "\n",
        "## Permutation & Boosting\n",
        "\n",
        "You will use your portfolio project dataset for all assignments this sprint.\n",
        "\n",
        "## Assignment\n",
        "\n",
        "Complete these tasks for your project, and document your work.\n",
        "\n",
        "- [ ] If you haven't completed assignment #1, please do so first.\n",
        "- [ ] Continue to clean and explore your data. Make exploratory visualizations.\n",
        "- [ ] Fit a model. Does it beat your baseline? \n",
        "- [ ] Try xgboost.\n",
        "- [ ] Get your model's permutation importances.\n",
        "\n",
        "You should try to complete an initial model today, because the rest of the week, we're making model interpretation visualizations.\n",
        "\n",
        "But, if you aren't ready to try xgboost and permutation importances with your dataset today, that's okay. You can practice with another dataset instead. You may choose any dataset you've worked with previously.\n",
        "\n",
        "The data subdirectory includes the Titanic dataset for classification and the NYC apartments dataset for regression. You may want to choose one of these datasets, because example solutions will be available for each.\n",
        "\n",
        "\n",
        "## Reading\n",
        "\n",
        "Top recommendations in _**bold italic:**_\n",
        "\n",
        "#### Permutation Importances\n",
        "- _**[Kaggle / Dan Becker: Machine Learning Explainability](https://www.kaggle.com/dansbecker/permutation-importance)**_\n",
        "- [Christoph Molnar: Interpretable Machine Learning](https://christophm.github.io/interpretable-ml-book/feature-importance.html)\n",
        "\n",
        "#### (Default) Feature Importances\n",
        "  - [Ando Saabas: Selecting good features, Part 3, Random Forests](https://blog.datadive.net/selecting-good-features-part-iii-random-forests/)\n",
        "  - [Terence Parr, et al: Beware Default Random Forest Importances](https://explained.ai/rf-importance/index.html)\n",
        "\n",
        "#### Gradient Boosting\n",
        "  - [A Gentle Introduction to the Gradient Boosting Algorithm for Machine Learning](https://machinelearningmastery.com/gentle-introduction-gradient-boosting-algorithm-machine-learning/)\n",
        "  - _**[A Kaggle Master Explains Gradient Boosting](http://blog.kaggle.com/2017/01/23/a-kaggle-master-explains-gradient-boosting/)**_\n",
        "  - [_An Introduction to Statistical Learning_](http://www-bcf.usc.edu/~gareth/ISL/ISLR%20Seventh%20Printing.pdf) Chapter 8\n",
        "  - [Gradient Boosting Explained](http://arogozhnikov.github.io/2016/06/24/gradient_boosting_explained.html)\n",
        "  - _**[Boosting](https://www.youtube.com/watch?v=GM3CDQfQ4sw) (2.5 minute video)**_"
      ]
    },
    {
      "cell_type": "markdown",
      "metadata": {
        "id": "VbT5lXOIkNxs",
        "colab_type": "text"
      },
      "source": [
        "## Some Exploratory Visualizations"
      ]
    },
    {
      "cell_type": "code",
      "metadata": {
        "id": "EuZQnalTkNxs",
        "colab_type": "code",
        "colab": {}
      },
      "source": [
        "import seaborn as sns\n",
        "import matplotlib.pyplot as plt"
      ],
      "execution_count": 0,
      "outputs": []
    },
    {
      "cell_type": "code",
      "metadata": {
        "id": "I-ge_E9akNxv",
        "colab_type": "code",
        "colab": {},
        "outputId": "f737eeab-4b99-456d-d85e-0d27507a6608"
      },
      "source": [
        "sns.distplot(my_train['hour'].dropna())"
      ],
      "execution_count": 0,
      "outputs": [
        {
          "output_type": "execute_result",
          "data": {
            "text/plain": [
              "<matplotlib.axes._subplots.AxesSubplot at 0xfb4d488>"
            ]
          },
          "metadata": {
            "tags": []
          },
          "execution_count": 25
        },
        {
          "output_type": "display_data",
          "data": {
            "image/png": "[encoded data removed]",
            "text/plain": [
              "<Figure size 432x288 with 1 Axes>"
            ]
          },
          "metadata": {
            "tags": [],
            "needs_background": "light"
          }
        }
      ]
    },
    {
      "cell_type": "code",
      "metadata": {
        "id": "Kb_ejwCTkNxy",
        "colab_type": "code",
        "colab": {},
        "outputId": "e2838b73-c9d8-44c0-ed21-c6f22236ece7"
      },
      "source": [
        "my_train['hour'].value_counts()"
      ],
      "execution_count": 0,
      "outputs": [
        {
          "output_type": "execute_result",
          "data": {
            "text/plain": [
              "16.0    8604\n",
              "15.0    6948\n",
              "17.0    6948\n",
              "20.0    4909\n",
              "0.0     4732\n",
              "14.0    4178\n",
              "19.0    4167\n",
              "23.0    4022\n",
              "18.0    3996\n",
              "1.0     3906\n",
              "21.0    3794\n",
              "2.0     3165\n",
              "22.0    2600\n",
              "10.0    2254\n",
              "11.0    2247\n",
              "3.0     1905\n",
              "13.0    1886\n",
              "8.0     1851\n",
              "12.0    1774\n",
              "9.0     1760\n",
              "4.0     1233\n",
              "7.0     1211\n",
              "5.0      685\n",
              "6.0      388\n",
              "Name: hour, dtype: int64"
            ]
          },
          "metadata": {
            "tags": []
          },
          "execution_count": 26
        }
      ]
    },
    {
      "cell_type": "code",
      "metadata": {
        "id": "v5Y0P6tPkNx2",
        "colab_type": "code",
        "colab": {},
        "outputId": "a2502421-3b1c-4ef5-a598-7ae5c8d546ad"
      },
      "source": [
        "plt.figure(figsize=(15,8))\n",
        "\n",
        "ax = sns.barplot(my_train['hour'].dropna(), my_train['outcome'])"
      ],
      "execution_count": 0,
      "outputs": [
        {
          "output_type": "display_data",
          "data": {
            "image/png": "[encoded data removed]",
            "text/plain": [
              "<Figure size 1080x576 with 1 Axes>"
            ]
          },
          "metadata": {
            "tags": [],
            "needs_background": "light"
          }
        }
      ]
    },
    {
      "cell_type": "code",
      "metadata": {
        "id": "cwYRF0OokNx5",
        "colab_type": "code",
        "colab": {},
        "outputId": "faf3c82c-b517-4b16-80c3-6ee800703153"
      },
      "source": [
        "#Clearly no relationship here. I should probably drop the minute feature\n",
        "sns.distplot(my_train['minute'].dropna())"
      ],
      "execution_count": 0,
      "outputs": [
        {
          "output_type": "execute_result",
          "data": {
            "text/plain": [
              "<matplotlib.axes._subplots.AxesSubplot at 0x111cf608>"
            ]
          },
          "metadata": {
            "tags": []
          },
          "execution_count": 28
        },
        {
          "output_type": "display_data",
          "data": {
            "image/png": "[encoded data removed]",
            "text/plain": [
              "<Figure size 432x288 with 1 Axes>"
            ]
          },
          "metadata": {
            "tags": [],
            "needs_background": "light"
          }
        }
      ]
    },
    {
      "cell_type": "code",
      "metadata": {
        "id": "E5Hrcb1FkNx8",
        "colab_type": "code",
        "colab": {},
        "outputId": "7c49c0a8-fad8-4c8f-8f34-1567d37e02ca"
      },
      "source": [
        "plt.figure(figsize=(20,8))\n",
        "ax = sns.barplot(my_train['minute'].dropna(), my_train['outcome'])"
      ],
      "execution_count": 0,
      "outputs": [
        {
          "output_type": "display_data",
          "data": {
            "image/png": "[encoded data removed]",
            "text/plain": [
              "<Figure size 1440x576 with 1 Axes>"
            ]
          },
          "metadata": {
            "tags": [],
            "needs_background": "light"
          }
        }
      ]
    },
    {
      "cell_type": "code",
      "metadata": {
        "id": "PA-fEzMvkNyA",
        "colab_type": "code",
        "colab": {},
        "outputId": "d5895f3e-952d-44e4-f2be-57f31389d0ff"
      },
      "source": [
        "sns.barplot(my_train['subject_race'], my_train['outcome'])"
      ],
      "execution_count": 0,
      "outputs": [
        {
          "output_type": "execute_result",
          "data": {
            "text/plain": [
              "<matplotlib.axes._subplots.AxesSubplot at 0x112f2808>"
            ]
          },
          "metadata": {
            "tags": []
          },
          "execution_count": 30
        },
        {
          "output_type": "display_data",
          "data": {
            "image/png": "[encoded data removed]",
            "text/plain": [
              "<Figure size 432x288 with 1 Axes>"
            ]
          },
          "metadata": {
            "tags": [],
            "needs_background": "light"
          }
        }
      ]
    },
    {
      "cell_type": "code",
      "metadata": {
        "id": "o6-4VTYDkNyC",
        "colab_type": "code",
        "colab": {},
        "outputId": "05012ada-df87-424c-8fb2-70f108931f7c"
      },
      "source": [
        "sns.barplot(my_train['subject_sex'], my_train['outcome'])"
      ],
      "execution_count": 0,
      "outputs": [
        {
          "output_type": "execute_result",
          "data": {
            "text/plain": [
              "<matplotlib.axes._subplots.AxesSubplot at 0x113d66c8>"
            ]
          },
          "metadata": {
            "tags": []
          },
          "execution_count": 31
        },
        {
          "output_type": "display_data",
          "data": {
            "image/png": "[encoded data removed]",
            "text/plain": [
              "<Figure size 432x288 with 1 Axes>"
            ]
          },
          "metadata": {
            "tags": [],
            "needs_background": "light"
          }
        }
      ]
    },
    {
      "cell_type": "code",
      "metadata": {
        "id": "QlyGjguQkNyF",
        "colab_type": "code",
        "colab": {},
        "outputId": "a51f1681-daef-4d85-cfcf-68aeb4daa87c"
      },
      "source": [
        "plt.figure(figsize=(15,8))\n",
        "\n",
        "ax = sns.barplot(my_train['precinct'].dropna(), my_train['outcome'])"
      ],
      "execution_count": 0,
      "outputs": [
        {
          "output_type": "display_data",
          "data": {
            "image/png": "[encoded data removed]",
            "text/plain": [
              "<Figure size 1080x576 with 1 Axes>"
            ]
          },
          "metadata": {
            "tags": [],
            "needs_background": "light"
          }
        }
      ]
    },
    {
      "cell_type": "code",
      "metadata": {
        "id": "V-17l9g4kNyI",
        "colab_type": "code",
        "colab": {},
        "outputId": "e5a5cf64-79b1-4bb4-c45a-a68533fb3898"
      },
      "source": [
        "sns.barplot(my_train['zone'].dropna(), my_train['outcome'])"
      ],
      "execution_count": 0,
      "outputs": [
        {
          "output_type": "execute_result",
          "data": {
            "text/plain": [
              "<matplotlib.axes._subplots.AxesSubplot at 0x11120688>"
            ]
          },
          "metadata": {
            "tags": []
          },
          "execution_count": 33
        },
        {
          "output_type": "display_data",
          "data": {
            "image/png": "[encoded data removed]",
            "text/plain": [
              "<Figure size 432x288 with 1 Axes>"
            ]
          },
          "metadata": {
            "tags": [],
            "needs_background": "light"
          }
        }
      ]
    },
    {
      "cell_type": "code",
      "metadata": {
        "id": "H4mzeRBTkNyK",
        "colab_type": "code",
        "colab": {},
        "outputId": "b0d7bad2-1a36-431d-90c2-f57c87cee31e"
      },
      "source": [
        "sns.barplot(my_train['day_of_week'].dropna(), my_train['outcome'])"
      ],
      "execution_count": 0,
      "outputs": [
        {
          "output_type": "execute_result",
          "data": {
            "text/plain": [
              "<matplotlib.axes._subplots.AxesSubplot at 0x11082d88>"
            ]
          },
          "metadata": {
            "tags": []
          },
          "execution_count": 34
        },
        {
          "output_type": "display_data",
          "data": {
            "image/png": "[encoded data removed]",
            "text/plain": [
              "<Figure size 432x288 with 1 Axes>"
            ]
          },
          "metadata": {
            "tags": [],
            "needs_background": "light"
          }
        }
      ]
    },
    {
      "cell_type": "code",
      "metadata": {
        "id": "DaDuk8d3kNyQ",
        "colab_type": "code",
        "colab": {},
        "outputId": "c3c50a59-ce1a-47af-f0d3-69aa6f44f837"
      },
      "source": [
        "sns.barplot(my_train['month'].dropna(), my_train['outcome'])"
      ],
      "execution_count": 0,
      "outputs": [
        {
          "output_type": "execute_result",
          "data": {
            "text/plain": [
              "<matplotlib.axes._subplots.AxesSubplot at 0x10fc7748>"
            ]
          },
          "metadata": {
            "tags": []
          },
          "execution_count": 35
        },
        {
          "output_type": "display_data",
          "data": {
            "image/png": "[encoded data removed]",
            "text/plain": [
              "<Figure size 432x288 with 1 Axes>"
            ]
          },
          "metadata": {
            "tags": [],
            "needs_background": "light"
          }
        }
      ]
    },
    {
      "cell_type": "code",
      "metadata": {
        "id": "CzQiMV8BkNyV",
        "colab_type": "code",
        "colab": {},
        "outputId": "4efd5edd-54fd-4d3e-ab5a-6d72a5ae1780"
      },
      "source": [
        "plt.figure(figsize=(15,8))\n",
        "\n",
        "ax = sns.barplot(my_train['day'].dropna(), my_train['outcome'])"
      ],
      "execution_count": 0,
      "outputs": [
        {
          "output_type": "display_data",
          "data": {
            "image/png": "[encoded data removed]",
            "text/plain": [
              "<Figure size 1080x576 with 1 Axes>"
            ]
          },
          "metadata": {
            "tags": [],
            "needs_background": "light"
          }
        }
      ]
    },
    {
      "cell_type": "code",
      "metadata": {
        "id": "sQlMjkkEkNyX",
        "colab_type": "code",
        "colab": {},
        "outputId": "0a99f7b2-d870-4738-abb8-7f3b297b4c9f"
      },
      "source": [
        "sns.barplot(my_train['zone_MISSING'].dropna(), my_train['outcome'])"
      ],
      "execution_count": 0,
      "outputs": [
        {
          "output_type": "execute_result",
          "data": {
            "text/plain": [
              "<matplotlib.axes._subplots.AxesSubplot at 0x116f7cc8>"
            ]
          },
          "metadata": {
            "tags": []
          },
          "execution_count": 37
        },
        {
          "output_type": "display_data",
          "data": {
            "image/png": "[encoded data removed]",
            "text/plain": [
              "<Figure size 432x288 with 1 Axes>"
            ]
          },
          "metadata": {
            "tags": [],
            "needs_background": "light"
          }
        }
      ]
    },
    {
      "cell_type": "code",
      "metadata": {
        "id": "Eag5rXKbkNya",
        "colab_type": "code",
        "colab": {},
        "outputId": "78a1b815-7abf-4169-91dd-be17e088f47b"
      },
      "source": [
        "plt.figure(figsize=(15,8))\n",
        "\n",
        "ax = sns.barplot(my_train['reason_for_stop'].dropna(), my_train['outcome'])"
      ],
      "execution_count": 0,
      "outputs": [
        {
          "output_type": "display_data",
          "data": {
            "image/png": "[encoded data removed]",
            "text/plain": [
              "<Figure size 1080x576 with 1 Axes>"
            ]
          },
          "metadata": {
            "tags": [],
            "needs_background": "light"
          }
        }
      ]
    },
    {
      "cell_type": "markdown",
      "metadata": {
        "id": "wwDLYDcEkNyc",
        "colab_type": "text"
      },
      "source": [
        "## Getting a baseline"
      ]
    },
    {
      "cell_type": "code",
      "metadata": {
        "id": "17o4A4T4kNyd",
        "colab_type": "code",
        "colab": {}
      },
      "source": [
        "target = 'outcome'\n",
        "features = my_train.drop(columns=['outcome','date']).columns\n",
        "\n",
        "\n",
        "X_train = my_train[features]\n",
        "y_train = my_train[target]\n",
        "\n",
        "X_val = my_val[features]\n",
        "y_val = my_val[target]\n",
        "\n",
        "X_test = test[features]\n",
        "y_test = test[target]"
      ],
      "execution_count": 0,
      "outputs": []
    },
    {
      "cell_type": "code",
      "metadata": {
        "id": "JXvRHST6kNyh",
        "colab_type": "code",
        "colab": {},
        "outputId": "ad747eb2-a28a-4856-aea7-0bbb123eed75"
      },
      "source": [
        "# An arrest or citation occurs in the majority of cases\n",
        "my_train['outcome'].value_counts()"
      ],
      "execution_count": 0,
      "outputs": [
        {
          "output_type": "execute_result",
          "data": {
            "text/plain": [
              "1    47173\n",
              "0    32108\n",
              "Name: outcome, dtype: int64"
            ]
          },
          "metadata": {
            "tags": []
          },
          "execution_count": 40
        }
      ]
    },
    {
      "cell_type": "code",
      "metadata": {
        "id": "FqLJeUgskNyl",
        "colab_type": "code",
        "colab": {}
      },
      "source": [
        "y_pred = [1]* len(X_val)"
      ],
      "execution_count": 0,
      "outputs": []
    },
    {
      "cell_type": "code",
      "metadata": {
        "id": "LkgDgm5nkNyn",
        "colab_type": "code",
        "colab": {}
      },
      "source": [
        "from sklearn.metrics import accuracy_score"
      ],
      "execution_count": 0,
      "outputs": []
    },
    {
      "cell_type": "markdown",
      "metadata": {
        "id": "_PV0K8-fkNyq",
        "colab_type": "text"
      },
      "source": [
        "### My accuracy score to beat is 57.40%"
      ]
    },
    {
      "cell_type": "code",
      "metadata": {
        "id": "gJSUV0HZkNyq",
        "colab_type": "code",
        "colab": {},
        "outputId": "d0d9a374-d69c-45bc-d708-59c63eb791ca"
      },
      "source": [
        "accuracy_score(y_pred, y_val)"
      ],
      "execution_count": 0,
      "outputs": [
        {
          "output_type": "execute_result",
          "data": {
            "text/plain": [
              "0.5740280195639559"
            ]
          },
          "metadata": {
            "tags": []
          },
          "execution_count": 43
        }
      ]
    },
    {
      "cell_type": "markdown",
      "metadata": {
        "id": "GS25u33dkNy1",
        "colab_type": "text"
      },
      "source": [
        "## Initial fitting the model"
      ]
    },
    {
      "cell_type": "code",
      "metadata": {
        "id": "GYQuHIQOkNy2",
        "colab_type": "code",
        "colab": {}
      },
      "source": [
        "import category_encoders as ce\n",
        "from sklearn.impute import SimpleImputer\n",
        "from sklearn.ensemble import RandomForestClassifier\n",
        "from sklearn.pipeline import make_pipeline\n",
        "from xgboost import XGBClassifier"
      ],
      "execution_count": 0,
      "outputs": []
    },
    {
      "cell_type": "code",
      "metadata": {
        "id": "mp75WRvhkNy5",
        "colab_type": "code",
        "colab": {},
        "outputId": "58f569ff-82b7-42fc-820c-836a36226840"
      },
      "source": [
        "my_pipeline_rforest = make_pipeline(\n",
        "    ce.OrdinalEncoder(),\n",
        "    SimpleImputer(),\n",
        "    RandomForestClassifier(n_estimators=100, random_state=333, n_jobs=-1)\n",
        ")\n",
        "\n",
        "my_pipeline_rforest.fit(X_train, y_train)"
      ],
      "execution_count": 0,
      "outputs": [
        {
          "output_type": "execute_result",
          "data": {
            "text/plain": [
              "Pipeline(memory=None,\n",
              "         steps=[('ordinalencoder',\n",
              "                 OrdinalEncoder(cols=['time', 'subject_race', 'subject_sex',\n",
              "                                      'reason_for_stop', 'day_of_week'],\n",
              "                                drop_invariant=False, handle_missing='value',\n",
              "                                handle_unknown='value',\n",
              "                                mapping=[{'col': 'time',\n",
              "                                          'data_type': dtype('O'),\n",
              "                                          'mapping': 01:16:00       1\n",
              "01:20:00       2\n",
              "07:54:00       3\n",
              "10:00:00       4\n",
              "10:50:00       5\n",
              "            ... \n",
              "06:26:00    1434\n",
              "06:27:00    1435\n",
              "05:41:00    1436\n",
              "06:23:0...\n",
              "                 RandomForestClassifier(bootstrap=True, class_weight=None,\n",
              "                                        criterion='gini', max_depth=None,\n",
              "                                        max_features='auto',\n",
              "                                        max_leaf_nodes=None,\n",
              "                                        min_impurity_decrease=0.0,\n",
              "                                        min_impurity_split=None,\n",
              "                                        min_samples_leaf=1, min_samples_split=2,\n",
              "                                        min_weight_fraction_leaf=0.0,\n",
              "                                        n_estimators=100, n_jobs=-1,\n",
              "                                        oob_score=False, random_state=333,\n",
              "                                        verbose=0, warm_start=False))],\n",
              "         verbose=False)"
            ]
          },
          "metadata": {
            "tags": []
          },
          "execution_count": 45
        }
      ]
    },
    {
      "cell_type": "markdown",
      "metadata": {
        "id": "FFSJWbPwkNy8",
        "colab_type": "text"
      },
      "source": [
        "### Random Forest Classifier yields 63.99% accuracy"
      ]
    },
    {
      "cell_type": "code",
      "metadata": {
        "id": "U4Rj-7O3kNy8",
        "colab_type": "code",
        "colab": {},
        "outputId": "9bea65b5-e1a5-482f-fe55-12d58af55024"
      },
      "source": [
        "my_pipeline_rforest.score(X_val,y_val)"
      ],
      "execution_count": 0,
      "outputs": [
        {
          "output_type": "execute_result",
          "data": {
            "text/plain": [
              "0.6399320235430656"
            ]
          },
          "metadata": {
            "tags": []
          },
          "execution_count": 46
        }
      ]
    },
    {
      "cell_type": "code",
      "metadata": {
        "id": "YCqfPLHGkNzA",
        "colab_type": "code",
        "colab": {},
        "outputId": "669f0ba7-1f22-493c-962b-4aaeb1e2cc8b"
      },
      "source": [
        "\n",
        "my_pipeline_xgboost = make_pipeline(\n",
        "    ce.OrdinalEncoder(),\n",
        "    SimpleImputer(),\n",
        "    XGBClassifier(n_estimators=100, random_state=333, n_jobs=-1)\n",
        ")\n",
        "\n",
        "my_pipeline_xgboost.fit(X_train, y_train)"
      ],
      "execution_count": 0,
      "outputs": [
        {
          "output_type": "execute_result",
          "data": {
            "text/plain": [
              "Pipeline(memory=None,\n",
              "         steps=[('ordinalencoder',\n",
              "                 OrdinalEncoder(cols=['time', 'subject_race', 'subject_sex',\n",
              "                                      'reason_for_stop', 'day_of_week'],\n",
              "                                drop_invariant=False, handle_missing='value',\n",
              "                                handle_unknown='value',\n",
              "                                mapping=[{'col': 'time',\n",
              "                                          'data_type': dtype('O'),\n",
              "                                          'mapping': 01:16:00       1\n",
              "01:20:00       2\n",
              "07:54:00       3\n",
              "10:00:00       4\n",
              "10:50:00       5\n",
              "            ... \n",
              "06:26:00    1434\n",
              "06:27:00    1435\n",
              "05:41:00    1436\n",
              "06:23:0...\n",
              "                 XGBClassifier(base_score=0.5, booster='gbtree',\n",
              "                               colsample_bylevel=1, colsample_bynode=1,\n",
              "                               colsample_bytree=1, gamma=0, learning_rate=0.1,\n",
              "                               max_delta_step=0, max_depth=3,\n",
              "                               min_child_weight=1, missing=None,\n",
              "                               n_estimators=100, n_jobs=-1, nthread=None,\n",
              "                               objective='binary:logistic', random_state=333,\n",
              "                               reg_alpha=0, reg_lambda=1, scale_pos_weight=1,\n",
              "                               seed=None, silent=None, subsample=1,\n",
              "                               verbosity=1))],\n",
              "         verbose=False)"
            ]
          },
          "metadata": {
            "tags": []
          },
          "execution_count": 47
        }
      ]
    },
    {
      "cell_type": "markdown",
      "metadata": {
        "id": "gmo6oqBtkNzD",
        "colab_type": "text"
      },
      "source": [
        "### XGBoost yields 64.17% accuracy"
      ]
    },
    {
      "cell_type": "code",
      "metadata": {
        "id": "6aKBq-2IkNzE",
        "colab_type": "code",
        "colab": {},
        "outputId": "7edb8c0c-742e-4248-8f43-ef891276a8f0"
      },
      "source": [
        "my_pipeline_xgboost.score(X_val,y_val)"
      ],
      "execution_count": 0,
      "outputs": [
        {
          "output_type": "execute_result",
          "data": {
            "text/plain": [
              "0.6416728840255326"
            ]
          },
          "metadata": {
            "tags": []
          },
          "execution_count": 48
        }
      ]
    },
    {
      "cell_type": "code",
      "metadata": {
        "id": "vB8zrztmkNzH",
        "colab_type": "code",
        "colab": {}
      },
      "source": [
        "encoder = ce.OrdinalEncoder()\n",
        "X_train_encoded = encoder.fit_transform(X_train)\n",
        "X_val_encoded = encoder.transform(X_val)"
      ],
      "execution_count": 0,
      "outputs": []
    },
    {
      "cell_type": "code",
      "metadata": {
        "id": "udS8ulh1kNzJ",
        "colab_type": "code",
        "colab": {}
      },
      "source": [
        "eval_set = [(X_train_encoded, y_train),\n",
        "            (X_val_encoded, y_val)]"
      ],
      "execution_count": 0,
      "outputs": []
    },
    {
      "cell_type": "code",
      "metadata": {
        "id": "_y1p6waYkNzM",
        "colab_type": "code",
        "colab": {}
      },
      "source": [
        "model = XGBClassifier(\n",
        "    n_estimators = 1000, # up to this number\n",
        "    max_depth=6, #Tried multiple depths, 6 was the best\n",
        "    learning_rate=0.1,\n",
        "    n_jobs=-1\n",
        ")"
      ],
      "execution_count": 0,
      "outputs": []
    },
    {
      "cell_type": "code",
      "metadata": {
        "id": "cQLBL17bkNzQ",
        "colab_type": "code",
        "colab": {},
        "outputId": "d14ca9d9-49d3-4e99-9d13-9cc928119f2a"
      },
      "source": [
        "model.fit(X_train_encoded,\n",
        "          y_train, eval_set=eval_set,\n",
        "          eval_metric='error',\n",
        "          early_stopping_rounds=50)"
      ],
      "execution_count": 0,
      "outputs": [
        {
          "output_type": "stream",
          "text": [
            "[0]\tvalidation_0-error:0.331366\tvalidation_1-error:0.359736\n",
            "Multiple eval metrics have been passed: 'validation_1-error' will be used for early stopping.\n",
            "\n",
            "Will train until validation_1-error hasn't improved in 50 rounds.\n",
            "[1]\tvalidation_0-error:0.329902\tvalidation_1-error:0.356752\n",
            "[2]\tvalidation_0-error:0.329524\tvalidation_1-error:0.358907\n",
            "[3]\tvalidation_0-error:0.331012\tvalidation_1-error:0.362513\n",
            "[4]\tvalidation_0-error:0.330344\tvalidation_1-error:0.361436\n",
            "[5]\tvalidation_0-error:0.330621\tvalidation_1-error:0.361685\n",
            "[6]\tvalidation_0-error:0.327872\tvalidation_1-error:0.358327\n",
            "[7]\tvalidation_0-error:0.324933\tvalidation_1-error:0.358451\n",
            "[8]\tvalidation_0-error:0.32569\tvalidation_1-error:0.360358\n",
            "[9]\tvalidation_0-error:0.32381\tvalidation_1-error:0.358369\n",
            "[10]\tvalidation_0-error:0.323646\tvalidation_1-error:0.358742\n",
            "[11]\tvalidation_0-error:0.322852\tvalidation_1-error:0.357871\n",
            "[12]\tvalidation_0-error:0.322625\tvalidation_1-error:0.357457\n",
            "[13]\tvalidation_0-error:0.321565\tvalidation_1-error:0.356918\n",
            "[14]\tvalidation_0-error:0.320745\tvalidation_1-error:0.357374\n",
            "[15]\tvalidation_0-error:0.320417\tvalidation_1-error:0.357664\n",
            "[16]\tvalidation_0-error:0.320014\tvalidation_1-error:0.357415\n",
            "[17]\tvalidation_0-error:0.3199\tvalidation_1-error:0.357167\n",
            "[18]\tvalidation_0-error:0.319005\tvalidation_1-error:0.356255\n",
            "[19]\tvalidation_0-error:0.317844\tvalidation_1-error:0.355965\n",
            "[20]\tvalidation_0-error:0.317188\tvalidation_1-error:0.355053\n",
            "[21]\tvalidation_0-error:0.316974\tvalidation_1-error:0.354016\n",
            "[22]\tvalidation_0-error:0.316103\tvalidation_1-error:0.353768\n",
            "[23]\tvalidation_0-error:0.315586\tvalidation_1-error:0.353187\n",
            "[24]\tvalidation_0-error:0.314439\tvalidation_1-error:0.352151\n",
            "[25]\tvalidation_0-error:0.31401\tvalidation_1-error:0.352276\n",
            "[26]\tvalidation_0-error:0.313568\tvalidation_1-error:0.352607\n",
            "[27]\tvalidation_0-error:0.312761\tvalidation_1-error:0.352193\n",
            "[28]\tvalidation_0-error:0.311411\tvalidation_1-error:0.351405\n",
            "[29]\tvalidation_0-error:0.310705\tvalidation_1-error:0.350327\n",
            "[30]\tvalidation_0-error:0.310137\tvalidation_1-error:0.35041\n",
            "[31]\tvalidation_0-error:0.309734\tvalidation_1-error:0.350327\n",
            "[32]\tvalidation_0-error:0.309065\tvalidation_1-error:0.350369\n",
            "[33]\tvalidation_0-error:0.308712\tvalidation_1-error:0.349913\n",
            "[34]\tvalidation_0-error:0.308031\tvalidation_1-error:0.349208\n",
            "[35]\tvalidation_0-error:0.307337\tvalidation_1-error:0.349208\n",
            "[36]\tvalidation_0-error:0.306656\tvalidation_1-error:0.348835\n",
            "[37]\tvalidation_0-error:0.306152\tvalidation_1-error:0.349789\n",
            "[38]\tvalidation_0-error:0.305344\tvalidation_1-error:0.34954\n",
            "[39]\tvalidation_0-error:0.305521\tvalidation_1-error:0.35012\n",
            "[40]\tvalidation_0-error:0.305016\tvalidation_1-error:0.34925\n",
            "[41]\tvalidation_0-error:0.304424\tvalidation_1-error:0.349084\n",
            "[42]\tvalidation_0-error:0.303957\tvalidation_1-error:0.349789\n",
            "[43]\tvalidation_0-error:0.303477\tvalidation_1-error:0.350079\n",
            "[44]\tvalidation_0-error:0.302859\tvalidation_1-error:0.349581\n",
            "[45]\tvalidation_0-error:0.30296\tvalidation_1-error:0.349789\n",
            "[46]\tvalidation_0-error:0.302443\tvalidation_1-error:0.349291\n",
            "[47]\tvalidation_0-error:0.302292\tvalidation_1-error:0.349333\n",
            "[48]\tvalidation_0-error:0.301825\tvalidation_1-error:0.349374\n",
            "[49]\tvalidation_0-error:0.301308\tvalidation_1-error:0.348545\n",
            "[50]\tvalidation_0-error:0.301207\tvalidation_1-error:0.348296\n",
            "[51]\tvalidation_0-error:0.301106\tvalidation_1-error:0.348421\n",
            "[52]\tvalidation_0-error:0.300589\tvalidation_1-error:0.348587\n",
            "[53]\tvalidation_0-error:0.300059\tvalidation_1-error:0.348504\n",
            "[54]\tvalidation_0-error:0.299857\tvalidation_1-error:0.348131\n",
            "[55]\tvalidation_0-error:0.299883\tvalidation_1-error:0.347841\n",
            "[56]\tvalidation_0-error:0.299731\tvalidation_1-error:0.347841\n",
            "[57]\tvalidation_0-error:0.299227\tvalidation_1-error:0.347302\n",
            "[58]\tvalidation_0-error:0.298571\tvalidation_1-error:0.34697\n",
            "[59]\tvalidation_0-error:0.297827\tvalidation_1-error:0.347716\n",
            "[60]\tvalidation_0-error:0.297877\tvalidation_1-error:0.347882\n",
            "[61]\tvalidation_0-error:0.297663\tvalidation_1-error:0.347343\n",
            "[62]\tvalidation_0-error:0.29707\tvalidation_1-error:0.347509\n",
            "[63]\tvalidation_0-error:0.296704\tvalidation_1-error:0.34697\n",
            "[64]\tvalidation_0-error:0.29654\tvalidation_1-error:0.347302\n",
            "[65]\tvalidation_0-error:0.296427\tvalidation_1-error:0.347343\n",
            "[66]\tvalidation_0-error:0.2962\tvalidation_1-error:0.347716\n",
            "[67]\tvalidation_0-error:0.295935\tvalidation_1-error:0.347841\n",
            "[68]\tvalidation_0-error:0.295291\tvalidation_1-error:0.347385\n",
            "[69]\tvalidation_0-error:0.294825\tvalidation_1-error:0.347177\n",
            "[70]\tvalidation_0-error:0.2948\tvalidation_1-error:0.346763\n",
            "[71]\tvalidation_0-error:0.294371\tvalidation_1-error:0.346307\n",
            "[72]\tvalidation_0-error:0.293879\tvalidation_1-error:0.346431\n",
            "[73]\tvalidation_0-error:0.293841\tvalidation_1-error:0.346473\n",
            "[74]\tvalidation_0-error:0.293526\tvalidation_1-error:0.346183\n",
            "[75]\tvalidation_0-error:0.293488\tvalidation_1-error:0.346183\n",
            "[76]\tvalidation_0-error:0.293261\tvalidation_1-error:0.345851\n",
            "[77]\tvalidation_0-error:0.292706\tvalidation_1-error:0.345934\n",
            "[78]\tvalidation_0-error:0.292264\tvalidation_1-error:0.345809\n",
            "[79]\tvalidation_0-error:0.291936\tvalidation_1-error:0.345851\n",
            "[80]\tvalidation_0-error:0.291646\tvalidation_1-error:0.345644\n",
            "[81]\tvalidation_0-error:0.291697\tvalidation_1-error:0.345478\n",
            "[82]\tvalidation_0-error:0.291167\tvalidation_1-error:0.345436\n",
            "[83]\tvalidation_0-error:0.291079\tvalidation_1-error:0.345519\n",
            "[84]\tvalidation_0-error:0.290839\tvalidation_1-error:0.345436\n",
            "[85]\tvalidation_0-error:0.290322\tvalidation_1-error:0.345519\n",
            "[86]\tvalidation_0-error:0.289792\tvalidation_1-error:0.345312\n",
            "[87]\tvalidation_0-error:0.289603\tvalidation_1-error:0.345229\n",
            "[88]\tvalidation_0-error:0.28959\tvalidation_1-error:0.345312\n",
            "[89]\tvalidation_0-error:0.289376\tvalidation_1-error:0.344939\n",
            "[90]\tvalidation_0-error:0.289275\tvalidation_1-error:0.344981\n",
            "[91]\tvalidation_0-error:0.289111\tvalidation_1-error:0.344939\n",
            "[92]\tvalidation_0-error:0.288581\tvalidation_1-error:0.344566\n",
            "[93]\tvalidation_0-error:0.288051\tvalidation_1-error:0.344939\n",
            "[94]\tvalidation_0-error:0.28785\tvalidation_1-error:0.345478\n",
            "[95]\tvalidation_0-error:0.287723\tvalidation_1-error:0.345354\n",
            "[96]\tvalidation_0-error:0.287673\tvalidation_1-error:0.345063\n",
            "[97]\tvalidation_0-error:0.287635\tvalidation_1-error:0.345312\n",
            "[98]\tvalidation_0-error:0.286803\tvalidation_1-error:0.344939\n",
            "[99]\tvalidation_0-error:0.286462\tvalidation_1-error:0.344566\n",
            "[100]\tvalidation_0-error:0.286147\tvalidation_1-error:0.344442\n",
            "[101]\tvalidation_0-error:0.285352\tvalidation_1-error:0.3444\n",
            "[102]\tvalidation_0-error:0.284747\tvalidation_1-error:0.344069\n",
            "[103]\tvalidation_0-error:0.284406\tvalidation_1-error:0.344566\n",
            "[104]\tvalidation_0-error:0.284343\tvalidation_1-error:0.344525\n",
            "[105]\tvalidation_0-error:0.284242\tvalidation_1-error:0.344607\n",
            "[106]\tvalidation_0-error:0.284356\tvalidation_1-error:0.344773\n",
            "[107]\tvalidation_0-error:0.284305\tvalidation_1-error:0.344317\n",
            "[108]\tvalidation_0-error:0.284002\tvalidation_1-error:0.344566\n",
            "[109]\tvalidation_0-error:0.28375\tvalidation_1-error:0.344234\n",
            "[110]\tvalidation_0-error:0.283637\tvalidation_1-error:0.344069\n",
            "[111]\tvalidation_0-error:0.283233\tvalidation_1-error:0.344649\n",
            "[112]\tvalidation_0-error:0.28293\tvalidation_1-error:0.344566\n",
            "[113]\tvalidation_0-error:0.282653\tvalidation_1-error:0.343986\n",
            "[114]\tvalidation_0-error:0.282552\tvalidation_1-error:0.344525\n",
            "[115]\tvalidation_0-error:0.282237\tvalidation_1-error:0.344234\n",
            "[116]\tvalidation_0-error:0.281896\tvalidation_1-error:0.344152\n",
            "[117]\tvalidation_0-error:0.281568\tvalidation_1-error:0.343903\n",
            "[118]\tvalidation_0-error:0.281139\tvalidation_1-error:0.344317\n",
            "[119]\tvalidation_0-error:0.280849\tvalidation_1-error:0.344193\n",
            "[120]\tvalidation_0-error:0.28066\tvalidation_1-error:0.344193\n",
            "[121]\tvalidation_0-error:0.280345\tvalidation_1-error:0.344442\n",
            "[122]\tvalidation_0-error:0.280345\tvalidation_1-error:0.344359\n",
            "[123]\tvalidation_0-error:0.28013\tvalidation_1-error:0.344276\n",
            "[124]\tvalidation_0-error:0.279928\tvalidation_1-error:0.344317\n",
            "[125]\tvalidation_0-error:0.279613\tvalidation_1-error:0.34411\n",
            "[126]\tvalidation_0-error:0.279159\tvalidation_1-error:0.344317\n",
            "[127]\tvalidation_0-error:0.279121\tvalidation_1-error:0.344152\n",
            "[128]\tvalidation_0-error:0.279134\tvalidation_1-error:0.343654\n",
            "[129]\tvalidation_0-error:0.278427\tvalidation_1-error:0.343613\n",
            "[130]\tvalidation_0-error:0.278276\tvalidation_1-error:0.343405\n",
            "[131]\tvalidation_0-error:0.278238\tvalidation_1-error:0.343405\n"
          ],
          "name": "stdout"
        },
        {
          "output_type": "stream",
          "text": [
            "[132]\tvalidation_0-error:0.27791\tvalidation_1-error:0.343032\n",
            "[133]\tvalidation_0-error:0.277847\tvalidation_1-error:0.342991\n",
            "[134]\tvalidation_0-error:0.27757\tvalidation_1-error:0.342991\n",
            "[135]\tvalidation_0-error:0.27709\tvalidation_1-error:0.343364\n",
            "[136]\tvalidation_0-error:0.276889\tvalidation_1-error:0.343281\n",
            "[137]\tvalidation_0-error:0.276548\tvalidation_1-error:0.343364\n",
            "[138]\tvalidation_0-error:0.276334\tvalidation_1-error:0.343281\n",
            "[139]\tvalidation_0-error:0.276119\tvalidation_1-error:0.343281\n",
            "[140]\tvalidation_0-error:0.276081\tvalidation_1-error:0.34324\n",
            "[141]\tvalidation_0-error:0.275476\tvalidation_1-error:0.342991\n",
            "[142]\tvalidation_0-error:0.275148\tvalidation_1-error:0.343032\n",
            "[143]\tvalidation_0-error:0.275211\tvalidation_1-error:0.343157\n",
            "[144]\tvalidation_0-error:0.274769\tvalidation_1-error:0.34295\n",
            "[145]\tvalidation_0-error:0.274568\tvalidation_1-error:0.343032\n",
            "[146]\tvalidation_0-error:0.274492\tvalidation_1-error:0.343157\n",
            "[147]\tvalidation_0-error:0.27429\tvalidation_1-error:0.342576\n",
            "[148]\tvalidation_0-error:0.274013\tvalidation_1-error:0.342701\n",
            "[149]\tvalidation_0-error:0.273962\tvalidation_1-error:0.342618\n",
            "[150]\tvalidation_0-error:0.273823\tvalidation_1-error:0.342742\n",
            "[151]\tvalidation_0-error:0.273496\tvalidation_1-error:0.342369\n",
            "[152]\tvalidation_0-error:0.273231\tvalidation_1-error:0.342411\n",
            "[153]\tvalidation_0-error:0.272865\tvalidation_1-error:0.342203\n",
            "[154]\tvalidation_0-error:0.272726\tvalidation_1-error:0.342286\n",
            "[155]\tvalidation_0-error:0.272486\tvalidation_1-error:0.342162\n",
            "[156]\tvalidation_0-error:0.271894\tvalidation_1-error:0.342245\n",
            "[157]\tvalidation_0-error:0.271742\tvalidation_1-error:0.342494\n",
            "[158]\tvalidation_0-error:0.27144\tvalidation_1-error:0.342162\n",
            "[159]\tvalidation_0-error:0.271414\tvalidation_1-error:0.342162\n",
            "[160]\tvalidation_0-error:0.270948\tvalidation_1-error:0.342535\n",
            "[161]\tvalidation_0-error:0.270935\tvalidation_1-error:0.342411\n",
            "[162]\tvalidation_0-error:0.270973\tvalidation_1-error:0.342328\n",
            "[163]\tvalidation_0-error:0.270859\tvalidation_1-error:0.342369\n",
            "[164]\tvalidation_0-error:0.270519\tvalidation_1-error:0.342535\n",
            "[165]\tvalidation_0-error:0.270304\tvalidation_1-error:0.342245\n",
            "[166]\tvalidation_0-error:0.269825\tvalidation_1-error:0.342245\n",
            "[167]\tvalidation_0-error:0.269611\tvalidation_1-error:0.342121\n",
            "[168]\tvalidation_0-error:0.269548\tvalidation_1-error:0.342286\n",
            "[169]\tvalidation_0-error:0.269207\tvalidation_1-error:0.342576\n",
            "[170]\tvalidation_0-error:0.269144\tvalidation_1-error:0.342576\n",
            "[171]\tvalidation_0-error:0.269144\tvalidation_1-error:0.342494\n",
            "[172]\tvalidation_0-error:0.269043\tvalidation_1-error:0.342038\n",
            "[173]\tvalidation_0-error:0.26874\tvalidation_1-error:0.342328\n"
          ],
          "name": "stdout"
        },
        {
          "output_type": "execute_result",
          "data": {
            "text/plain": [
              "XGBClassifier(base_score=0.5, booster='gbtree', colsample_bylevel=1,\n",
              "              colsample_bynode=1, colsample_bytree=1, gamma=0,\n",
              "              learning_rate=0.1, max_delta_step=0, max_depth=6,\n",
              "              min_child_weight=1, missing=None, n_estimators=174, n_jobs=-1,\n",
              "              nthread=None, objective='binary:logistic', random_state=0,\n",
              "              reg_alpha=0, reg_lambda=1, scale_pos_weight=1, seed=None,\n",
              "              silent=None, subsample=1, verbosity=1)"
            ]
          },
          "metadata": {
            "tags": []
          },
          "execution_count": 67
        }
      ]
    },
    {
      "cell_type": "markdown",
      "metadata": {
        "id": "tub2U9VskNzT",
        "colab_type": "text"
      },
      "source": [
        "### Using early stopping, this XGBoost yields 65.80% accuracy, the highest so far. n_estimators = 174"
      ]
    },
    {
      "cell_type": "code",
      "metadata": {
        "id": "Y2GQAfs9kNzU",
        "colab_type": "code",
        "colab": {},
        "outputId": "23dcd968-2235-4463-e50b-9c5a83e415f4"
      },
      "source": [
        "model.score(X_val_encoded,y_val)"
      ],
      "execution_count": 0,
      "outputs": [
        {
          "output_type": "execute_result",
          "data": {
            "text/plain": [
              "0.6577551189587997"
            ]
          },
          "metadata": {
            "tags": []
          },
          "execution_count": 53
        }
      ]
    },
    {
      "cell_type": "markdown",
      "metadata": {
        "id": "HRkfEofUkNzW",
        "colab_type": "text"
      },
      "source": [
        "### Visualizing error"
      ]
    },
    {
      "cell_type": "code",
      "metadata": {
        "id": "h56GcatUkNzX",
        "colab_type": "code",
        "colab": {},
        "outputId": "58997271-c272-47a4-c748-ea0c052b6823"
      },
      "source": [
        "results = model.evals_result()\n",
        "#This is just a python dictionary thing now\n",
        "train_error = results['validation_0']['error']\n",
        "val_error = results['validation_1']['error']\n",
        "len(train_error)\n",
        "\n",
        "epoch = range(1, len(train_error)+1)\n",
        "\n",
        "plt.plot(epoch, train_error, label='Train')\n",
        "plt.plot(epoch, val_error, label='Validation',color='red')\n",
        "plt.ylabel('Error')\n",
        "plt.xlabel('n_estimators');"
      ],
      "execution_count": 0,
      "outputs": [
        {
          "output_type": "display_data",
          "data": {
            "image/png": "[encoded data removed]",
            "text/plain": [
              "<Figure size 432x288 with 1 Axes>"
            ]
          },
          "metadata": {
            "tags": [],
            "needs_background": "light"
          }
        }
      ]
    },
    {
      "cell_type": "code",
      "metadata": {
        "id": "JxkXpUNukNze",
        "colab_type": "code",
        "colab": {}
      },
      "source": [
        ""
      ],
      "execution_count": 0,
      "outputs": []
    },
    {
      "cell_type": "code",
      "metadata": {
        "id": "9jwN5SVlkNzj",
        "colab_type": "code",
        "colab": {}
      },
      "source": [
        ""
      ],
      "execution_count": 0,
      "outputs": []
    },
    {
      "cell_type": "markdown",
      "metadata": {
        "id": "JhJB9OTAkNzl",
        "colab_type": "text"
      },
      "source": [
        "## Finding permutation importances"
      ]
    },
    {
      "cell_type": "code",
      "metadata": {
        "id": "m_nPqauokNzo",
        "colab_type": "code",
        "colab": {},
        "outputId": "71e30110-0a32-42e4-9345-f12cfbabbc88"
      },
      "source": [
        "#Eli5 doesn't work with pipelines, so we need to sepeare the steps\n",
        "\n",
        "\n",
        "#Setting transformers to encode then impute the data\n",
        "transformers = make_pipeline(\n",
        "    ce.OrdinalEncoder(), \n",
        "    SimpleImputer(strategy='median')\n",
        ")\n",
        "\n",
        "#Transforming the data\n",
        "X_train_transformed = transformers.fit_transform(X_train)\n",
        "X_val_transformed = transformers.transform(X_val)\n",
        "\n",
        "#Setting the model with hyperparameters set to optimal found above\n",
        "model = XGBClassifier(\n",
        "    n_estimators = 174, \n",
        "    max_depth=6, \n",
        "    learning_rate=0.1,\n",
        "    n_jobs=-1\n",
        ")\n",
        "#Fitting the data to the model\n",
        "model.fit(X_train_transformed, y_train)"
      ],
      "execution_count": 0,
      "outputs": [
        {
          "output_type": "execute_result",
          "data": {
            "text/plain": [
              "XGBClassifier(base_score=0.5, booster='gbtree', colsample_bylevel=1,\n",
              "              colsample_bynode=1, colsample_bytree=1, gamma=0,\n",
              "              learning_rate=0.1, max_delta_step=0, max_depth=6,\n",
              "              min_child_weight=1, missing=None, n_estimators=174, n_jobs=-1,\n",
              "              nthread=None, objective='binary:logistic', random_state=0,\n",
              "              reg_alpha=0, reg_lambda=1, scale_pos_weight=1, seed=None,\n",
              "              silent=None, subsample=1, verbosity=1)"
            ]
          },
          "metadata": {
            "tags": []
          },
          "execution_count": 69
        }
      ]
    },
    {
      "cell_type": "code",
      "metadata": {
        "id": "TPggMdSCkNzs",
        "colab_type": "code",
        "colab": {},
        "outputId": "fd750280-a5eb-4899-ff7e-a05bcb95f56e"
      },
      "source": [
        "import eli5\n",
        "from eli5.sklearn import PermutationImportance\n",
        "\n",
        "permuter = PermutationImportance(\n",
        "    model, \n",
        "    scoring='accuracy', \n",
        "    n_iter=10, \n",
        "    random_state=333\n",
        ")\n",
        "\n",
        "permuter.fit(X_val_transformed, y_val)"
      ],
      "execution_count": 0,
      "outputs": [
        {
          "output_type": "execute_result",
          "data": {
            "text/plain": [
              "PermutationImportance(cv='prefit',\n",
              "                      estimator=XGBClassifier(base_score=0.5, booster='gbtree',\n",
              "                                              colsample_bylevel=1,\n",
              "                                              colsample_bynode=1,\n",
              "                                              colsample_bytree=1, gamma=0,\n",
              "                                              learning_rate=0.1,\n",
              "                                              max_delta_step=0, max_depth=6,\n",
              "                                              min_child_weight=1, missing=None,\n",
              "                                              n_estimators=174, n_jobs=-1,\n",
              "                                              nthread=None,\n",
              "                                              objective='binary:logistic',\n",
              "                                              random_state=0, reg_alpha=0,\n",
              "                                              reg_lambda=1, scale_pos_weight=1,\n",
              "                                              seed=None, silent=None,\n",
              "                                              subsample=1, verbosity=1),\n",
              "                      n_iter=10, random_state=333, refit=True,\n",
              "                      scoring='accuracy')"
            ]
          },
          "metadata": {
            "tags": []
          },
          "execution_count": 70
        }
      ]
    },
    {
      "cell_type": "code",
      "metadata": {
        "id": "r66nqpiYkNz1",
        "colab_type": "code",
        "colab": {},
        "outputId": "bf1ed7b3-e128-45d8-e81b-aff6e420c9ef"
      },
      "source": [
        "feature_names = X_val.columns.tolist()\n",
        "pd.Series(permuter.feature_importances_, feature_names).sort_values(ascending=False)"
      ],
      "execution_count": 0,
      "outputs": [
        {
          "output_type": "execute_result",
          "data": {
            "text/plain": [
              "hour                0.046095\n",
              "lat                 0.026938\n",
              "reason_for_stop     0.024476\n",
              "lng                 0.021645\n",
              "precinct            0.006420\n",
              "day_of_week         0.005832\n",
              "month               0.003631\n",
              "subject_sex         0.003192\n",
              "subject_race        0.002910\n",
              "lat_MISSING         0.002454\n",
              "day                 0.001878\n",
              "time                0.001471\n",
              "precinct_MISSING    0.001198\n",
              "minute              0.000572\n",
              "time_MISSING        0.000008\n",
              "lng_MISSING         0.000000\n",
              "zone_MISSING        0.000000\n",
              "zone               -0.000568\n",
              "dtype: float64"
            ]
          },
          "metadata": {
            "tags": []
          },
          "execution_count": 71
        }
      ]
    },
    {
      "cell_type": "markdown",
      "metadata": {
        "id": "RMxExe3YkNz3",
        "colab_type": "text"
      },
      "source": [
        "### So the most important factor in determining if you will be given a citation or arrested vs let off with a warning is the hour of the day, followed by the latitude, THEN the reason for the stop.\n",
        "\n",
        "looking at this, it becomes apparent I need more features"
      ]
    },
    {
      "cell_type": "code",
      "metadata": {
        "id": "maplrd2nkNz4",
        "colab_type": "code",
        "colab": {},
        "outputId": "81033724-cc31-4b1a-e948-ae48b023f87c"
      },
      "source": [
        "eli5.show_weights(\n",
        "    permuter, \n",
        "    top=None, # to show all features\n",
        "    feature_names=feature_names\n",
        ")"
      ],
      "execution_count": 0,
      "outputs": [
        {
          "output_type": "execute_result",
          "data": {
            "text/html": [
              "\n",
              "    <style>\n",
              "    table.eli5-weights tr:hover {\n",
              "        filter: brightness(85%);\n",
              "    }\n",
              "</style>\n",
              "\n",
              "\n",
              "\n",
              "    \n",
              "\n",
              "    \n",
              "\n",
              "    \n",
              "\n",
              "    \n",
              "\n",
              "    \n",
              "\n",
              "    \n",
              "\n",
              "\n",
              "    \n",
              "\n",
              "    \n",
              "\n",
              "    \n",
              "\n",
              "    \n",
              "\n",
              "    \n",
              "\n",
              "    \n",
              "\n",
              "\n",
              "    \n",
              "\n",
              "    \n",
              "\n",
              "    \n",
              "\n",
              "    \n",
              "\n",
              "    \n",
              "        <table class=\"eli5-weights eli5-feature-importances\" style=\"border-collapse: collapse; border: none; margin-top: 0em; table-layout: auto;\">\n",
              "    <thead>\n",
              "    <tr style=\"border: none;\">\n",
              "        <th style=\"padding: 0 1em 0 0.5em; text-align: right; border: none;\">Weight</th>\n",
              "        <th style=\"padding: 0 0.5em 0 0.5em; text-align: left; border: none;\">Feature</th>\n",
              "    </tr>\n",
              "    </thead>\n",
              "    <tbody>\n",
              "    \n",
              "        <tr style=\"background-color: hsl(120, 100.00%, 80.00%); border: none;\">\n",
              "            <td style=\"padding: 0 1em 0 0.5em; text-align: right; border: none;\">\n",
              "                0.0461\n",
              "                \n",
              "                    &plusmn; 0.0034\n",
              "                \n",
              "            </td>\n",
              "            <td style=\"padding: 0 0.5em 0 0.5em; text-align: left; border: none;\">\n",
              "                hour\n",
              "            </td>\n",
              "        </tr>\n",
              "    \n",
              "        <tr style=\"background-color: hsl(120, 100.00%, 86.27%); border: none;\">\n",
              "            <td style=\"padding: 0 1em 0 0.5em; text-align: right; border: none;\">\n",
              "                0.0269\n",
              "                \n",
              "                    &plusmn; 0.0028\n",
              "                \n",
              "            </td>\n",
              "            <td style=\"padding: 0 0.5em 0 0.5em; text-align: left; border: none;\">\n",
              "                lat\n",
              "            </td>\n",
              "        </tr>\n",
              "    \n",
              "        <tr style=\"background-color: hsl(120, 100.00%, 87.16%); border: none;\">\n",
              "            <td style=\"padding: 0 1em 0 0.5em; text-align: right; border: none;\">\n",
              "                0.0245\n",
              "                \n",
              "                    &plusmn; 0.0026\n",
              "                \n",
              "            </td>\n",
              "            <td style=\"padding: 0 0.5em 0 0.5em; text-align: left; border: none;\">\n",
              "                reason_for_stop\n",
              "            </td>\n",
              "        </tr>\n",
              "    \n",
              "        <tr style=\"background-color: hsl(120, 100.00%, 88.22%); border: none;\">\n",
              "            <td style=\"padding: 0 1em 0 0.5em; text-align: right; border: none;\">\n",
              "                0.0216\n",
              "                \n",
              "                    &plusmn; 0.0039\n",
              "                \n",
              "            </td>\n",
              "            <td style=\"padding: 0 0.5em 0 0.5em; text-align: left; border: none;\">\n",
              "                lng\n",
              "            </td>\n",
              "        </tr>\n",
              "    \n",
              "        <tr style=\"background-color: hsl(120, 100.00%, 94.97%); border: none;\">\n",
              "            <td style=\"padding: 0 1em 0 0.5em; text-align: right; border: none;\">\n",
              "                0.0064\n",
              "                \n",
              "                    &plusmn; 0.0018\n",
              "                \n",
              "            </td>\n",
              "            <td style=\"padding: 0 0.5em 0 0.5em; text-align: left; border: none;\">\n",
              "                precinct\n",
              "            </td>\n",
              "        </tr>\n",
              "    \n",
              "        <tr style=\"background-color: hsl(120, 100.00%, 95.30%); border: none;\">\n",
              "            <td style=\"padding: 0 1em 0 0.5em; text-align: right; border: none;\">\n",
              "                0.0058\n",
              "                \n",
              "                    &plusmn; 0.0021\n",
              "                \n",
              "            </td>\n",
              "            <td style=\"padding: 0 0.5em 0 0.5em; text-align: left; border: none;\">\n",
              "                day_of_week\n",
              "            </td>\n",
              "        </tr>\n",
              "    \n",
              "        <tr style=\"background-color: hsl(120, 100.00%, 96.62%); border: none;\">\n",
              "            <td style=\"padding: 0 1em 0 0.5em; text-align: right; border: none;\">\n",
              "                0.0036\n",
              "                \n",
              "                    &plusmn; 0.0023\n",
              "                \n",
              "            </td>\n",
              "            <td style=\"padding: 0 0.5em 0 0.5em; text-align: left; border: none;\">\n",
              "                month\n",
              "            </td>\n",
              "        </tr>\n",
              "    \n",
              "        <tr style=\"background-color: hsl(120, 100.00%, 96.91%); border: none;\">\n",
              "            <td style=\"padding: 0 1em 0 0.5em; text-align: right; border: none;\">\n",
              "                0.0032\n",
              "                \n",
              "                    &plusmn; 0.0015\n",
              "                \n",
              "            </td>\n",
              "            <td style=\"padding: 0 0.5em 0 0.5em; text-align: left; border: none;\">\n",
              "                subject_sex\n",
              "            </td>\n",
              "        </tr>\n",
              "    \n",
              "        <tr style=\"background-color: hsl(120, 100.00%, 97.11%); border: none;\">\n",
              "            <td style=\"padding: 0 1em 0 0.5em; text-align: right; border: none;\">\n",
              "                0.0029\n",
              "                \n",
              "                    &plusmn; 0.0016\n",
              "                \n",
              "            </td>\n",
              "            <td style=\"padding: 0 0.5em 0 0.5em; text-align: left; border: none;\">\n",
              "                subject_race\n",
              "            </td>\n",
              "        </tr>\n",
              "    \n",
              "        <tr style=\"background-color: hsl(120, 100.00%, 97.43%); border: none;\">\n",
              "            <td style=\"padding: 0 1em 0 0.5em; text-align: right; border: none;\">\n",
              "                0.0025\n",
              "                \n",
              "                    &plusmn; 0.0013\n",
              "                \n",
              "            </td>\n",
              "            <td style=\"padding: 0 0.5em 0 0.5em; text-align: left; border: none;\">\n",
              "                lat_MISSING\n",
              "            </td>\n",
              "        </tr>\n",
              "    \n",
              "        <tr style=\"background-color: hsl(120, 100.00%, 97.87%); border: none;\">\n",
              "            <td style=\"padding: 0 1em 0 0.5em; text-align: right; border: none;\">\n",
              "                0.0019\n",
              "                \n",
              "                    &plusmn; 0.0014\n",
              "                \n",
              "            </td>\n",
              "            <td style=\"padding: 0 0.5em 0 0.5em; text-align: left; border: none;\">\n",
              "                day\n",
              "            </td>\n",
              "        </tr>\n",
              "    \n",
              "        <tr style=\"background-color: hsl(120, 100.00%, 98.21%); border: none;\">\n",
              "            <td style=\"padding: 0 1em 0 0.5em; text-align: right; border: none;\">\n",
              "                0.0015\n",
              "                \n",
              "                    &plusmn; 0.0010\n",
              "                \n",
              "            </td>\n",
              "            <td style=\"padding: 0 0.5em 0 0.5em; text-align: left; border: none;\">\n",
              "                time\n",
              "            </td>\n",
              "        </tr>\n",
              "    \n",
              "        <tr style=\"background-color: hsl(120, 100.00%, 98.45%); border: none;\">\n",
              "            <td style=\"padding: 0 1em 0 0.5em; text-align: right; border: none;\">\n",
              "                0.0012\n",
              "                \n",
              "                    &plusmn; 0.0014\n",
              "                \n",
              "            </td>\n",
              "            <td style=\"padding: 0 0.5em 0 0.5em; text-align: left; border: none;\">\n",
              "                precinct_MISSING\n",
              "            </td>\n",
              "        </tr>\n",
              "    \n",
              "        <tr style=\"background-color: hsl(120, 100.00%, 99.07%); border: none;\">\n",
              "            <td style=\"padding: 0 1em 0 0.5em; text-align: right; border: none;\">\n",
              "                0.0006\n",
              "                \n",
              "                    &plusmn; 0.0012\n",
              "                \n",
              "            </td>\n",
              "            <td style=\"padding: 0 0.5em 0 0.5em; text-align: left; border: none;\">\n",
              "                minute\n",
              "            </td>\n",
              "        </tr>\n",
              "    \n",
              "        <tr style=\"background-color: hsl(120, 100.00%, 99.95%); border: none;\">\n",
              "            <td style=\"padding: 0 1em 0 0.5em; text-align: right; border: none;\">\n",
              "                0.0000\n",
              "                \n",
              "                    &plusmn; 0.0001\n",
              "                \n",
              "            </td>\n",
              "            <td style=\"padding: 0 0.5em 0 0.5em; text-align: left; border: none;\">\n",
              "                time_MISSING\n",
              "            </td>\n",
              "        </tr>\n",
              "    \n",
              "        <tr style=\"background-color: hsl(0, 100.00%, 100.00%); border: none;\">\n",
              "            <td style=\"padding: 0 1em 0 0.5em; text-align: right; border: none;\">\n",
              "                0\n",
              "                \n",
              "                    &plusmn; 0.0000\n",
              "                \n",
              "            </td>\n",
              "            <td style=\"padding: 0 0.5em 0 0.5em; text-align: left; border: none;\">\n",
              "                lng_MISSING\n",
              "            </td>\n",
              "        </tr>\n",
              "    \n",
              "        <tr style=\"background-color: hsl(0, 100.00%, 100.00%); border: none;\">\n",
              "            <td style=\"padding: 0 1em 0 0.5em; text-align: right; border: none;\">\n",
              "                0\n",
              "                \n",
              "                    &plusmn; 0.0000\n",
              "                \n",
              "            </td>\n",
              "            <td style=\"padding: 0 0.5em 0 0.5em; text-align: left; border: none;\">\n",
              "                zone_MISSING\n",
              "            </td>\n",
              "        </tr>\n",
              "    \n",
              "        <tr style=\"background-color: hsl(0, 100.00%, 99.08%); border: none;\">\n",
              "            <td style=\"padding: 0 1em 0 0.5em; text-align: right; border: none;\">\n",
              "                -0.0006\n",
              "                \n",
              "                    &plusmn; 0.0015\n",
              "                \n",
              "            </td>\n",
              "            <td style=\"padding: 0 0.5em 0 0.5em; text-align: left; border: none;\">\n",
              "                zone\n",
              "            </td>\n",
              "        </tr>\n",
              "    \n",
              "    \n",
              "    </tbody>\n",
              "</table>\n",
              "    \n",
              "\n",
              "    \n",
              "\n",
              "\n",
              "    \n",
              "\n",
              "    \n",
              "\n",
              "    \n",
              "\n",
              "    \n",
              "\n",
              "    \n",
              "\n",
              "    \n",
              "\n",
              "\n",
              "\n"
            ],
            "text/plain": [
              "<IPython.core.display.HTML object>"
            ]
          },
          "metadata": {
            "tags": []
          },
          "execution_count": 72
        }
      ]
    },
    {
      "cell_type": "markdown",
      "metadata": {
        "id": "0s6mXcV9kNz6",
        "colab_type": "text"
      },
      "source": [
        "# Assignment 3"
      ]
    },
    {
      "cell_type": "markdown",
      "metadata": {
        "id": "w2zXJHrhkNz7",
        "colab_type": "text"
      },
      "source": [
        "Lambda School Data Science\n",
        "\n",
        "*Unit 2, Sprint 3, Module 3*\n",
        "\n",
        "---\n",
        "\n",
        "\n",
        "# Applied Modeling, Module 3\n",
        "\n",
        "You will use your portfolio project dataset for all assignments this sprint.\n",
        "\n",
        "## Assignment\n",
        "\n",
        "Complete these tasks for your project, and document your work.\n",
        "\n",
        "- [ ] Continue to iterate on your project: data cleaning, exploration, feature engineering, modeling.\n",
        "- [ ] Make at least 1 partial dependence plot to explain your model.\n",
        "- [ ] Share at least 1 visualization on Slack.\n",
        "\n",
        "(If you have not yet completed an initial model yet for your portfolio project, then do today's assignment using your Tanzania Waterpumps model.)\n",
        "\n",
        "## Stretch Goals\n",
        "- [ ] Make multiple PDPs with 1 feature in isolation.\n",
        "- [ ] Make multiple PDPs with 2 features in interaction. \n",
        "- [ ] Use Plotly to make a 3D PDP.\n",
        "- [ ] Make PDPs with categorical feature(s). Use Ordinal Encoder, outside of a pipeline, to encode your data first. If there is a natural ordering, then take the time to encode it that way, instead of random integers. Then use the encoded data with pdpbox. Get readable category names on your plot, instead of integer category codes.\n",
        "\n",
        "## Links\n",
        "- [Christoph Molnar: Interpretable Machine Learning — Partial Dependence Plots](https://christophm.github.io/interpretable-ml-book/pdp.html) + [animated explanation](https://twitter.com/ChristophMolnar/status/1066398522608635904)\n",
        "- [Kaggle / Dan Becker: Machine Learning Explainability — Partial Dependence Plots](https://www.kaggle.com/dansbecker/partial-plots)\n",
        "- [Plotly: 3D PDP example](https://plot.ly/scikit-learn/plot-partial-dependence/#partial-dependence-of-house-value-on-median-age-and-average-occupancy)"
      ]
    },
    {
      "cell_type": "markdown",
      "metadata": {
        "id": "VjWUsvRYkNz8",
        "colab_type": "text"
      },
      "source": [
        "### Making partial dependence plot"
      ]
    },
    {
      "cell_type": "code",
      "metadata": {
        "id": "hfRdROSKkNz-",
        "colab_type": "code",
        "colab": {}
      },
      "source": [
        "target = 'outcome'\n",
        "features = my_val.drop(columns=['outcome','date']).columns\n",
        "\n",
        "\n",
        "X_train = my_train[features]\n",
        "y_train = my_train[target]\n",
        "\n",
        "X_val = my_val[features]\n",
        "y_val = my_val[target]\n",
        "\n",
        "X_test = test[features]\n",
        "y_test = test[target]"
      ],
      "execution_count": 0,
      "outputs": []
    },
    {
      "cell_type": "code",
      "metadata": {
        "id": "AUi4IBeEkN0B",
        "colab_type": "code",
        "colab": {}
      },
      "source": [
        "encoder = ce.OrdinalEncoder()\n",
        "X_val_encoded = encoder.fit_transform(X_val)"
      ],
      "execution_count": 0,
      "outputs": []
    },
    {
      "cell_type": "code",
      "metadata": {
        "id": "c_L7sBZJkN0D",
        "colab_type": "code",
        "colab": {}
      },
      "source": [
        "model = XGBClassifier(\n",
        "    n_estimators = 174, \n",
        "    max_depth=6, \n",
        "    learning_rate=0.1,\n",
        "    n_jobs=-1\n",
        ")"
      ],
      "execution_count": 0,
      "outputs": []
    },
    {
      "cell_type": "code",
      "metadata": {
        "id": "BhYaEtQUkN0G",
        "colab_type": "code",
        "colab": {},
        "outputId": "88e60f52-eae1-448d-a511-0298dcdc1e5a"
      },
      "source": [
        "model.fit(X_val_encoded, y_val)"
      ],
      "execution_count": 0,
      "outputs": [
        {
          "output_type": "execute_result",
          "data": {
            "text/plain": [
              "XGBClassifier(base_score=0.5, booster='gbtree', colsample_bylevel=1,\n",
              "              colsample_bynode=1, colsample_bytree=1, gamma=0,\n",
              "              learning_rate=0.1, max_delta_step=0, max_depth=6,\n",
              "              min_child_weight=1, missing=None, n_estimators=174, n_jobs=-1,\n",
              "              nthread=None, objective='binary:logistic', random_state=0,\n",
              "              reg_alpha=0, reg_lambda=1, scale_pos_weight=1, seed=None,\n",
              "              silent=None, subsample=1, verbosity=1)"
            ]
          },
          "metadata": {
            "tags": []
          },
          "execution_count": 110
        }
      ]
    },
    {
      "cell_type": "code",
      "metadata": {
        "id": "-EQoqzKdkN0I",
        "colab_type": "code",
        "colab": {},
        "outputId": "51765d7d-372c-4c84-d624-a77042446653"
      },
      "source": [
        "from pdpbox.pdp import pdp_interact, pdp_interact_plot, pdp_isolate\n",
        "from pdpbox import pdp\n",
        "\n",
        "feature = 'day_of_week'\n",
        "\n",
        "pdp_dist = pdp.pdp_isolate(model=model,\n",
        "                           dataset=X_val_encoded,\n",
        "                           model_features = features,\n",
        "                           feature=feature)\n",
        "pdp.pdp_plot(pdp_dist,feature)"
      ],
      "execution_count": 0,
      "outputs": [
        {
          "output_type": "execute_result",
          "data": {
            "text/plain": [
              "(<Figure size 1080x684 with 2 Axes>,\n",
              " {'title_ax': <matplotlib.axes._subplots.AxesSubplot at 0x14f916c8>,\n",
              "  'pdp_ax': <matplotlib.axes._subplots.AxesSubplot at 0x14fc5dc8>})"
            ]
          },
          "metadata": {
            "tags": []
          },
          "execution_count": 116
        },
        {
          "output_type": "display_data",
          "data": {
            "image/png": "[encoded data removed]",
            "text/plain": [
              "<Figure size 1080x684 with 2 Axes>"
            ]
          },
          "metadata": {
            "tags": [],
            "needs_background": "light"
          }
        }
      ]
    },
    {
      "cell_type": "code",
      "metadata": {
        "id": "EFhZFUpXkN0K",
        "colab_type": "code",
        "colab": {},
        "outputId": "e8a35168-bf31-48e4-896d-959c3339308f"
      },
      "source": [
        "feature = 'month'\n",
        "\n",
        "pdp_dist = pdp.pdp_isolate(model=model,\n",
        "                           dataset=X_val_encoded,\n",
        "                           model_features = features,\n",
        "                           feature=feature)\n",
        "pdp.pdp_plot(pdp_dist,feature)"
      ],
      "execution_count": 0,
      "outputs": [
        {
          "output_type": "execute_result",
          "data": {
            "text/plain": [
              "(<Figure size 1080x684 with 2 Axes>,\n",
              " {'title_ax': <matplotlib.axes._subplots.AxesSubplot at 0xe967448>,\n",
              "  'pdp_ax': <matplotlib.axes._subplots.AxesSubplot at 0x133772c8>})"
            ]
          },
          "metadata": {
            "tags": []
          },
          "execution_count": 119
        },
        {
          "output_type": "display_data",
          "data": {
            "image/png": "[encoded data removed]",
            "text/plain": [
              "<Figure size 1080x684 with 2 Axes>"
            ]
          },
          "metadata": {
            "tags": [],
            "needs_background": "light"
          }
        }
      ]
    },
    {
      "cell_type": "markdown",
      "metadata": {
        "id": "eK4uv6VUkN0N",
        "colab_type": "text"
      },
      "source": [
        "### Multiple features\n"
      ]
    },
    {
      "cell_type": "code",
      "metadata": {
        "id": "hkQDcPltkN0N",
        "colab_type": "code",
        "colab": {},
        "outputId": "d0754115-19b8-46f5-90a2-836981d20d3f"
      },
      "source": [
        "features = ['day_of_week', 'month']\n",
        "\n",
        "interaction = pdp_interact(\n",
        "    model=model, \n",
        "    dataset=X_val_encoded, \n",
        "    model_features=X_val_encoded.columns, \n",
        "    features=features\n",
        ")\n",
        "\n",
        "pdp_interact_plot(interaction, plot_type='grid', feature_names=features)\n"
      ],
      "execution_count": 0,
      "outputs": [
        {
          "output_type": "execute_result",
          "data": {
            "text/plain": [
              "(<Figure size 540x684 with 3 Axes>,\n",
              " {'title_ax': <matplotlib.axes._subplots.AxesSubplot at 0x128acfc8>,\n",
              "  'pdp_inter_ax': <matplotlib.axes._subplots.AxesSubplot at 0x137b1888>})"
            ]
          },
          "metadata": {
            "tags": []
          },
          "execution_count": 130
        },
        {
          "output_type": "display_data",
          "data": {
            "image/png": "[encoded data removed]",
            "text/plain": [
              "<Figure size 540x684 with 3 Axes>"
            ]
          },
          "metadata": {
            "tags": [],
            "needs_background": "light"
          }
        }
      ]
    },
    {
      "cell_type": "code",
      "metadata": {
        "id": "qwy4VeABkN0Q",
        "colab_type": "code",
        "colab": {}
      },
      "source": [
        ""
      ],
      "execution_count": 0,
      "outputs": []
    }
  ]
}